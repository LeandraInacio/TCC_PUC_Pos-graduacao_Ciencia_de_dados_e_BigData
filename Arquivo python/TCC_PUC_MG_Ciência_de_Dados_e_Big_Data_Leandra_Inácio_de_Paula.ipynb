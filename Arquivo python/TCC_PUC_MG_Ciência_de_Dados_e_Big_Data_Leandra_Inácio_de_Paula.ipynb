{
  "nbformat": 4,
  "nbformat_minor": 0,
  "metadata": {
    "colab": {
      "provenance": []
    },
    "kernelspec": {
      "name": "python3",
      "display_name": "Python 3"
    },
    "language_info": {
      "name": "python"
    }
  },
  "cells": [
    {
      "cell_type": "markdown",
      "source": [
        "ANÁLISE DA PROBABILIDADE DE UM ALUNO DE ENSINO BÁSICO TER FUMADO AO MENOS UMA VEZ EM RELAÇÃO A DADOS SOCIAIS APRESENTADOS"
      ],
      "metadata": {
        "id": "hrg_nQgcJ695"
      }
    },
    {
      "cell_type": "markdown",
      "source": [
        "----------------------------------------------------------------"
      ],
      "metadata": {
        "id": "QuLpk2zDJ4lw"
      }
    },
    {
      "cell_type": "markdown",
      "source": [
        "1.0 - TRATAMENTOS E PADRONIZAÇÃO DA BASE DE DADOS "
      ],
      "metadata": {
        "id": "j1-UwsaNfspK"
      }
    },
    {
      "cell_type": "markdown",
      "source": [
        "1.1 - Importação das bibliotecas"
      ],
      "metadata": {
        "id": "azjogN1ah8Hn"
      }
    },
    {
      "cell_type": "code",
      "source": [
        "!pip install plotly --upgrade"
      ],
      "metadata": {
        "colab": {
          "base_uri": "https://localhost:8080/"
        },
        "id": "hkCMQVf1iiMv",
        "outputId": "7954d0da-ae8f-4b81-c625-4792a77802c1"
      },
      "execution_count": 1,
      "outputs": [
        {
          "output_type": "stream",
          "name": "stdout",
          "text": [
            "Looking in indexes: https://pypi.org/simple, https://us-python.pkg.dev/colab-wheels/public/simple/\n",
            "Requirement already satisfied: plotly in /usr/local/lib/python3.8/dist-packages (5.5.0)\n",
            "Collecting plotly\n",
            "  Downloading plotly-5.11.0-py2.py3-none-any.whl (15.3 MB)\n",
            "\u001b[K     |████████████████████████████████| 15.3 MB 9.4 MB/s \n",
            "\u001b[?25hRequirement already satisfied: tenacity>=6.2.0 in /usr/local/lib/python3.8/dist-packages (from plotly) (8.1.0)\n",
            "Installing collected packages: plotly\n",
            "  Attempting uninstall: plotly\n",
            "    Found existing installation: plotly 5.5.0\n",
            "    Uninstalling plotly-5.5.0:\n",
            "      Successfully uninstalled plotly-5.5.0\n",
            "Successfully installed plotly-5.11.0\n"
          ]
        }
      ]
    },
    {
      "cell_type": "code",
      "source": [
        "!pip install unidecode"
      ],
      "metadata": {
        "colab": {
          "base_uri": "https://localhost:8080/"
        },
        "id": "RMDGEI2yGiCW",
        "outputId": "a0e50172-4867-4e86-ba4a-b962c723e073"
      },
      "execution_count": 2,
      "outputs": [
        {
          "output_type": "stream",
          "name": "stdout",
          "text": [
            "Looking in indexes: https://pypi.org/simple, https://us-python.pkg.dev/colab-wheels/public/simple/\n",
            "Collecting unidecode\n",
            "  Downloading Unidecode-1.3.6-py3-none-any.whl (235 kB)\n",
            "\u001b[K     |████████████████████████████████| 235 kB 7.4 MB/s \n",
            "\u001b[?25hInstalling collected packages: unidecode\n",
            "Successfully installed unidecode-1.3.6\n"
          ]
        }
      ]
    },
    {
      "cell_type": "code",
      "source": [
        "import pandas as pd\n",
        "import json\n",
        "from pandas import json_normalize\n",
        "import numpy as np\n",
        "import seaborn as sns\n",
        "import matplotlib.pyplot as plt\n",
        "import plotly.express as px\n",
        "import unidecode \n",
        "import unicodedata"
      ],
      "metadata": {
        "id": "gRgf9qOEfx9g"
      },
      "execution_count": 3,
      "outputs": []
    },
    {
      "cell_type": "markdown",
      "source": [
        "1.2 - importação da base de dados principal"
      ],
      "metadata": {
        "id": "WMYubd3JLXru"
      }
    },
    {
      "cell_type": "code",
      "source": [
        "base = pd.read_csv('/content/PENSE2019_MICRODADOS.csv')\n",
        "base.head(10)"
      ],
      "metadata": {
        "colab": {
          "base_uri": "https://localhost:8080/",
          "height": 456
        },
        "id": "N71-zAA6huRv",
        "outputId": "974eafeb-6aff-4261-f48d-2fd929a820ef"
      },
      "execution_count": null,
      "outputs": [
        {
          "output_type": "execute_result",
          "data": {
            "text/plain": [
              "   REGIAO  UF  MUNICIPIO_CAP  TIPO_MUNIC  SITUACAO  DEP_ADMIN  ESFERA  ESCOLA  \\\n",
              "0       1  11              0         2.0       1.0        2.0     4.0       4   \n",
              "1       1  11              0         2.0       1.0        2.0     4.0      23   \n",
              "2       1  11              0         2.0       1.0        2.0     4.0       2   \n",
              "3       1  11              0         2.0       1.0        2.0     4.0      18   \n",
              "4       1  11              0         2.0       2.0        2.0     4.0       8   \n",
              "5       1  11              0         2.0       1.0        2.0     4.0      22   \n",
              "6       1  11              0         2.0       1.0        2.0     4.0       3   \n",
              "7       1  11              0         2.0       1.0        2.0     4.0      17   \n",
              "8       1  11              0         2.0       1.0        2.0     4.0       2   \n",
              "9       1  11              0         2.0       1.0        2.0     4.0      17   \n",
              "\n",
              "   TURMA  ALUNO  ...  E01P65A  E01P66A  E01P26A  E01P27A  ESTRATO  \\\n",
              "0      1     21  ...      2.0      2.0      4.0      2.0     1101   \n",
              "1      1      9  ...      1.0      2.0      4.0      2.0     1101   \n",
              "2      1      3  ...      2.0      1.0      4.0      2.0     1101   \n",
              "3      1     19  ...      2.0      2.0      4.0      2.0     1101   \n",
              "4      1      2  ...      1.0      1.0      4.0      2.0     1101   \n",
              "5      1      2  ...      1.0      2.0      4.0      2.0     1101   \n",
              "6      1     18  ...      2.0      1.0      4.0      2.0     1101   \n",
              "7      1      7  ...      2.0      2.0      4.0      2.0     1101   \n",
              "8      1      9  ...      2.0      1.0      4.0      2.0     1101   \n",
              "9      1      3  ...      2.0      2.0      4.0      2.0     1101   \n",
              "\n",
              "   IND_EXPANSAO  PESO_ALUNO_FREQ  PESO_INICIAL       POSEST  TOTAIS_POSEST  \n",
              "0             1         4.361431      3.409091  1100000PRI1           1767  \n",
              "1             1         3.838060      3.000000  1100000PRI1           1767  \n",
              "2             1         2.934987      2.294118  1100000PRI1           1767  \n",
              "3             1         4.786546      3.741379  1100000PRI1           1767  \n",
              "4             1         4.535889      3.545455  1100000PRI1           1767  \n",
              "5             1         2.771932      2.166667  1100000PRI1           1767  \n",
              "6             1         7.164378      5.600000  1100000PRI1           1767  \n",
              "7             1         2.771932      2.166667  1100000PRI1           1767  \n",
              "8             1         2.934987      2.294118  1100000PRI1           1767  \n",
              "9             1         2.771932      2.166667  1100000PRI1           1767  \n",
              "\n",
              "[10 rows x 306 columns]"
            ],
            "text/html": [
              "\n",
              "  <div id=\"df-968561f6-af21-4226-a28c-a3b648d653ff\">\n",
              "    <div class=\"colab-df-container\">\n",
              "      <div>\n",
              "<style scoped>\n",
              "    .dataframe tbody tr th:only-of-type {\n",
              "        vertical-align: middle;\n",
              "    }\n",
              "\n",
              "    .dataframe tbody tr th {\n",
              "        vertical-align: top;\n",
              "    }\n",
              "\n",
              "    .dataframe thead th {\n",
              "        text-align: right;\n",
              "    }\n",
              "</style>\n",
              "<table border=\"1\" class=\"dataframe\">\n",
              "  <thead>\n",
              "    <tr style=\"text-align: right;\">\n",
              "      <th></th>\n",
              "      <th>REGIAO</th>\n",
              "      <th>UF</th>\n",
              "      <th>MUNICIPIO_CAP</th>\n",
              "      <th>TIPO_MUNIC</th>\n",
              "      <th>SITUACAO</th>\n",
              "      <th>DEP_ADMIN</th>\n",
              "      <th>ESFERA</th>\n",
              "      <th>ESCOLA</th>\n",
              "      <th>TURMA</th>\n",
              "      <th>ALUNO</th>\n",
              "      <th>...</th>\n",
              "      <th>E01P65A</th>\n",
              "      <th>E01P66A</th>\n",
              "      <th>E01P26A</th>\n",
              "      <th>E01P27A</th>\n",
              "      <th>ESTRATO</th>\n",
              "      <th>IND_EXPANSAO</th>\n",
              "      <th>PESO_ALUNO_FREQ</th>\n",
              "      <th>PESO_INICIAL</th>\n",
              "      <th>POSEST</th>\n",
              "      <th>TOTAIS_POSEST</th>\n",
              "    </tr>\n",
              "  </thead>\n",
              "  <tbody>\n",
              "    <tr>\n",
              "      <th>0</th>\n",
              "      <td>1</td>\n",
              "      <td>11</td>\n",
              "      <td>0</td>\n",
              "      <td>2.0</td>\n",
              "      <td>1.0</td>\n",
              "      <td>2.0</td>\n",
              "      <td>4.0</td>\n",
              "      <td>4</td>\n",
              "      <td>1</td>\n",
              "      <td>21</td>\n",
              "      <td>...</td>\n",
              "      <td>2.0</td>\n",
              "      <td>2.0</td>\n",
              "      <td>4.0</td>\n",
              "      <td>2.0</td>\n",
              "      <td>1101</td>\n",
              "      <td>1</td>\n",
              "      <td>4.361431</td>\n",
              "      <td>3.409091</td>\n",
              "      <td>1100000PRI1</td>\n",
              "      <td>1767</td>\n",
              "    </tr>\n",
              "    <tr>\n",
              "      <th>1</th>\n",
              "      <td>1</td>\n",
              "      <td>11</td>\n",
              "      <td>0</td>\n",
              "      <td>2.0</td>\n",
              "      <td>1.0</td>\n",
              "      <td>2.0</td>\n",
              "      <td>4.0</td>\n",
              "      <td>23</td>\n",
              "      <td>1</td>\n",
              "      <td>9</td>\n",
              "      <td>...</td>\n",
              "      <td>1.0</td>\n",
              "      <td>2.0</td>\n",
              "      <td>4.0</td>\n",
              "      <td>2.0</td>\n",
              "      <td>1101</td>\n",
              "      <td>1</td>\n",
              "      <td>3.838060</td>\n",
              "      <td>3.000000</td>\n",
              "      <td>1100000PRI1</td>\n",
              "      <td>1767</td>\n",
              "    </tr>\n",
              "    <tr>\n",
              "      <th>2</th>\n",
              "      <td>1</td>\n",
              "      <td>11</td>\n",
              "      <td>0</td>\n",
              "      <td>2.0</td>\n",
              "      <td>1.0</td>\n",
              "      <td>2.0</td>\n",
              "      <td>4.0</td>\n",
              "      <td>2</td>\n",
              "      <td>1</td>\n",
              "      <td>3</td>\n",
              "      <td>...</td>\n",
              "      <td>2.0</td>\n",
              "      <td>1.0</td>\n",
              "      <td>4.0</td>\n",
              "      <td>2.0</td>\n",
              "      <td>1101</td>\n",
              "      <td>1</td>\n",
              "      <td>2.934987</td>\n",
              "      <td>2.294118</td>\n",
              "      <td>1100000PRI1</td>\n",
              "      <td>1767</td>\n",
              "    </tr>\n",
              "    <tr>\n",
              "      <th>3</th>\n",
              "      <td>1</td>\n",
              "      <td>11</td>\n",
              "      <td>0</td>\n",
              "      <td>2.0</td>\n",
              "      <td>1.0</td>\n",
              "      <td>2.0</td>\n",
              "      <td>4.0</td>\n",
              "      <td>18</td>\n",
              "      <td>1</td>\n",
              "      <td>19</td>\n",
              "      <td>...</td>\n",
              "      <td>2.0</td>\n",
              "      <td>2.0</td>\n",
              "      <td>4.0</td>\n",
              "      <td>2.0</td>\n",
              "      <td>1101</td>\n",
              "      <td>1</td>\n",
              "      <td>4.786546</td>\n",
              "      <td>3.741379</td>\n",
              "      <td>1100000PRI1</td>\n",
              "      <td>1767</td>\n",
              "    </tr>\n",
              "    <tr>\n",
              "      <th>4</th>\n",
              "      <td>1</td>\n",
              "      <td>11</td>\n",
              "      <td>0</td>\n",
              "      <td>2.0</td>\n",
              "      <td>2.0</td>\n",
              "      <td>2.0</td>\n",
              "      <td>4.0</td>\n",
              "      <td>8</td>\n",
              "      <td>1</td>\n",
              "      <td>2</td>\n",
              "      <td>...</td>\n",
              "      <td>1.0</td>\n",
              "      <td>1.0</td>\n",
              "      <td>4.0</td>\n",
              "      <td>2.0</td>\n",
              "      <td>1101</td>\n",
              "      <td>1</td>\n",
              "      <td>4.535889</td>\n",
              "      <td>3.545455</td>\n",
              "      <td>1100000PRI1</td>\n",
              "      <td>1767</td>\n",
              "    </tr>\n",
              "    <tr>\n",
              "      <th>5</th>\n",
              "      <td>1</td>\n",
              "      <td>11</td>\n",
              "      <td>0</td>\n",
              "      <td>2.0</td>\n",
              "      <td>1.0</td>\n",
              "      <td>2.0</td>\n",
              "      <td>4.0</td>\n",
              "      <td>22</td>\n",
              "      <td>1</td>\n",
              "      <td>2</td>\n",
              "      <td>...</td>\n",
              "      <td>1.0</td>\n",
              "      <td>2.0</td>\n",
              "      <td>4.0</td>\n",
              "      <td>2.0</td>\n",
              "      <td>1101</td>\n",
              "      <td>1</td>\n",
              "      <td>2.771932</td>\n",
              "      <td>2.166667</td>\n",
              "      <td>1100000PRI1</td>\n",
              "      <td>1767</td>\n",
              "    </tr>\n",
              "    <tr>\n",
              "      <th>6</th>\n",
              "      <td>1</td>\n",
              "      <td>11</td>\n",
              "      <td>0</td>\n",
              "      <td>2.0</td>\n",
              "      <td>1.0</td>\n",
              "      <td>2.0</td>\n",
              "      <td>4.0</td>\n",
              "      <td>3</td>\n",
              "      <td>1</td>\n",
              "      <td>18</td>\n",
              "      <td>...</td>\n",
              "      <td>2.0</td>\n",
              "      <td>1.0</td>\n",
              "      <td>4.0</td>\n",
              "      <td>2.0</td>\n",
              "      <td>1101</td>\n",
              "      <td>1</td>\n",
              "      <td>7.164378</td>\n",
              "      <td>5.600000</td>\n",
              "      <td>1100000PRI1</td>\n",
              "      <td>1767</td>\n",
              "    </tr>\n",
              "    <tr>\n",
              "      <th>7</th>\n",
              "      <td>1</td>\n",
              "      <td>11</td>\n",
              "      <td>0</td>\n",
              "      <td>2.0</td>\n",
              "      <td>1.0</td>\n",
              "      <td>2.0</td>\n",
              "      <td>4.0</td>\n",
              "      <td>17</td>\n",
              "      <td>1</td>\n",
              "      <td>7</td>\n",
              "      <td>...</td>\n",
              "      <td>2.0</td>\n",
              "      <td>2.0</td>\n",
              "      <td>4.0</td>\n",
              "      <td>2.0</td>\n",
              "      <td>1101</td>\n",
              "      <td>1</td>\n",
              "      <td>2.771932</td>\n",
              "      <td>2.166667</td>\n",
              "      <td>1100000PRI1</td>\n",
              "      <td>1767</td>\n",
              "    </tr>\n",
              "    <tr>\n",
              "      <th>8</th>\n",
              "      <td>1</td>\n",
              "      <td>11</td>\n",
              "      <td>0</td>\n",
              "      <td>2.0</td>\n",
              "      <td>1.0</td>\n",
              "      <td>2.0</td>\n",
              "      <td>4.0</td>\n",
              "      <td>2</td>\n",
              "      <td>1</td>\n",
              "      <td>9</td>\n",
              "      <td>...</td>\n",
              "      <td>2.0</td>\n",
              "      <td>1.0</td>\n",
              "      <td>4.0</td>\n",
              "      <td>2.0</td>\n",
              "      <td>1101</td>\n",
              "      <td>1</td>\n",
              "      <td>2.934987</td>\n",
              "      <td>2.294118</td>\n",
              "      <td>1100000PRI1</td>\n",
              "      <td>1767</td>\n",
              "    </tr>\n",
              "    <tr>\n",
              "      <th>9</th>\n",
              "      <td>1</td>\n",
              "      <td>11</td>\n",
              "      <td>0</td>\n",
              "      <td>2.0</td>\n",
              "      <td>1.0</td>\n",
              "      <td>2.0</td>\n",
              "      <td>4.0</td>\n",
              "      <td>17</td>\n",
              "      <td>1</td>\n",
              "      <td>3</td>\n",
              "      <td>...</td>\n",
              "      <td>2.0</td>\n",
              "      <td>2.0</td>\n",
              "      <td>4.0</td>\n",
              "      <td>2.0</td>\n",
              "      <td>1101</td>\n",
              "      <td>1</td>\n",
              "      <td>2.771932</td>\n",
              "      <td>2.166667</td>\n",
              "      <td>1100000PRI1</td>\n",
              "      <td>1767</td>\n",
              "    </tr>\n",
              "  </tbody>\n",
              "</table>\n",
              "<p>10 rows × 306 columns</p>\n",
              "</div>\n",
              "      <button class=\"colab-df-convert\" onclick=\"convertToInteractive('df-968561f6-af21-4226-a28c-a3b648d653ff')\"\n",
              "              title=\"Convert this dataframe to an interactive table.\"\n",
              "              style=\"display:none;\">\n",
              "        \n",
              "  <svg xmlns=\"http://www.w3.org/2000/svg\" height=\"24px\"viewBox=\"0 0 24 24\"\n",
              "       width=\"24px\">\n",
              "    <path d=\"M0 0h24v24H0V0z\" fill=\"none\"/>\n",
              "    <path d=\"M18.56 5.44l.94 2.06.94-2.06 2.06-.94-2.06-.94-.94-2.06-.94 2.06-2.06.94zm-11 1L8.5 8.5l.94-2.06 2.06-.94-2.06-.94L8.5 2.5l-.94 2.06-2.06.94zm10 10l.94 2.06.94-2.06 2.06-.94-2.06-.94-.94-2.06-.94 2.06-2.06.94z\"/><path d=\"M17.41 7.96l-1.37-1.37c-.4-.4-.92-.59-1.43-.59-.52 0-1.04.2-1.43.59L10.3 9.45l-7.72 7.72c-.78.78-.78 2.05 0 2.83L4 21.41c.39.39.9.59 1.41.59.51 0 1.02-.2 1.41-.59l7.78-7.78 2.81-2.81c.8-.78.8-2.07 0-2.86zM5.41 20L4 18.59l7.72-7.72 1.47 1.35L5.41 20z\"/>\n",
              "  </svg>\n",
              "      </button>\n",
              "      \n",
              "  <style>\n",
              "    .colab-df-container {\n",
              "      display:flex;\n",
              "      flex-wrap:wrap;\n",
              "      gap: 12px;\n",
              "    }\n",
              "\n",
              "    .colab-df-convert {\n",
              "      background-color: #E8F0FE;\n",
              "      border: none;\n",
              "      border-radius: 50%;\n",
              "      cursor: pointer;\n",
              "      display: none;\n",
              "      fill: #1967D2;\n",
              "      height: 32px;\n",
              "      padding: 0 0 0 0;\n",
              "      width: 32px;\n",
              "    }\n",
              "\n",
              "    .colab-df-convert:hover {\n",
              "      background-color: #E2EBFA;\n",
              "      box-shadow: 0px 1px 2px rgba(60, 64, 67, 0.3), 0px 1px 3px 1px rgba(60, 64, 67, 0.15);\n",
              "      fill: #174EA6;\n",
              "    }\n",
              "\n",
              "    [theme=dark] .colab-df-convert {\n",
              "      background-color: #3B4455;\n",
              "      fill: #D2E3FC;\n",
              "    }\n",
              "\n",
              "    [theme=dark] .colab-df-convert:hover {\n",
              "      background-color: #434B5C;\n",
              "      box-shadow: 0px 1px 3px 1px rgba(0, 0, 0, 0.15);\n",
              "      filter: drop-shadow(0px 1px 2px rgba(0, 0, 0, 0.3));\n",
              "      fill: #FFFFFF;\n",
              "    }\n",
              "  </style>\n",
              "\n",
              "      <script>\n",
              "        const buttonEl =\n",
              "          document.querySelector('#df-968561f6-af21-4226-a28c-a3b648d653ff button.colab-df-convert');\n",
              "        buttonEl.style.display =\n",
              "          google.colab.kernel.accessAllowed ? 'block' : 'none';\n",
              "\n",
              "        async function convertToInteractive(key) {\n",
              "          const element = document.querySelector('#df-968561f6-af21-4226-a28c-a3b648d653ff');\n",
              "          const dataTable =\n",
              "            await google.colab.kernel.invokeFunction('convertToInteractive',\n",
              "                                                     [key], {});\n",
              "          if (!dataTable) return;\n",
              "\n",
              "          const docLinkHtml = 'Like what you see? Visit the ' +\n",
              "            '<a target=\"_blank\" href=https://colab.research.google.com/notebooks/data_table.ipynb>data table notebook</a>'\n",
              "            + ' to learn more about interactive tables.';\n",
              "          element.innerHTML = '';\n",
              "          dataTable['output_type'] = 'display_data';\n",
              "          await google.colab.output.renderOutput(dataTable, element);\n",
              "          const docLink = document.createElement('div');\n",
              "          docLink.innerHTML = docLinkHtml;\n",
              "          element.appendChild(docLink);\n",
              "        }\n",
              "      </script>\n",
              "    </div>\n",
              "  </div>\n",
              "  "
            ]
          },
          "metadata": {},
          "execution_count": 38
        }
      ]
    },
    {
      "cell_type": "markdown",
      "source": [
        "1.2.1 - Modificação dos nomes das colunas que são interessantes para o estudo"
      ],
      "metadata": {
        "id": "Q6FZ287fWgUJ"
      }
    },
    {
      "cell_type": "code",
      "source": [
        "base.rename(columns={'DEP_ADMIN':'TIPO_ESCOLA','B01001A':'SEXO','B01003':'IDADE','B01002':'ETINIA','B01021A':'ANO_ESCOLAR'}, inplace = True)\n",
        "base.rename(columns={'B01006':'MORA_MAE','B01007':'MORA_PAI','B04001':'JA_FUMOU','B04013':'JA_NARGUILE','B04014':'JA_CIGARRO_ELETRONICO'}, inplace = True)\n",
        "base.rename(columns={'B04015':'JA_USOU_TABACO','B04006B':'RESPONSAVEL_FUMA','B04005A':'FUMA_PROXIMO_ALUNO','B04016':'AMIGO_FUMA'}, inplace = True)"
      ],
      "metadata": {
        "id": "oStrHxRFUDfO"
      },
      "execution_count": null,
      "outputs": []
    },
    {
      "cell_type": "markdown",
      "source": [
        "1.2.2 - Filtros importantes para separação dos dados de região e municipio que serão analisados "
      ],
      "metadata": {
        "id": "UmPPponfWqrI"
      }
    },
    {
      "cell_type": "code",
      "source": [
        "filtro_regiao = base['REGIAO'] == 3\n",
        "filtro_municipio = base['MUNICIPIO_CAP'] != 0"
      ],
      "metadata": {
        "id": "mdrnedd6WqYp"
      },
      "execution_count": null,
      "outputs": []
    },
    {
      "cell_type": "code",
      "source": [
        "base = base[filtro_regiao]\n",
        "base = base[filtro_municipio]\n",
        "base.head(10)"
      ],
      "metadata": {
        "colab": {
          "base_uri": "https://localhost:8080/",
          "height": 491
        },
        "id": "oUydryEnX7ig",
        "outputId": "7ea6c166-92b9-4385-bdb9-eeac0f26d2a6"
      },
      "execution_count": null,
      "outputs": [
        {
          "output_type": "stream",
          "name": "stderr",
          "text": [
            "<ipython-input-41-3f67cfd35d57>:2: UserWarning: Boolean Series key will be reindexed to match DataFrame index.\n",
            "  base = base[filtro_municipio]\n"
          ]
        },
        {
          "output_type": "execute_result",
          "data": {
            "text/plain": [
              "       REGIAO  UF  MUNICIPIO_CAP  TIPO_MUNIC  SITUACAO  TIPO_ESCOLA  ESFERA  \\\n",
              "99529       3  31        3106200         1.0       1.0          2.0     4.0   \n",
              "99530       3  31        3106200         1.0       1.0          2.0     4.0   \n",
              "99531       3  31        3106200         1.0       1.0          2.0     4.0   \n",
              "99532       3  31        3106200         1.0       1.0          2.0     4.0   \n",
              "99533       3  31        3106200         1.0       1.0          2.0     4.0   \n",
              "99534       3  31        3106200         1.0       1.0          2.0     4.0   \n",
              "99535       3  31        3106200         1.0       1.0          2.0     4.0   \n",
              "99536       3  31        3106200         1.0       1.0          2.0     4.0   \n",
              "99537       3  31        3106200         1.0       1.0          2.0     4.0   \n",
              "99538       3  31        3106200         1.0       1.0          2.0     4.0   \n",
              "\n",
              "       ESCOLA  TURMA  ALUNO  ...  E01P65A  E01P66A  E01P26A  E01P27A  ESTRATO  \\\n",
              "99529       2      2     22  ...      1.0      2.0      4.0      2.0     3110   \n",
              "99530       3      1     13  ...      2.0      4.0      4.0      1.0     3109   \n",
              "99531       4      1      5  ...      2.0      2.0      4.0      2.0     3110   \n",
              "99532       3      1      3  ...      2.0      4.0      4.0      1.0     3109   \n",
              "99533      25      1     20  ...      2.0      4.0      4.0      2.0     3108   \n",
              "99534       4      1     15  ...      2.0      2.0      4.0      2.0     3110   \n",
              "99535       2      2     24  ...      1.0      2.0      4.0      2.0     3110   \n",
              "99536       3      1     28  ...      2.0      1.0      4.0      2.0     3108   \n",
              "99537      33      1     19  ...      1.0      1.0      4.0      1.0     3108   \n",
              "99538      26      1      3  ...      1.0      1.0      4.0      2.0     3108   \n",
              "\n",
              "       IND_EXPANSAO  PESO_ALUNO_FREQ  PESO_INICIAL       POSEST  TOTAIS_POSEST  \n",
              "99529             1        14.871882     18.201201  3106200PRI1          14312  \n",
              "99530             1        23.150669     28.333333  3106200PRI1          14312  \n",
              "99531             1        14.480517     17.722222  3106200PRI1          14312  \n",
              "99532             1        23.150669     28.333333  3106200PRI1          14312  \n",
              "99533             1        16.422095     20.098456  3106200PRI1          14312  \n",
              "99534             1        14.480517     17.722222  3106200PRI1          14312  \n",
              "99535             1        14.871882     18.201201  3106200PRI1          14312  \n",
              "99536             1        16.988374     20.791506  3106200PRI1          14312  \n",
              "99537             1        15.855816     19.405405  3106200PRI1          14312  \n",
              "99538             1        15.855816     19.405405  3106200PRI1          14312  \n",
              "\n",
              "[10 rows x 306 columns]"
            ],
            "text/html": [
              "\n",
              "  <div id=\"df-413b6dca-5473-4c5c-b3bb-8c37013cd769\">\n",
              "    <div class=\"colab-df-container\">\n",
              "      <div>\n",
              "<style scoped>\n",
              "    .dataframe tbody tr th:only-of-type {\n",
              "        vertical-align: middle;\n",
              "    }\n",
              "\n",
              "    .dataframe tbody tr th {\n",
              "        vertical-align: top;\n",
              "    }\n",
              "\n",
              "    .dataframe thead th {\n",
              "        text-align: right;\n",
              "    }\n",
              "</style>\n",
              "<table border=\"1\" class=\"dataframe\">\n",
              "  <thead>\n",
              "    <tr style=\"text-align: right;\">\n",
              "      <th></th>\n",
              "      <th>REGIAO</th>\n",
              "      <th>UF</th>\n",
              "      <th>MUNICIPIO_CAP</th>\n",
              "      <th>TIPO_MUNIC</th>\n",
              "      <th>SITUACAO</th>\n",
              "      <th>TIPO_ESCOLA</th>\n",
              "      <th>ESFERA</th>\n",
              "      <th>ESCOLA</th>\n",
              "      <th>TURMA</th>\n",
              "      <th>ALUNO</th>\n",
              "      <th>...</th>\n",
              "      <th>E01P65A</th>\n",
              "      <th>E01P66A</th>\n",
              "      <th>E01P26A</th>\n",
              "      <th>E01P27A</th>\n",
              "      <th>ESTRATO</th>\n",
              "      <th>IND_EXPANSAO</th>\n",
              "      <th>PESO_ALUNO_FREQ</th>\n",
              "      <th>PESO_INICIAL</th>\n",
              "      <th>POSEST</th>\n",
              "      <th>TOTAIS_POSEST</th>\n",
              "    </tr>\n",
              "  </thead>\n",
              "  <tbody>\n",
              "    <tr>\n",
              "      <th>99529</th>\n",
              "      <td>3</td>\n",
              "      <td>31</td>\n",
              "      <td>3106200</td>\n",
              "      <td>1.0</td>\n",
              "      <td>1.0</td>\n",
              "      <td>2.0</td>\n",
              "      <td>4.0</td>\n",
              "      <td>2</td>\n",
              "      <td>2</td>\n",
              "      <td>22</td>\n",
              "      <td>...</td>\n",
              "      <td>1.0</td>\n",
              "      <td>2.0</td>\n",
              "      <td>4.0</td>\n",
              "      <td>2.0</td>\n",
              "      <td>3110</td>\n",
              "      <td>1</td>\n",
              "      <td>14.871882</td>\n",
              "      <td>18.201201</td>\n",
              "      <td>3106200PRI1</td>\n",
              "      <td>14312</td>\n",
              "    </tr>\n",
              "    <tr>\n",
              "      <th>99530</th>\n",
              "      <td>3</td>\n",
              "      <td>31</td>\n",
              "      <td>3106200</td>\n",
              "      <td>1.0</td>\n",
              "      <td>1.0</td>\n",
              "      <td>2.0</td>\n",
              "      <td>4.0</td>\n",
              "      <td>3</td>\n",
              "      <td>1</td>\n",
              "      <td>13</td>\n",
              "      <td>...</td>\n",
              "      <td>2.0</td>\n",
              "      <td>4.0</td>\n",
              "      <td>4.0</td>\n",
              "      <td>1.0</td>\n",
              "      <td>3109</td>\n",
              "      <td>1</td>\n",
              "      <td>23.150669</td>\n",
              "      <td>28.333333</td>\n",
              "      <td>3106200PRI1</td>\n",
              "      <td>14312</td>\n",
              "    </tr>\n",
              "    <tr>\n",
              "      <th>99531</th>\n",
              "      <td>3</td>\n",
              "      <td>31</td>\n",
              "      <td>3106200</td>\n",
              "      <td>1.0</td>\n",
              "      <td>1.0</td>\n",
              "      <td>2.0</td>\n",
              "      <td>4.0</td>\n",
              "      <td>4</td>\n",
              "      <td>1</td>\n",
              "      <td>5</td>\n",
              "      <td>...</td>\n",
              "      <td>2.0</td>\n",
              "      <td>2.0</td>\n",
              "      <td>4.0</td>\n",
              "      <td>2.0</td>\n",
              "      <td>3110</td>\n",
              "      <td>1</td>\n",
              "      <td>14.480517</td>\n",
              "      <td>17.722222</td>\n",
              "      <td>3106200PRI1</td>\n",
              "      <td>14312</td>\n",
              "    </tr>\n",
              "    <tr>\n",
              "      <th>99532</th>\n",
              "      <td>3</td>\n",
              "      <td>31</td>\n",
              "      <td>3106200</td>\n",
              "      <td>1.0</td>\n",
              "      <td>1.0</td>\n",
              "      <td>2.0</td>\n",
              "      <td>4.0</td>\n",
              "      <td>3</td>\n",
              "      <td>1</td>\n",
              "      <td>3</td>\n",
              "      <td>...</td>\n",
              "      <td>2.0</td>\n",
              "      <td>4.0</td>\n",
              "      <td>4.0</td>\n",
              "      <td>1.0</td>\n",
              "      <td>3109</td>\n",
              "      <td>1</td>\n",
              "      <td>23.150669</td>\n",
              "      <td>28.333333</td>\n",
              "      <td>3106200PRI1</td>\n",
              "      <td>14312</td>\n",
              "    </tr>\n",
              "    <tr>\n",
              "      <th>99533</th>\n",
              "      <td>3</td>\n",
              "      <td>31</td>\n",
              "      <td>3106200</td>\n",
              "      <td>1.0</td>\n",
              "      <td>1.0</td>\n",
              "      <td>2.0</td>\n",
              "      <td>4.0</td>\n",
              "      <td>25</td>\n",
              "      <td>1</td>\n",
              "      <td>20</td>\n",
              "      <td>...</td>\n",
              "      <td>2.0</td>\n",
              "      <td>4.0</td>\n",
              "      <td>4.0</td>\n",
              "      <td>2.0</td>\n",
              "      <td>3108</td>\n",
              "      <td>1</td>\n",
              "      <td>16.422095</td>\n",
              "      <td>20.098456</td>\n",
              "      <td>3106200PRI1</td>\n",
              "      <td>14312</td>\n",
              "    </tr>\n",
              "    <tr>\n",
              "      <th>99534</th>\n",
              "      <td>3</td>\n",
              "      <td>31</td>\n",
              "      <td>3106200</td>\n",
              "      <td>1.0</td>\n",
              "      <td>1.0</td>\n",
              "      <td>2.0</td>\n",
              "      <td>4.0</td>\n",
              "      <td>4</td>\n",
              "      <td>1</td>\n",
              "      <td>15</td>\n",
              "      <td>...</td>\n",
              "      <td>2.0</td>\n",
              "      <td>2.0</td>\n",
              "      <td>4.0</td>\n",
              "      <td>2.0</td>\n",
              "      <td>3110</td>\n",
              "      <td>1</td>\n",
              "      <td>14.480517</td>\n",
              "      <td>17.722222</td>\n",
              "      <td>3106200PRI1</td>\n",
              "      <td>14312</td>\n",
              "    </tr>\n",
              "    <tr>\n",
              "      <th>99535</th>\n",
              "      <td>3</td>\n",
              "      <td>31</td>\n",
              "      <td>3106200</td>\n",
              "      <td>1.0</td>\n",
              "      <td>1.0</td>\n",
              "      <td>2.0</td>\n",
              "      <td>4.0</td>\n",
              "      <td>2</td>\n",
              "      <td>2</td>\n",
              "      <td>24</td>\n",
              "      <td>...</td>\n",
              "      <td>1.0</td>\n",
              "      <td>2.0</td>\n",
              "      <td>4.0</td>\n",
              "      <td>2.0</td>\n",
              "      <td>3110</td>\n",
              "      <td>1</td>\n",
              "      <td>14.871882</td>\n",
              "      <td>18.201201</td>\n",
              "      <td>3106200PRI1</td>\n",
              "      <td>14312</td>\n",
              "    </tr>\n",
              "    <tr>\n",
              "      <th>99536</th>\n",
              "      <td>3</td>\n",
              "      <td>31</td>\n",
              "      <td>3106200</td>\n",
              "      <td>1.0</td>\n",
              "      <td>1.0</td>\n",
              "      <td>2.0</td>\n",
              "      <td>4.0</td>\n",
              "      <td>3</td>\n",
              "      <td>1</td>\n",
              "      <td>28</td>\n",
              "      <td>...</td>\n",
              "      <td>2.0</td>\n",
              "      <td>1.0</td>\n",
              "      <td>4.0</td>\n",
              "      <td>2.0</td>\n",
              "      <td>3108</td>\n",
              "      <td>1</td>\n",
              "      <td>16.988374</td>\n",
              "      <td>20.791506</td>\n",
              "      <td>3106200PRI1</td>\n",
              "      <td>14312</td>\n",
              "    </tr>\n",
              "    <tr>\n",
              "      <th>99537</th>\n",
              "      <td>3</td>\n",
              "      <td>31</td>\n",
              "      <td>3106200</td>\n",
              "      <td>1.0</td>\n",
              "      <td>1.0</td>\n",
              "      <td>2.0</td>\n",
              "      <td>4.0</td>\n",
              "      <td>33</td>\n",
              "      <td>1</td>\n",
              "      <td>19</td>\n",
              "      <td>...</td>\n",
              "      <td>1.0</td>\n",
              "      <td>1.0</td>\n",
              "      <td>4.0</td>\n",
              "      <td>1.0</td>\n",
              "      <td>3108</td>\n",
              "      <td>1</td>\n",
              "      <td>15.855816</td>\n",
              "      <td>19.405405</td>\n",
              "      <td>3106200PRI1</td>\n",
              "      <td>14312</td>\n",
              "    </tr>\n",
              "    <tr>\n",
              "      <th>99538</th>\n",
              "      <td>3</td>\n",
              "      <td>31</td>\n",
              "      <td>3106200</td>\n",
              "      <td>1.0</td>\n",
              "      <td>1.0</td>\n",
              "      <td>2.0</td>\n",
              "      <td>4.0</td>\n",
              "      <td>26</td>\n",
              "      <td>1</td>\n",
              "      <td>3</td>\n",
              "      <td>...</td>\n",
              "      <td>1.0</td>\n",
              "      <td>1.0</td>\n",
              "      <td>4.0</td>\n",
              "      <td>2.0</td>\n",
              "      <td>3108</td>\n",
              "      <td>1</td>\n",
              "      <td>15.855816</td>\n",
              "      <td>19.405405</td>\n",
              "      <td>3106200PRI1</td>\n",
              "      <td>14312</td>\n",
              "    </tr>\n",
              "  </tbody>\n",
              "</table>\n",
              "<p>10 rows × 306 columns</p>\n",
              "</div>\n",
              "      <button class=\"colab-df-convert\" onclick=\"convertToInteractive('df-413b6dca-5473-4c5c-b3bb-8c37013cd769')\"\n",
              "              title=\"Convert this dataframe to an interactive table.\"\n",
              "              style=\"display:none;\">\n",
              "        \n",
              "  <svg xmlns=\"http://www.w3.org/2000/svg\" height=\"24px\"viewBox=\"0 0 24 24\"\n",
              "       width=\"24px\">\n",
              "    <path d=\"M0 0h24v24H0V0z\" fill=\"none\"/>\n",
              "    <path d=\"M18.56 5.44l.94 2.06.94-2.06 2.06-.94-2.06-.94-.94-2.06-.94 2.06-2.06.94zm-11 1L8.5 8.5l.94-2.06 2.06-.94-2.06-.94L8.5 2.5l-.94 2.06-2.06.94zm10 10l.94 2.06.94-2.06 2.06-.94-2.06-.94-.94-2.06-.94 2.06-2.06.94z\"/><path d=\"M17.41 7.96l-1.37-1.37c-.4-.4-.92-.59-1.43-.59-.52 0-1.04.2-1.43.59L10.3 9.45l-7.72 7.72c-.78.78-.78 2.05 0 2.83L4 21.41c.39.39.9.59 1.41.59.51 0 1.02-.2 1.41-.59l7.78-7.78 2.81-2.81c.8-.78.8-2.07 0-2.86zM5.41 20L4 18.59l7.72-7.72 1.47 1.35L5.41 20z\"/>\n",
              "  </svg>\n",
              "      </button>\n",
              "      \n",
              "  <style>\n",
              "    .colab-df-container {\n",
              "      display:flex;\n",
              "      flex-wrap:wrap;\n",
              "      gap: 12px;\n",
              "    }\n",
              "\n",
              "    .colab-df-convert {\n",
              "      background-color: #E8F0FE;\n",
              "      border: none;\n",
              "      border-radius: 50%;\n",
              "      cursor: pointer;\n",
              "      display: none;\n",
              "      fill: #1967D2;\n",
              "      height: 32px;\n",
              "      padding: 0 0 0 0;\n",
              "      width: 32px;\n",
              "    }\n",
              "\n",
              "    .colab-df-convert:hover {\n",
              "      background-color: #E2EBFA;\n",
              "      box-shadow: 0px 1px 2px rgba(60, 64, 67, 0.3), 0px 1px 3px 1px rgba(60, 64, 67, 0.15);\n",
              "      fill: #174EA6;\n",
              "    }\n",
              "\n",
              "    [theme=dark] .colab-df-convert {\n",
              "      background-color: #3B4455;\n",
              "      fill: #D2E3FC;\n",
              "    }\n",
              "\n",
              "    [theme=dark] .colab-df-convert:hover {\n",
              "      background-color: #434B5C;\n",
              "      box-shadow: 0px 1px 3px 1px rgba(0, 0, 0, 0.15);\n",
              "      filter: drop-shadow(0px 1px 2px rgba(0, 0, 0, 0.3));\n",
              "      fill: #FFFFFF;\n",
              "    }\n",
              "  </style>\n",
              "\n",
              "      <script>\n",
              "        const buttonEl =\n",
              "          document.querySelector('#df-413b6dca-5473-4c5c-b3bb-8c37013cd769 button.colab-df-convert');\n",
              "        buttonEl.style.display =\n",
              "          google.colab.kernel.accessAllowed ? 'block' : 'none';\n",
              "\n",
              "        async function convertToInteractive(key) {\n",
              "          const element = document.querySelector('#df-413b6dca-5473-4c5c-b3bb-8c37013cd769');\n",
              "          const dataTable =\n",
              "            await google.colab.kernel.invokeFunction('convertToInteractive',\n",
              "                                                     [key], {});\n",
              "          if (!dataTable) return;\n",
              "\n",
              "          const docLinkHtml = 'Like what you see? Visit the ' +\n",
              "            '<a target=\"_blank\" href=https://colab.research.google.com/notebooks/data_table.ipynb>data table notebook</a>'\n",
              "            + ' to learn more about interactive tables.';\n",
              "          element.innerHTML = '';\n",
              "          dataTable['output_type'] = 'display_data';\n",
              "          await google.colab.output.renderOutput(dataTable, element);\n",
              "          const docLink = document.createElement('div');\n",
              "          docLink.innerHTML = docLinkHtml;\n",
              "          element.appendChild(docLink);\n",
              "        }\n",
              "      </script>\n",
              "    </div>\n",
              "  </div>\n",
              "  "
            ]
          },
          "metadata": {},
          "execution_count": 41
        }
      ]
    },
    {
      "cell_type": "markdown",
      "source": [
        "1.2.3 - Retirada dos dados em que houve desistência ou não soube responder para o dado de já fumou"
      ],
      "metadata": {
        "id": "Rud7jDyaYXET"
      }
    },
    {
      "cell_type": "code",
      "source": [
        "np.unique(base['JA_FUMOU'], return_counts=True)"
      ],
      "metadata": {
        "colab": {
          "base_uri": "https://localhost:8080/"
        },
        "id": "cth_CWa2ZuLB",
        "outputId": "0c92ff7a-90ff-4340-d4f4-c2de93b9f64d"
      },
      "execution_count": null,
      "outputs": [
        {
          "output_type": "execute_result",
          "data": {
            "text/plain": [
              "(array([-2., -1.,  1.,  2.,  9.]), array([   6, 2395, 2771, 8831,   22]))"
            ]
          },
          "metadata": {},
          "execution_count": 42
        }
      ]
    },
    {
      "cell_type": "code",
      "source": [
        "base.drop(base[base['JA_FUMOU'] == -2.0].index, axis=0, inplace=True)\n",
        "base.drop(base[base['JA_FUMOU'] == -1.0].index, axis=0, inplace=True)\n",
        "base.drop(base[base['JA_FUMOU'] == 9.0].index, axis=0, inplace=True)\n"
      ],
      "metadata": {
        "id": "i0isajMAYej6"
      },
      "execution_count": null,
      "outputs": []
    },
    {
      "cell_type": "code",
      "source": [
        "np.unique(base['JA_FUMOU'], return_counts=True)"
      ],
      "metadata": {
        "colab": {
          "base_uri": "https://localhost:8080/"
        },
        "id": "EFwH7ptJaybY",
        "outputId": "ebce5e45-8eb6-4373-fb54-e22d2a909024"
      },
      "execution_count": null,
      "outputs": [
        {
          "output_type": "execute_result",
          "data": {
            "text/plain": [
              "(array([1., 2.]), array([2771, 8831]))"
            ]
          },
          "metadata": {},
          "execution_count": 44
        }
      ]
    },
    {
      "cell_type": "markdown",
      "source": [
        "1.2.4 - Retirada de todas as colunas que não representam importância para os dados que serão analisados"
      ],
      "metadata": {
        "id": "FtlCnbbzpsym"
      }
    },
    {
      "cell_type": "code",
      "source": [
        "base=base[['MUNICIPIO_CAP','TIPO_ESCOLA','SEXO','IDADE','ETINIA','ANO_ESCOLAR','MORA_MAE','MORA_PAI','JA_FUMOU','JA_NARGUILE','JA_CIGARRO_ELETRONICO','JA_USOU_TABACO','RESPONSAVEL_FUMA','FUMA_PROXIMO_ALUNO','AMIGO_FUMA']]"
      ],
      "metadata": {
        "id": "IeryGHHTqCSm"
      },
      "execution_count": null,
      "outputs": []
    },
    {
      "cell_type": "code",
      "source": [
        "base.info()"
      ],
      "metadata": {
        "colab": {
          "base_uri": "https://localhost:8080/"
        },
        "id": "6uVnXpMjgkay",
        "outputId": "fbda62f0-566e-426a-90a2-83871a4c0d1f"
      },
      "execution_count": null,
      "outputs": [
        {
          "output_type": "stream",
          "name": "stdout",
          "text": [
            "<class 'pandas.core.frame.DataFrame'>\n",
            "Int64Index: 11602 entries, 99531 to 125065\n",
            "Data columns (total 15 columns):\n",
            " #   Column                 Non-Null Count  Dtype  \n",
            "---  ------                 --------------  -----  \n",
            " 0   MUNICIPIO_CAP          11602 non-null  int64  \n",
            " 1   TIPO_ESCOLA            11602 non-null  float64\n",
            " 2   SEXO                   11602 non-null  float64\n",
            " 3   IDADE                  11602 non-null  float64\n",
            " 4   ETINIA                 11602 non-null  float64\n",
            " 5   ANO_ESCOLAR            11602 non-null  float64\n",
            " 6   MORA_MAE               11602 non-null  float64\n",
            " 7   MORA_PAI               11602 non-null  float64\n",
            " 8   JA_FUMOU               11602 non-null  float64\n",
            " 9   JA_NARGUILE            11602 non-null  float64\n",
            " 10  JA_CIGARRO_ELETRONICO  11602 non-null  float64\n",
            " 11  JA_USOU_TABACO         11602 non-null  float64\n",
            " 12  RESPONSAVEL_FUMA       11602 non-null  float64\n",
            " 13  FUMA_PROXIMO_ALUNO     11602 non-null  float64\n",
            " 14  AMIGO_FUMA             11602 non-null  float64\n",
            "dtypes: float64(14), int64(1)\n",
            "memory usage: 1.4 MB\n"
          ]
        }
      ]
    },
    {
      "cell_type": "markdown",
      "source": [
        "1.2.5 - Transformando os dados numéricos em dados categoricos, de acordo com o dicionário de dados"
      ],
      "metadata": {
        "id": "1-XcYkCjgztO"
      }
    },
    {
      "cell_type": "code",
      "source": [
        "def ajuste_municipio(valor):\n",
        "  if valor == 3106200:\n",
        "    return \"BELO HORIZONTE\"\n",
        "  elif valor == 3205309:\n",
        "    return \"VITORIA\"\n",
        "  elif valor == 3304557:\n",
        "    return \"RIO DE JANEIRO\"\n",
        "  elif valor == 3550308:\n",
        "    return \"SAO PAULO\"\n"
      ],
      "metadata": {
        "id": "Vm-14Gvhh6iL"
      },
      "execution_count": null,
      "outputs": []
    },
    {
      "cell_type": "code",
      "source": [
        "def ajuste_escola(valor):\n",
        "  if valor == 1:\n",
        "    return \"Publica\"\n",
        "  else:\n",
        "    return \"Privada\""
      ],
      "metadata": {
        "id": "nBHM6Jk1hFXa"
      },
      "execution_count": null,
      "outputs": []
    },
    {
      "cell_type": "code",
      "source": [
        "def ajuste_sexo(valor):\n",
        "  if valor == 1:\n",
        "    return \"Homem\"\n",
        "  elif valor == 2:\n",
        "    return \"Mulher\"\n",
        "  else:\n",
        "    return \"Sem Resposta\""
      ],
      "metadata": {
        "id": "jMp2kb7nhffN"
      },
      "execution_count": null,
      "outputs": []
    },
    {
      "cell_type": "code",
      "source": [
        "def ajuste_idade(valor):\n",
        "  if valor == 1:\n",
        "    return \"Menos de 13 anos\"\n",
        "  elif valor == 2:\n",
        "    return \"13 a 15 anos\"\n",
        "  elif valor == 3:\n",
        "    return \"16 a 17 anos\"\n",
        "  elif valor == 4:\n",
        "    return \"18 anos ou mais\"\n",
        "  else:\n",
        "    return \"Sem Resposta\""
      ],
      "metadata": {
        "id": "QpKsF9sUhhdK"
      },
      "execution_count": null,
      "outputs": []
    },
    {
      "cell_type": "code",
      "source": [
        "def ajuste_raca(valor):\n",
        "  if valor == 1:\n",
        "    return \"Branca\"\n",
        "  elif valor == 2:\n",
        "    return \"Preta\"\n",
        "  elif valor == 3:\n",
        "    return \"Amarela\"\n",
        "  elif valor == 4:\n",
        "    return \"Parda\"\n",
        "  elif valor == 5:\n",
        "    return \"Indigena\"\n",
        "  else:\n",
        "    return \"Sem Resposta\""
      ],
      "metadata": {
        "id": "DJRSxDbkhjYs"
      },
      "execution_count": null,
      "outputs": []
    },
    {
      "cell_type": "code",
      "source": [
        "def ajuste_ensino_medio(valor):\n",
        "  if valor == 1:\n",
        "    return \"6º ano\"\n",
        "  elif valor == 2:\n",
        "    return \"7º ano\"\n",
        "  elif valor == 3:\n",
        "    return \"8º ano\"\n",
        "  elif valor == 4:\n",
        "    return \"9º ano\"\n",
        "  elif valor == 5:\n",
        "    return \"1º ano ensino medio\"\n",
        "  elif valor == 6:\n",
        "    return \"2º ano ensino medio\"\n",
        "  elif valor == 7:\n",
        "    return \"3º ano ensino medio\"\n",
        "  else:\n",
        "    return \"Sem Resposta\""
      ],
      "metadata": {
        "id": "Dy1PISJ1hlqa"
      },
      "execution_count": null,
      "outputs": []
    },
    {
      "cell_type": "code",
      "source": [
        "def ajuste_mora_mae(valor):\n",
        "  if valor == 1:\n",
        "    return \"sim\"\n",
        "  else:\n",
        "    return \"não\""
      ],
      "metadata": {
        "id": "xWs-rt92hoZL"
      },
      "execution_count": null,
      "outputs": []
    },
    {
      "cell_type": "code",
      "source": [
        "def ajuste_mora_pai(valor):\n",
        "  if valor == 1:\n",
        "    return \"sim\"\n",
        "  else:\n",
        "    return \"não\""
      ],
      "metadata": {
        "id": "2Ks7J1ZihqT5"
      },
      "execution_count": null,
      "outputs": []
    },
    {
      "cell_type": "code",
      "source": [
        "def ajuste_narguile(valor):\n",
        "  if valor == 1:\n",
        "    return \"sim\"\n",
        "  elif valor == 2:\n",
        "    return \"não\"\n",
        "  else:\n",
        "    return \"Sem Resposta\""
      ],
      "metadata": {
        "id": "BA9GjFW6hr_S"
      },
      "execution_count": null,
      "outputs": []
    },
    {
      "cell_type": "code",
      "source": [
        "def ajuste_cigarro_eletronico(valor):\n",
        "  if valor == 1:\n",
        "    return \"sim\"\n",
        "  elif valor == 2:\n",
        "    return \"não\"\n",
        "  else:\n",
        "    return \"Sem Resposta\""
      ],
      "metadata": {
        "id": "ccwxqofqht8T"
      },
      "execution_count": null,
      "outputs": []
    },
    {
      "cell_type": "code",
      "source": [
        "def ajuste_consumiu_tabaco(valor):\n",
        "  if valor == 1:\n",
        "    return \"sim\"\n",
        "  elif valor == 2:\n",
        "    return \"não\"\n",
        "  else:\n",
        "    return \"Sem Resposta\""
      ],
      "metadata": {
        "id": "HIO6Sv-XhvyT"
      },
      "execution_count": null,
      "outputs": []
    },
    {
      "cell_type": "code",
      "source": [
        "def ajuste_responsavel_fuma(valor):\n",
        "  if valor == 1:\n",
        "    return \"Nenhum deles\"\n",
        "  elif valor == 2:\n",
        "    return \"Só meu pai ou responsável do sexo masculino\"\n",
        "  elif valor == 3:\n",
        "    return \"Só minha mãe ou responsável do sexo feminino\"\n",
        "  elif valor == 4:\n",
        "    return \"Os dois (ambos)\"\n",
        "  elif valor == 5:\n",
        "    return \"Não sei\"\n",
        "  else:\n",
        "    return \"Sem Resposta\""
      ],
      "metadata": {
        "id": "h70162IehxXp"
      },
      "execution_count": null,
      "outputs": []
    },
    {
      "cell_type": "code",
      "source": [
        "def ajuste_fumar_perto_7dias(valor):\n",
        "  if valor == 1:\n",
        "    return \"Nenhum dia nos últimos 7 dias\"\n",
        "  elif valor == 2:\n",
        "    return \"1 ou 2 dias\"\n",
        "  elif valor == 3:\n",
        "    return \"3 ou 4 dias\"\n",
        "  elif valor == 4:\n",
        "    return \"5 ou 6 dias\"\n",
        "  elif valor == 5:\n",
        "    return \"Todos os dias\"\n",
        "  else:\n",
        "    return \"Sem Resposta\""
      ],
      "metadata": {
        "id": "3f3oiLp-hztx"
      },
      "execution_count": null,
      "outputs": []
    },
    {
      "cell_type": "code",
      "source": [
        "def ajuste_amigo_fuma(valor):\n",
        "  if valor == 1:\n",
        "    return \"sim\"\n",
        "  elif valor == 2:\n",
        "    return \"não\"\n",
        "  else:\n",
        "    return \"Sem Resposta\""
      ],
      "metadata": {
        "id": "Bg-zLqlih2iC"
      },
      "execution_count": null,
      "outputs": []
    },
    {
      "cell_type": "code",
      "source": [
        "base['MUNICIPIO_CAP'] = base['MUNICIPIO_CAP'].apply(lambda x : ajuste_municipio(x))\n",
        "base['TIPO_ESCOLA'] = base['TIPO_ESCOLA'].apply(lambda x : ajuste_escola(x))\n",
        "base['SEXO'] = base['SEXO'].apply(lambda x : ajuste_sexo(x))\n",
        "base['IDADE'] = base['IDADE'].apply(lambda x : ajuste_idade(x))\n",
        "base['ETINIA'] = base['ETINIA'].apply(lambda x : ajuste_raca(x))\n",
        "base['ANO_ESCOLAR'] = base['ANO_ESCOLAR'].apply(lambda x : ajuste_ensino_medio(x))\n",
        "base['MORA_MAE'] = base['MORA_MAE'].apply(lambda x : ajuste_mora_mae(x))\n",
        "base['MORA_PAI'] = base['MORA_PAI'].apply(lambda x : ajuste_mora_pai(x))\n",
        "base['JA_NARGUILE'] = base['JA_NARGUILE'].apply(lambda x : ajuste_narguile(x))\n",
        "base['JA_CIGARRO_ELETRONICO'] = base['JA_CIGARRO_ELETRONICO'].apply(lambda x : ajuste_cigarro_eletronico(x))\n",
        "base['RESPONSAVEL_FUMA'] = base['RESPONSAVEL_FUMA'].apply(lambda x : ajuste_responsavel_fuma(x))\n",
        "base['FUMA_PROXIMO_ALUNO'] = base['FUMA_PROXIMO_ALUNO'].apply(lambda x : ajuste_fumar_perto_7dias(x))\n",
        "base['JA_USOU_TABACO'] = base['JA_USOU_TABACO'].apply(lambda x : ajuste_consumiu_tabaco(x))\n",
        "base['AMIGO_FUMA'] = base['AMIGO_FUMA'].apply(lambda x : ajuste_amigo_fuma(x))"
      ],
      "metadata": {
        "id": "47WVurLmh4Ga"
      },
      "execution_count": null,
      "outputs": []
    },
    {
      "cell_type": "code",
      "source": [
        "base.head(10)"
      ],
      "metadata": {
        "colab": {
          "base_uri": "https://localhost:8080/",
          "height": 774
        },
        "id": "ROO9m6Qii7Uj",
        "outputId": "9d123675-0e43-4074-f3bc-3f2c3b238085"
      },
      "execution_count": null,
      "outputs": [
        {
          "output_type": "execute_result",
          "data": {
            "text/plain": [
              "        MUNICIPIO_CAP TIPO_ESCOLA    SEXO         IDADE    ETINIA ANO_ESCOLAR  \\\n",
              "99531  BELO HORIZONTE     Privada   Homem  13 a 15 anos  Indigena      8º ano   \n",
              "99533  BELO HORIZONTE     Privada  Mulher  13 a 15 anos     Parda      8º ano   \n",
              "99534  BELO HORIZONTE     Privada  Mulher  13 a 15 anos    Branca      8º ano   \n",
              "99539  BELO HORIZONTE     Privada  Mulher  13 a 15 anos     Preta      8º ano   \n",
              "99544  BELO HORIZONTE     Privada   Homem  13 a 15 anos     Parda      8º ano   \n",
              "99549  BELO HORIZONTE     Privada  Mulher  13 a 15 anos     Parda      8º ano   \n",
              "99558  BELO HORIZONTE     Privada   Homem  13 a 15 anos     Parda      8º ano   \n",
              "99561  BELO HORIZONTE     Privada  Mulher  13 a 15 anos    Branca      8º ano   \n",
              "99562  BELO HORIZONTE     Privada   Homem  13 a 15 anos    Branca      8º ano   \n",
              "99566  BELO HORIZONTE     Privada  Mulher  13 a 15 anos    Branca      7º ano   \n",
              "\n",
              "      MORA_MAE MORA_PAI  JA_FUMOU JA_NARGUILE JA_CIGARRO_ELETRONICO  \\\n",
              "99531      sim      sim       1.0         sim                   sim   \n",
              "99533      sim      sim       2.0         não                   não   \n",
              "99534      sim      sim       2.0         não                   não   \n",
              "99539      sim      sim       2.0         não                   não   \n",
              "99544      sim      sim       2.0         não                   não   \n",
              "99549      sim      sim       2.0         não                   não   \n",
              "99558      sim      sim       2.0         não                   não   \n",
              "99561      sim      não       2.0         não                   não   \n",
              "99562      sim      sim       2.0         não                   não   \n",
              "99566      sim      sim       1.0         não                   sim   \n",
              "\n",
              "      JA_USOU_TABACO                             RESPONSAVEL_FUMA  \\\n",
              "99531            não  Só meu pai ou responsável do sexo masculino   \n",
              "99533            não                                 Nenhum deles   \n",
              "99534            não                                 Nenhum deles   \n",
              "99539            não                                 Nenhum deles   \n",
              "99544            não                                 Nenhum deles   \n",
              "99549            não  Só meu pai ou responsável do sexo masculino   \n",
              "99558            não                                 Nenhum deles   \n",
              "99561            não                                 Nenhum deles   \n",
              "99562            não                                 Nenhum deles   \n",
              "99566            não                                 Nenhum deles   \n",
              "\n",
              "                  FUMA_PROXIMO_ALUNO AMIGO_FUMA  \n",
              "99531                  Todos os dias        não  \n",
              "99533  Nenhum dia nos últimos 7 dias        não  \n",
              "99534                    1 ou 2 dias        não  \n",
              "99539  Nenhum dia nos últimos 7 dias        sim  \n",
              "99544                    1 ou 2 dias        não  \n",
              "99549                  Todos os dias        não  \n",
              "99558  Nenhum dia nos últimos 7 dias        não  \n",
              "99561                    3 ou 4 dias        não  \n",
              "99562  Nenhum dia nos últimos 7 dias        não  \n",
              "99566  Nenhum dia nos últimos 7 dias        sim  "
            ],
            "text/html": [
              "\n",
              "  <div id=\"df-33388c2d-485f-4628-a51f-543a68cce8df\">\n",
              "    <div class=\"colab-df-container\">\n",
              "      <div>\n",
              "<style scoped>\n",
              "    .dataframe tbody tr th:only-of-type {\n",
              "        vertical-align: middle;\n",
              "    }\n",
              "\n",
              "    .dataframe tbody tr th {\n",
              "        vertical-align: top;\n",
              "    }\n",
              "\n",
              "    .dataframe thead th {\n",
              "        text-align: right;\n",
              "    }\n",
              "</style>\n",
              "<table border=\"1\" class=\"dataframe\">\n",
              "  <thead>\n",
              "    <tr style=\"text-align: right;\">\n",
              "      <th></th>\n",
              "      <th>MUNICIPIO_CAP</th>\n",
              "      <th>TIPO_ESCOLA</th>\n",
              "      <th>SEXO</th>\n",
              "      <th>IDADE</th>\n",
              "      <th>ETINIA</th>\n",
              "      <th>ANO_ESCOLAR</th>\n",
              "      <th>MORA_MAE</th>\n",
              "      <th>MORA_PAI</th>\n",
              "      <th>JA_FUMOU</th>\n",
              "      <th>JA_NARGUILE</th>\n",
              "      <th>JA_CIGARRO_ELETRONICO</th>\n",
              "      <th>JA_USOU_TABACO</th>\n",
              "      <th>RESPONSAVEL_FUMA</th>\n",
              "      <th>FUMA_PROXIMO_ALUNO</th>\n",
              "      <th>AMIGO_FUMA</th>\n",
              "    </tr>\n",
              "  </thead>\n",
              "  <tbody>\n",
              "    <tr>\n",
              "      <th>99531</th>\n",
              "      <td>BELO HORIZONTE</td>\n",
              "      <td>Privada</td>\n",
              "      <td>Homem</td>\n",
              "      <td>13 a 15 anos</td>\n",
              "      <td>Indigena</td>\n",
              "      <td>8º ano</td>\n",
              "      <td>sim</td>\n",
              "      <td>sim</td>\n",
              "      <td>1.0</td>\n",
              "      <td>sim</td>\n",
              "      <td>sim</td>\n",
              "      <td>não</td>\n",
              "      <td>Só meu pai ou responsável do sexo masculino</td>\n",
              "      <td>Todos os dias</td>\n",
              "      <td>não</td>\n",
              "    </tr>\n",
              "    <tr>\n",
              "      <th>99533</th>\n",
              "      <td>BELO HORIZONTE</td>\n",
              "      <td>Privada</td>\n",
              "      <td>Mulher</td>\n",
              "      <td>13 a 15 anos</td>\n",
              "      <td>Parda</td>\n",
              "      <td>8º ano</td>\n",
              "      <td>sim</td>\n",
              "      <td>sim</td>\n",
              "      <td>2.0</td>\n",
              "      <td>não</td>\n",
              "      <td>não</td>\n",
              "      <td>não</td>\n",
              "      <td>Nenhum deles</td>\n",
              "      <td>Nenhum dia nos últimos 7 dias</td>\n",
              "      <td>não</td>\n",
              "    </tr>\n",
              "    <tr>\n",
              "      <th>99534</th>\n",
              "      <td>BELO HORIZONTE</td>\n",
              "      <td>Privada</td>\n",
              "      <td>Mulher</td>\n",
              "      <td>13 a 15 anos</td>\n",
              "      <td>Branca</td>\n",
              "      <td>8º ano</td>\n",
              "      <td>sim</td>\n",
              "      <td>sim</td>\n",
              "      <td>2.0</td>\n",
              "      <td>não</td>\n",
              "      <td>não</td>\n",
              "      <td>não</td>\n",
              "      <td>Nenhum deles</td>\n",
              "      <td>1 ou 2 dias</td>\n",
              "      <td>não</td>\n",
              "    </tr>\n",
              "    <tr>\n",
              "      <th>99539</th>\n",
              "      <td>BELO HORIZONTE</td>\n",
              "      <td>Privada</td>\n",
              "      <td>Mulher</td>\n",
              "      <td>13 a 15 anos</td>\n",
              "      <td>Preta</td>\n",
              "      <td>8º ano</td>\n",
              "      <td>sim</td>\n",
              "      <td>sim</td>\n",
              "      <td>2.0</td>\n",
              "      <td>não</td>\n",
              "      <td>não</td>\n",
              "      <td>não</td>\n",
              "      <td>Nenhum deles</td>\n",
              "      <td>Nenhum dia nos últimos 7 dias</td>\n",
              "      <td>sim</td>\n",
              "    </tr>\n",
              "    <tr>\n",
              "      <th>99544</th>\n",
              "      <td>BELO HORIZONTE</td>\n",
              "      <td>Privada</td>\n",
              "      <td>Homem</td>\n",
              "      <td>13 a 15 anos</td>\n",
              "      <td>Parda</td>\n",
              "      <td>8º ano</td>\n",
              "      <td>sim</td>\n",
              "      <td>sim</td>\n",
              "      <td>2.0</td>\n",
              "      <td>não</td>\n",
              "      <td>não</td>\n",
              "      <td>não</td>\n",
              "      <td>Nenhum deles</td>\n",
              "      <td>1 ou 2 dias</td>\n",
              "      <td>não</td>\n",
              "    </tr>\n",
              "    <tr>\n",
              "      <th>99549</th>\n",
              "      <td>BELO HORIZONTE</td>\n",
              "      <td>Privada</td>\n",
              "      <td>Mulher</td>\n",
              "      <td>13 a 15 anos</td>\n",
              "      <td>Parda</td>\n",
              "      <td>8º ano</td>\n",
              "      <td>sim</td>\n",
              "      <td>sim</td>\n",
              "      <td>2.0</td>\n",
              "      <td>não</td>\n",
              "      <td>não</td>\n",
              "      <td>não</td>\n",
              "      <td>Só meu pai ou responsável do sexo masculino</td>\n",
              "      <td>Todos os dias</td>\n",
              "      <td>não</td>\n",
              "    </tr>\n",
              "    <tr>\n",
              "      <th>99558</th>\n",
              "      <td>BELO HORIZONTE</td>\n",
              "      <td>Privada</td>\n",
              "      <td>Homem</td>\n",
              "      <td>13 a 15 anos</td>\n",
              "      <td>Parda</td>\n",
              "      <td>8º ano</td>\n",
              "      <td>sim</td>\n",
              "      <td>sim</td>\n",
              "      <td>2.0</td>\n",
              "      <td>não</td>\n",
              "      <td>não</td>\n",
              "      <td>não</td>\n",
              "      <td>Nenhum deles</td>\n",
              "      <td>Nenhum dia nos últimos 7 dias</td>\n",
              "      <td>não</td>\n",
              "    </tr>\n",
              "    <tr>\n",
              "      <th>99561</th>\n",
              "      <td>BELO HORIZONTE</td>\n",
              "      <td>Privada</td>\n",
              "      <td>Mulher</td>\n",
              "      <td>13 a 15 anos</td>\n",
              "      <td>Branca</td>\n",
              "      <td>8º ano</td>\n",
              "      <td>sim</td>\n",
              "      <td>não</td>\n",
              "      <td>2.0</td>\n",
              "      <td>não</td>\n",
              "      <td>não</td>\n",
              "      <td>não</td>\n",
              "      <td>Nenhum deles</td>\n",
              "      <td>3 ou 4 dias</td>\n",
              "      <td>não</td>\n",
              "    </tr>\n",
              "    <tr>\n",
              "      <th>99562</th>\n",
              "      <td>BELO HORIZONTE</td>\n",
              "      <td>Privada</td>\n",
              "      <td>Homem</td>\n",
              "      <td>13 a 15 anos</td>\n",
              "      <td>Branca</td>\n",
              "      <td>8º ano</td>\n",
              "      <td>sim</td>\n",
              "      <td>sim</td>\n",
              "      <td>2.0</td>\n",
              "      <td>não</td>\n",
              "      <td>não</td>\n",
              "      <td>não</td>\n",
              "      <td>Nenhum deles</td>\n",
              "      <td>Nenhum dia nos últimos 7 dias</td>\n",
              "      <td>não</td>\n",
              "    </tr>\n",
              "    <tr>\n",
              "      <th>99566</th>\n",
              "      <td>BELO HORIZONTE</td>\n",
              "      <td>Privada</td>\n",
              "      <td>Mulher</td>\n",
              "      <td>13 a 15 anos</td>\n",
              "      <td>Branca</td>\n",
              "      <td>7º ano</td>\n",
              "      <td>sim</td>\n",
              "      <td>sim</td>\n",
              "      <td>1.0</td>\n",
              "      <td>não</td>\n",
              "      <td>sim</td>\n",
              "      <td>não</td>\n",
              "      <td>Nenhum deles</td>\n",
              "      <td>Nenhum dia nos últimos 7 dias</td>\n",
              "      <td>sim</td>\n",
              "    </tr>\n",
              "  </tbody>\n",
              "</table>\n",
              "</div>\n",
              "      <button class=\"colab-df-convert\" onclick=\"convertToInteractive('df-33388c2d-485f-4628-a51f-543a68cce8df')\"\n",
              "              title=\"Convert this dataframe to an interactive table.\"\n",
              "              style=\"display:none;\">\n",
              "        \n",
              "  <svg xmlns=\"http://www.w3.org/2000/svg\" height=\"24px\"viewBox=\"0 0 24 24\"\n",
              "       width=\"24px\">\n",
              "    <path d=\"M0 0h24v24H0V0z\" fill=\"none\"/>\n",
              "    <path d=\"M18.56 5.44l.94 2.06.94-2.06 2.06-.94-2.06-.94-.94-2.06-.94 2.06-2.06.94zm-11 1L8.5 8.5l.94-2.06 2.06-.94-2.06-.94L8.5 2.5l-.94 2.06-2.06.94zm10 10l.94 2.06.94-2.06 2.06-.94-2.06-.94-.94-2.06-.94 2.06-2.06.94z\"/><path d=\"M17.41 7.96l-1.37-1.37c-.4-.4-.92-.59-1.43-.59-.52 0-1.04.2-1.43.59L10.3 9.45l-7.72 7.72c-.78.78-.78 2.05 0 2.83L4 21.41c.39.39.9.59 1.41.59.51 0 1.02-.2 1.41-.59l7.78-7.78 2.81-2.81c.8-.78.8-2.07 0-2.86zM5.41 20L4 18.59l7.72-7.72 1.47 1.35L5.41 20z\"/>\n",
              "  </svg>\n",
              "      </button>\n",
              "      \n",
              "  <style>\n",
              "    .colab-df-container {\n",
              "      display:flex;\n",
              "      flex-wrap:wrap;\n",
              "      gap: 12px;\n",
              "    }\n",
              "\n",
              "    .colab-df-convert {\n",
              "      background-color: #E8F0FE;\n",
              "      border: none;\n",
              "      border-radius: 50%;\n",
              "      cursor: pointer;\n",
              "      display: none;\n",
              "      fill: #1967D2;\n",
              "      height: 32px;\n",
              "      padding: 0 0 0 0;\n",
              "      width: 32px;\n",
              "    }\n",
              "\n",
              "    .colab-df-convert:hover {\n",
              "      background-color: #E2EBFA;\n",
              "      box-shadow: 0px 1px 2px rgba(60, 64, 67, 0.3), 0px 1px 3px 1px rgba(60, 64, 67, 0.15);\n",
              "      fill: #174EA6;\n",
              "    }\n",
              "\n",
              "    [theme=dark] .colab-df-convert {\n",
              "      background-color: #3B4455;\n",
              "      fill: #D2E3FC;\n",
              "    }\n",
              "\n",
              "    [theme=dark] .colab-df-convert:hover {\n",
              "      background-color: #434B5C;\n",
              "      box-shadow: 0px 1px 3px 1px rgba(0, 0, 0, 0.15);\n",
              "      filter: drop-shadow(0px 1px 2px rgba(0, 0, 0, 0.3));\n",
              "      fill: #FFFFFF;\n",
              "    }\n",
              "  </style>\n",
              "\n",
              "      <script>\n",
              "        const buttonEl =\n",
              "          document.querySelector('#df-33388c2d-485f-4628-a51f-543a68cce8df button.colab-df-convert');\n",
              "        buttonEl.style.display =\n",
              "          google.colab.kernel.accessAllowed ? 'block' : 'none';\n",
              "\n",
              "        async function convertToInteractive(key) {\n",
              "          const element = document.querySelector('#df-33388c2d-485f-4628-a51f-543a68cce8df');\n",
              "          const dataTable =\n",
              "            await google.colab.kernel.invokeFunction('convertToInteractive',\n",
              "                                                     [key], {});\n",
              "          if (!dataTable) return;\n",
              "\n",
              "          const docLinkHtml = 'Like what you see? Visit the ' +\n",
              "            '<a target=\"_blank\" href=https://colab.research.google.com/notebooks/data_table.ipynb>data table notebook</a>'\n",
              "            + ' to learn more about interactive tables.';\n",
              "          element.innerHTML = '';\n",
              "          dataTable['output_type'] = 'display_data';\n",
              "          await google.colab.output.renderOutput(dataTable, element);\n",
              "          const docLink = document.createElement('div');\n",
              "          docLink.innerHTML = docLinkHtml;\n",
              "          element.appendChild(docLink);\n",
              "        }\n",
              "      </script>\n",
              "    </div>\n",
              "  </div>\n",
              "  "
            ]
          },
          "metadata": {},
          "execution_count": 62
        }
      ]
    },
    {
      "cell_type": "markdown",
      "source": [
        "1.3 - Tratamento da base de dados de IDH dos municípios brasileiros"
      ],
      "metadata": {
        "id": "kKbuRFa3jRar"
      }
    },
    {
      "cell_type": "markdown",
      "source": [
        "1.3.1 - importação da base de dados de IDH"
      ],
      "metadata": {
        "id": "tM4TKLbVMDSa"
      }
    },
    {
      "cell_type": "code",
      "source": [
        "base_IDH = pd.read_csv('/content/base_IDH_2010.csv')\n"
      ],
      "metadata": {
        "id": "4v5yuDc9yLid"
      },
      "execution_count": null,
      "outputs": []
    },
    {
      "cell_type": "markdown",
      "source": [
        "1.3.2 - Tratativas dos nomes de municípios, retirando acentos e tranformando as letras em uppercase. "
      ],
      "metadata": {
        "id": "ifQl4W1JL5uI"
      }
    },
    {
      "cell_type": "code",
      "source": [
        "def padronizacao_acentuacao(valor):\n",
        "    return unidecode.unidecode(valor)"
      ],
      "metadata": {
        "id": "VuzdNrMDwjbV"
      },
      "execution_count": null,
      "outputs": []
    },
    {
      "cell_type": "code",
      "source": [
        "base_IDH['Município'] = base_IDH['Município'].apply(lambda x : padronizacao_acentuacao(x))\n",
        "base_IDH['Município']= base_IDH['Município'].str.upper()\n",
        "base_IDH.head(10)"
      ],
      "metadata": {
        "colab": {
          "base_uri": "https://localhost:8080/",
          "height": 407
        },
        "id": "-ptFgWxb0oZh",
        "outputId": "be59aa0e-ef6c-486c-c4ee-432021cfe0c0"
      },
      "execution_count": null,
      "outputs": [
        {
          "output_type": "execute_result",
          "data": {
            "text/plain": [
              "  Ranking IDHM 2010                Município IDHM 2010 IDHM\\nRenda\\n2010  \\\n",
              "0               1 º  SAO CAETANO DO SUL (SP)     0,862             0,891   \n",
              "1               2 º  AGUAS DE SAO PEDRO (SP)     0,854             0,849   \n",
              "2               3 º       FLORIANOPOLIS (SC)     0,847              0,87   \n",
              "3               4 º  BALNEARIO CAMBORIU (SC)     0,845             0,854   \n",
              "4               4 º             VITORIA (ES)     0,845             0,876   \n",
              "5               6 º              SANTOS (SP)      0,84             0,861   \n",
              "6               7 º             NITEROI (RJ)     0,837             0,887   \n",
              "7               8 º             JOACABA (SC)     0,827             0,823   \n",
              "8               9 º            BRASILIA (DF)     0,824             0,863   \n",
              "9              10 º            CURITIBA (PR)     0,823              0,85   \n",
              "\n",
              "  IDHM Longevidade 2010 IDHM Educação 2010  \n",
              "0                 0,887              0,811  \n",
              "1                  0,89              0,825  \n",
              "2                 0,873                0,8  \n",
              "3                 0,894              0,789  \n",
              "4                 0,855              0,805  \n",
              "5                 0,852              0,807  \n",
              "6                 0,854              0,773  \n",
              "7                 0,891              0,771  \n",
              "8                 0,873              0,742  \n",
              "9                 0,855              0,768  "
            ],
            "text/html": [
              "\n",
              "  <div id=\"df-9acb520b-869a-4bfb-be92-42b8784aa834\">\n",
              "    <div class=\"colab-df-container\">\n",
              "      <div>\n",
              "<style scoped>\n",
              "    .dataframe tbody tr th:only-of-type {\n",
              "        vertical-align: middle;\n",
              "    }\n",
              "\n",
              "    .dataframe tbody tr th {\n",
              "        vertical-align: top;\n",
              "    }\n",
              "\n",
              "    .dataframe thead th {\n",
              "        text-align: right;\n",
              "    }\n",
              "</style>\n",
              "<table border=\"1\" class=\"dataframe\">\n",
              "  <thead>\n",
              "    <tr style=\"text-align: right;\">\n",
              "      <th></th>\n",
              "      <th>Ranking IDHM 2010</th>\n",
              "      <th>Município</th>\n",
              "      <th>IDHM 2010</th>\n",
              "      <th>IDHM\\nRenda\\n2010</th>\n",
              "      <th>IDHM Longevidade 2010</th>\n",
              "      <th>IDHM Educação 2010</th>\n",
              "    </tr>\n",
              "  </thead>\n",
              "  <tbody>\n",
              "    <tr>\n",
              "      <th>0</th>\n",
              "      <td>1 º</td>\n",
              "      <td>SAO CAETANO DO SUL (SP)</td>\n",
              "      <td>0,862</td>\n",
              "      <td>0,891</td>\n",
              "      <td>0,887</td>\n",
              "      <td>0,811</td>\n",
              "    </tr>\n",
              "    <tr>\n",
              "      <th>1</th>\n",
              "      <td>2 º</td>\n",
              "      <td>AGUAS DE SAO PEDRO (SP)</td>\n",
              "      <td>0,854</td>\n",
              "      <td>0,849</td>\n",
              "      <td>0,89</td>\n",
              "      <td>0,825</td>\n",
              "    </tr>\n",
              "    <tr>\n",
              "      <th>2</th>\n",
              "      <td>3 º</td>\n",
              "      <td>FLORIANOPOLIS (SC)</td>\n",
              "      <td>0,847</td>\n",
              "      <td>0,87</td>\n",
              "      <td>0,873</td>\n",
              "      <td>0,8</td>\n",
              "    </tr>\n",
              "    <tr>\n",
              "      <th>3</th>\n",
              "      <td>4 º</td>\n",
              "      <td>BALNEARIO CAMBORIU (SC)</td>\n",
              "      <td>0,845</td>\n",
              "      <td>0,854</td>\n",
              "      <td>0,894</td>\n",
              "      <td>0,789</td>\n",
              "    </tr>\n",
              "    <tr>\n",
              "      <th>4</th>\n",
              "      <td>4 º</td>\n",
              "      <td>VITORIA (ES)</td>\n",
              "      <td>0,845</td>\n",
              "      <td>0,876</td>\n",
              "      <td>0,855</td>\n",
              "      <td>0,805</td>\n",
              "    </tr>\n",
              "    <tr>\n",
              "      <th>5</th>\n",
              "      <td>6 º</td>\n",
              "      <td>SANTOS (SP)</td>\n",
              "      <td>0,84</td>\n",
              "      <td>0,861</td>\n",
              "      <td>0,852</td>\n",
              "      <td>0,807</td>\n",
              "    </tr>\n",
              "    <tr>\n",
              "      <th>6</th>\n",
              "      <td>7 º</td>\n",
              "      <td>NITEROI (RJ)</td>\n",
              "      <td>0,837</td>\n",
              "      <td>0,887</td>\n",
              "      <td>0,854</td>\n",
              "      <td>0,773</td>\n",
              "    </tr>\n",
              "    <tr>\n",
              "      <th>7</th>\n",
              "      <td>8 º</td>\n",
              "      <td>JOACABA (SC)</td>\n",
              "      <td>0,827</td>\n",
              "      <td>0,823</td>\n",
              "      <td>0,891</td>\n",
              "      <td>0,771</td>\n",
              "    </tr>\n",
              "    <tr>\n",
              "      <th>8</th>\n",
              "      <td>9 º</td>\n",
              "      <td>BRASILIA (DF)</td>\n",
              "      <td>0,824</td>\n",
              "      <td>0,863</td>\n",
              "      <td>0,873</td>\n",
              "      <td>0,742</td>\n",
              "    </tr>\n",
              "    <tr>\n",
              "      <th>9</th>\n",
              "      <td>10 º</td>\n",
              "      <td>CURITIBA (PR)</td>\n",
              "      <td>0,823</td>\n",
              "      <td>0,85</td>\n",
              "      <td>0,855</td>\n",
              "      <td>0,768</td>\n",
              "    </tr>\n",
              "  </tbody>\n",
              "</table>\n",
              "</div>\n",
              "      <button class=\"colab-df-convert\" onclick=\"convertToInteractive('df-9acb520b-869a-4bfb-be92-42b8784aa834')\"\n",
              "              title=\"Convert this dataframe to an interactive table.\"\n",
              "              style=\"display:none;\">\n",
              "        \n",
              "  <svg xmlns=\"http://www.w3.org/2000/svg\" height=\"24px\"viewBox=\"0 0 24 24\"\n",
              "       width=\"24px\">\n",
              "    <path d=\"M0 0h24v24H0V0z\" fill=\"none\"/>\n",
              "    <path d=\"M18.56 5.44l.94 2.06.94-2.06 2.06-.94-2.06-.94-.94-2.06-.94 2.06-2.06.94zm-11 1L8.5 8.5l.94-2.06 2.06-.94-2.06-.94L8.5 2.5l-.94 2.06-2.06.94zm10 10l.94 2.06.94-2.06 2.06-.94-2.06-.94-.94-2.06-.94 2.06-2.06.94z\"/><path d=\"M17.41 7.96l-1.37-1.37c-.4-.4-.92-.59-1.43-.59-.52 0-1.04.2-1.43.59L10.3 9.45l-7.72 7.72c-.78.78-.78 2.05 0 2.83L4 21.41c.39.39.9.59 1.41.59.51 0 1.02-.2 1.41-.59l7.78-7.78 2.81-2.81c.8-.78.8-2.07 0-2.86zM5.41 20L4 18.59l7.72-7.72 1.47 1.35L5.41 20z\"/>\n",
              "  </svg>\n",
              "      </button>\n",
              "      \n",
              "  <style>\n",
              "    .colab-df-container {\n",
              "      display:flex;\n",
              "      flex-wrap:wrap;\n",
              "      gap: 12px;\n",
              "    }\n",
              "\n",
              "    .colab-df-convert {\n",
              "      background-color: #E8F0FE;\n",
              "      border: none;\n",
              "      border-radius: 50%;\n",
              "      cursor: pointer;\n",
              "      display: none;\n",
              "      fill: #1967D2;\n",
              "      height: 32px;\n",
              "      padding: 0 0 0 0;\n",
              "      width: 32px;\n",
              "    }\n",
              "\n",
              "    .colab-df-convert:hover {\n",
              "      background-color: #E2EBFA;\n",
              "      box-shadow: 0px 1px 2px rgba(60, 64, 67, 0.3), 0px 1px 3px 1px rgba(60, 64, 67, 0.15);\n",
              "      fill: #174EA6;\n",
              "    }\n",
              "\n",
              "    [theme=dark] .colab-df-convert {\n",
              "      background-color: #3B4455;\n",
              "      fill: #D2E3FC;\n",
              "    }\n",
              "\n",
              "    [theme=dark] .colab-df-convert:hover {\n",
              "      background-color: #434B5C;\n",
              "      box-shadow: 0px 1px 3px 1px rgba(0, 0, 0, 0.15);\n",
              "      filter: drop-shadow(0px 1px 2px rgba(0, 0, 0, 0.3));\n",
              "      fill: #FFFFFF;\n",
              "    }\n",
              "  </style>\n",
              "\n",
              "      <script>\n",
              "        const buttonEl =\n",
              "          document.querySelector('#df-9acb520b-869a-4bfb-be92-42b8784aa834 button.colab-df-convert');\n",
              "        buttonEl.style.display =\n",
              "          google.colab.kernel.accessAllowed ? 'block' : 'none';\n",
              "\n",
              "        async function convertToInteractive(key) {\n",
              "          const element = document.querySelector('#df-9acb520b-869a-4bfb-be92-42b8784aa834');\n",
              "          const dataTable =\n",
              "            await google.colab.kernel.invokeFunction('convertToInteractive',\n",
              "                                                     [key], {});\n",
              "          if (!dataTable) return;\n",
              "\n",
              "          const docLinkHtml = 'Like what you see? Visit the ' +\n",
              "            '<a target=\"_blank\" href=https://colab.research.google.com/notebooks/data_table.ipynb>data table notebook</a>'\n",
              "            + ' to learn more about interactive tables.';\n",
              "          element.innerHTML = '';\n",
              "          dataTable['output_type'] = 'display_data';\n",
              "          await google.colab.output.renderOutput(dataTable, element);\n",
              "          const docLink = document.createElement('div');\n",
              "          docLink.innerHTML = docLinkHtml;\n",
              "          element.appendChild(docLink);\n",
              "        }\n",
              "      </script>\n",
              "    </div>\n",
              "  </div>\n",
              "  "
            ]
          },
          "metadata": {},
          "execution_count": 66
        }
      ]
    },
    {
      "cell_type": "markdown",
      "source": [
        "1.3.3 - Separação do nome da cidade da sigla do estado"
      ],
      "metadata": {
        "id": "4MDlBILjMLjj"
      }
    },
    {
      "cell_type": "code",
      "source": [
        "base_IDH[['CIDADE', 'ESTADO']] = base_IDH['Município'].str.split('(', expand=True, n=1)\n",
        "base_IDH.head(10)"
      ],
      "metadata": {
        "colab": {
          "base_uri": "https://localhost:8080/",
          "height": 494
        },
        "id": "mLdsKTaSOyXV",
        "outputId": "190c00be-abac-4a4d-9775-a193ee9aecf5"
      },
      "execution_count": null,
      "outputs": [
        {
          "output_type": "execute_result",
          "data": {
            "text/plain": [
              "  Ranking IDHM 2010                Município IDHM 2010 IDHM\\nRenda\\n2010  \\\n",
              "0               1 º  SAO CAETANO DO SUL (SP)     0,862             0,891   \n",
              "1               2 º  AGUAS DE SAO PEDRO (SP)     0,854             0,849   \n",
              "2               3 º       FLORIANOPOLIS (SC)     0,847              0,87   \n",
              "3               4 º  BALNEARIO CAMBORIU (SC)     0,845             0,854   \n",
              "4               4 º             VITORIA (ES)     0,845             0,876   \n",
              "5               6 º              SANTOS (SP)      0,84             0,861   \n",
              "6               7 º             NITEROI (RJ)     0,837             0,887   \n",
              "7               8 º             JOACABA (SC)     0,827             0,823   \n",
              "8               9 º            BRASILIA (DF)     0,824             0,863   \n",
              "9              10 º            CURITIBA (PR)     0,823              0,85   \n",
              "\n",
              "  IDHM Longevidade 2010 IDHM Educação 2010               CIDADE ESTADO  \n",
              "0                 0,887              0,811  SAO CAETANO DO SUL     SP)  \n",
              "1                  0,89              0,825  AGUAS DE SAO PEDRO     SP)  \n",
              "2                 0,873                0,8       FLORIANOPOLIS     SC)  \n",
              "3                 0,894              0,789  BALNEARIO CAMBORIU     SC)  \n",
              "4                 0,855              0,805             VITORIA     ES)  \n",
              "5                 0,852              0,807              SANTOS     SP)  \n",
              "6                 0,854              0,773             NITEROI     RJ)  \n",
              "7                 0,891              0,771             JOACABA     SC)  \n",
              "8                 0,873              0,742            BRASILIA     DF)  \n",
              "9                 0,855              0,768            CURITIBA     PR)  "
            ],
            "text/html": [
              "\n",
              "  <div id=\"df-82071059-63c4-4ef4-a603-5f3729761c3d\">\n",
              "    <div class=\"colab-df-container\">\n",
              "      <div>\n",
              "<style scoped>\n",
              "    .dataframe tbody tr th:only-of-type {\n",
              "        vertical-align: middle;\n",
              "    }\n",
              "\n",
              "    .dataframe tbody tr th {\n",
              "        vertical-align: top;\n",
              "    }\n",
              "\n",
              "    .dataframe thead th {\n",
              "        text-align: right;\n",
              "    }\n",
              "</style>\n",
              "<table border=\"1\" class=\"dataframe\">\n",
              "  <thead>\n",
              "    <tr style=\"text-align: right;\">\n",
              "      <th></th>\n",
              "      <th>Ranking IDHM 2010</th>\n",
              "      <th>Município</th>\n",
              "      <th>IDHM 2010</th>\n",
              "      <th>IDHM\\nRenda\\n2010</th>\n",
              "      <th>IDHM Longevidade 2010</th>\n",
              "      <th>IDHM Educação 2010</th>\n",
              "      <th>CIDADE</th>\n",
              "      <th>ESTADO</th>\n",
              "    </tr>\n",
              "  </thead>\n",
              "  <tbody>\n",
              "    <tr>\n",
              "      <th>0</th>\n",
              "      <td>1 º</td>\n",
              "      <td>SAO CAETANO DO SUL (SP)</td>\n",
              "      <td>0,862</td>\n",
              "      <td>0,891</td>\n",
              "      <td>0,887</td>\n",
              "      <td>0,811</td>\n",
              "      <td>SAO CAETANO DO SUL</td>\n",
              "      <td>SP)</td>\n",
              "    </tr>\n",
              "    <tr>\n",
              "      <th>1</th>\n",
              "      <td>2 º</td>\n",
              "      <td>AGUAS DE SAO PEDRO (SP)</td>\n",
              "      <td>0,854</td>\n",
              "      <td>0,849</td>\n",
              "      <td>0,89</td>\n",
              "      <td>0,825</td>\n",
              "      <td>AGUAS DE SAO PEDRO</td>\n",
              "      <td>SP)</td>\n",
              "    </tr>\n",
              "    <tr>\n",
              "      <th>2</th>\n",
              "      <td>3 º</td>\n",
              "      <td>FLORIANOPOLIS (SC)</td>\n",
              "      <td>0,847</td>\n",
              "      <td>0,87</td>\n",
              "      <td>0,873</td>\n",
              "      <td>0,8</td>\n",
              "      <td>FLORIANOPOLIS</td>\n",
              "      <td>SC)</td>\n",
              "    </tr>\n",
              "    <tr>\n",
              "      <th>3</th>\n",
              "      <td>4 º</td>\n",
              "      <td>BALNEARIO CAMBORIU (SC)</td>\n",
              "      <td>0,845</td>\n",
              "      <td>0,854</td>\n",
              "      <td>0,894</td>\n",
              "      <td>0,789</td>\n",
              "      <td>BALNEARIO CAMBORIU</td>\n",
              "      <td>SC)</td>\n",
              "    </tr>\n",
              "    <tr>\n",
              "      <th>4</th>\n",
              "      <td>4 º</td>\n",
              "      <td>VITORIA (ES)</td>\n",
              "      <td>0,845</td>\n",
              "      <td>0,876</td>\n",
              "      <td>0,855</td>\n",
              "      <td>0,805</td>\n",
              "      <td>VITORIA</td>\n",
              "      <td>ES)</td>\n",
              "    </tr>\n",
              "    <tr>\n",
              "      <th>5</th>\n",
              "      <td>6 º</td>\n",
              "      <td>SANTOS (SP)</td>\n",
              "      <td>0,84</td>\n",
              "      <td>0,861</td>\n",
              "      <td>0,852</td>\n",
              "      <td>0,807</td>\n",
              "      <td>SANTOS</td>\n",
              "      <td>SP)</td>\n",
              "    </tr>\n",
              "    <tr>\n",
              "      <th>6</th>\n",
              "      <td>7 º</td>\n",
              "      <td>NITEROI (RJ)</td>\n",
              "      <td>0,837</td>\n",
              "      <td>0,887</td>\n",
              "      <td>0,854</td>\n",
              "      <td>0,773</td>\n",
              "      <td>NITEROI</td>\n",
              "      <td>RJ)</td>\n",
              "    </tr>\n",
              "    <tr>\n",
              "      <th>7</th>\n",
              "      <td>8 º</td>\n",
              "      <td>JOACABA (SC)</td>\n",
              "      <td>0,827</td>\n",
              "      <td>0,823</td>\n",
              "      <td>0,891</td>\n",
              "      <td>0,771</td>\n",
              "      <td>JOACABA</td>\n",
              "      <td>SC)</td>\n",
              "    </tr>\n",
              "    <tr>\n",
              "      <th>8</th>\n",
              "      <td>9 º</td>\n",
              "      <td>BRASILIA (DF)</td>\n",
              "      <td>0,824</td>\n",
              "      <td>0,863</td>\n",
              "      <td>0,873</td>\n",
              "      <td>0,742</td>\n",
              "      <td>BRASILIA</td>\n",
              "      <td>DF)</td>\n",
              "    </tr>\n",
              "    <tr>\n",
              "      <th>9</th>\n",
              "      <td>10 º</td>\n",
              "      <td>CURITIBA (PR)</td>\n",
              "      <td>0,823</td>\n",
              "      <td>0,85</td>\n",
              "      <td>0,855</td>\n",
              "      <td>0,768</td>\n",
              "      <td>CURITIBA</td>\n",
              "      <td>PR)</td>\n",
              "    </tr>\n",
              "  </tbody>\n",
              "</table>\n",
              "</div>\n",
              "      <button class=\"colab-df-convert\" onclick=\"convertToInteractive('df-82071059-63c4-4ef4-a603-5f3729761c3d')\"\n",
              "              title=\"Convert this dataframe to an interactive table.\"\n",
              "              style=\"display:none;\">\n",
              "        \n",
              "  <svg xmlns=\"http://www.w3.org/2000/svg\" height=\"24px\"viewBox=\"0 0 24 24\"\n",
              "       width=\"24px\">\n",
              "    <path d=\"M0 0h24v24H0V0z\" fill=\"none\"/>\n",
              "    <path d=\"M18.56 5.44l.94 2.06.94-2.06 2.06-.94-2.06-.94-.94-2.06-.94 2.06-2.06.94zm-11 1L8.5 8.5l.94-2.06 2.06-.94-2.06-.94L8.5 2.5l-.94 2.06-2.06.94zm10 10l.94 2.06.94-2.06 2.06-.94-2.06-.94-.94-2.06-.94 2.06-2.06.94z\"/><path d=\"M17.41 7.96l-1.37-1.37c-.4-.4-.92-.59-1.43-.59-.52 0-1.04.2-1.43.59L10.3 9.45l-7.72 7.72c-.78.78-.78 2.05 0 2.83L4 21.41c.39.39.9.59 1.41.59.51 0 1.02-.2 1.41-.59l7.78-7.78 2.81-2.81c.8-.78.8-2.07 0-2.86zM5.41 20L4 18.59l7.72-7.72 1.47 1.35L5.41 20z\"/>\n",
              "  </svg>\n",
              "      </button>\n",
              "      \n",
              "  <style>\n",
              "    .colab-df-container {\n",
              "      display:flex;\n",
              "      flex-wrap:wrap;\n",
              "      gap: 12px;\n",
              "    }\n",
              "\n",
              "    .colab-df-convert {\n",
              "      background-color: #E8F0FE;\n",
              "      border: none;\n",
              "      border-radius: 50%;\n",
              "      cursor: pointer;\n",
              "      display: none;\n",
              "      fill: #1967D2;\n",
              "      height: 32px;\n",
              "      padding: 0 0 0 0;\n",
              "      width: 32px;\n",
              "    }\n",
              "\n",
              "    .colab-df-convert:hover {\n",
              "      background-color: #E2EBFA;\n",
              "      box-shadow: 0px 1px 2px rgba(60, 64, 67, 0.3), 0px 1px 3px 1px rgba(60, 64, 67, 0.15);\n",
              "      fill: #174EA6;\n",
              "    }\n",
              "\n",
              "    [theme=dark] .colab-df-convert {\n",
              "      background-color: #3B4455;\n",
              "      fill: #D2E3FC;\n",
              "    }\n",
              "\n",
              "    [theme=dark] .colab-df-convert:hover {\n",
              "      background-color: #434B5C;\n",
              "      box-shadow: 0px 1px 3px 1px rgba(0, 0, 0, 0.15);\n",
              "      filter: drop-shadow(0px 1px 2px rgba(0, 0, 0, 0.3));\n",
              "      fill: #FFFFFF;\n",
              "    }\n",
              "  </style>\n",
              "\n",
              "      <script>\n",
              "        const buttonEl =\n",
              "          document.querySelector('#df-82071059-63c4-4ef4-a603-5f3729761c3d button.colab-df-convert');\n",
              "        buttonEl.style.display =\n",
              "          google.colab.kernel.accessAllowed ? 'block' : 'none';\n",
              "\n",
              "        async function convertToInteractive(key) {\n",
              "          const element = document.querySelector('#df-82071059-63c4-4ef4-a603-5f3729761c3d');\n",
              "          const dataTable =\n",
              "            await google.colab.kernel.invokeFunction('convertToInteractive',\n",
              "                                                     [key], {});\n",
              "          if (!dataTable) return;\n",
              "\n",
              "          const docLinkHtml = 'Like what you see? Visit the ' +\n",
              "            '<a target=\"_blank\" href=https://colab.research.google.com/notebooks/data_table.ipynb>data table notebook</a>'\n",
              "            + ' to learn more about interactive tables.';\n",
              "          element.innerHTML = '';\n",
              "          dataTable['output_type'] = 'display_data';\n",
              "          await google.colab.output.renderOutput(dataTable, element);\n",
              "          const docLink = document.createElement('div');\n",
              "          docLink.innerHTML = docLinkHtml;\n",
              "          element.appendChild(docLink);\n",
              "        }\n",
              "      </script>\n",
              "    </div>\n",
              "  </div>\n",
              "  "
            ]
          },
          "metadata": {},
          "execution_count": 67
        }
      ]
    },
    {
      "cell_type": "markdown",
      "source": [
        "1.3.4 - Retirada das colunas que não represnetam grande significado para o enriquecimento"
      ],
      "metadata": {
        "id": "MZ19Qh0oMVex"
      }
    },
    {
      "cell_type": "code",
      "source": [
        "base_IDH = base_IDH.drop(columns=['Ranking IDHM 2010','Município','IDHM 2010','IDHM\\nRenda\\n2010','IDHM Longevidade 2010','ESTADO'])"
      ],
      "metadata": {
        "id": "I5My4eqp15oO"
      },
      "execution_count": null,
      "outputs": []
    },
    {
      "cell_type": "code",
      "source": [
        "base_IDH.head(10)"
      ],
      "metadata": {
        "colab": {
          "base_uri": "https://localhost:8080/",
          "height": 363
        },
        "id": "s6-seP723h01",
        "outputId": "e13b7042-e634-46ca-8a12-19dd1f70babe"
      },
      "execution_count": null,
      "outputs": [
        {
          "output_type": "execute_result",
          "data": {
            "text/plain": [
              "  IDHM Educação 2010               CIDADE\n",
              "0              0,811  SAO CAETANO DO SUL \n",
              "1              0,825  AGUAS DE SAO PEDRO \n",
              "2                0,8       FLORIANOPOLIS \n",
              "3              0,789  BALNEARIO CAMBORIU \n",
              "4              0,805             VITORIA \n",
              "5              0,807              SANTOS \n",
              "6              0,773             NITEROI \n",
              "7              0,771             JOACABA \n",
              "8              0,742            BRASILIA \n",
              "9              0,768            CURITIBA "
            ],
            "text/html": [
              "\n",
              "  <div id=\"df-2123a110-49f3-4e2b-b015-c79b41d16726\">\n",
              "    <div class=\"colab-df-container\">\n",
              "      <div>\n",
              "<style scoped>\n",
              "    .dataframe tbody tr th:only-of-type {\n",
              "        vertical-align: middle;\n",
              "    }\n",
              "\n",
              "    .dataframe tbody tr th {\n",
              "        vertical-align: top;\n",
              "    }\n",
              "\n",
              "    .dataframe thead th {\n",
              "        text-align: right;\n",
              "    }\n",
              "</style>\n",
              "<table border=\"1\" class=\"dataframe\">\n",
              "  <thead>\n",
              "    <tr style=\"text-align: right;\">\n",
              "      <th></th>\n",
              "      <th>IDHM Educação 2010</th>\n",
              "      <th>CIDADE</th>\n",
              "    </tr>\n",
              "  </thead>\n",
              "  <tbody>\n",
              "    <tr>\n",
              "      <th>0</th>\n",
              "      <td>0,811</td>\n",
              "      <td>SAO CAETANO DO SUL</td>\n",
              "    </tr>\n",
              "    <tr>\n",
              "      <th>1</th>\n",
              "      <td>0,825</td>\n",
              "      <td>AGUAS DE SAO PEDRO</td>\n",
              "    </tr>\n",
              "    <tr>\n",
              "      <th>2</th>\n",
              "      <td>0,8</td>\n",
              "      <td>FLORIANOPOLIS</td>\n",
              "    </tr>\n",
              "    <tr>\n",
              "      <th>3</th>\n",
              "      <td>0,789</td>\n",
              "      <td>BALNEARIO CAMBORIU</td>\n",
              "    </tr>\n",
              "    <tr>\n",
              "      <th>4</th>\n",
              "      <td>0,805</td>\n",
              "      <td>VITORIA</td>\n",
              "    </tr>\n",
              "    <tr>\n",
              "      <th>5</th>\n",
              "      <td>0,807</td>\n",
              "      <td>SANTOS</td>\n",
              "    </tr>\n",
              "    <tr>\n",
              "      <th>6</th>\n",
              "      <td>0,773</td>\n",
              "      <td>NITEROI</td>\n",
              "    </tr>\n",
              "    <tr>\n",
              "      <th>7</th>\n",
              "      <td>0,771</td>\n",
              "      <td>JOACABA</td>\n",
              "    </tr>\n",
              "    <tr>\n",
              "      <th>8</th>\n",
              "      <td>0,742</td>\n",
              "      <td>BRASILIA</td>\n",
              "    </tr>\n",
              "    <tr>\n",
              "      <th>9</th>\n",
              "      <td>0,768</td>\n",
              "      <td>CURITIBA</td>\n",
              "    </tr>\n",
              "  </tbody>\n",
              "</table>\n",
              "</div>\n",
              "      <button class=\"colab-df-convert\" onclick=\"convertToInteractive('df-2123a110-49f3-4e2b-b015-c79b41d16726')\"\n",
              "              title=\"Convert this dataframe to an interactive table.\"\n",
              "              style=\"display:none;\">\n",
              "        \n",
              "  <svg xmlns=\"http://www.w3.org/2000/svg\" height=\"24px\"viewBox=\"0 0 24 24\"\n",
              "       width=\"24px\">\n",
              "    <path d=\"M0 0h24v24H0V0z\" fill=\"none\"/>\n",
              "    <path d=\"M18.56 5.44l.94 2.06.94-2.06 2.06-.94-2.06-.94-.94-2.06-.94 2.06-2.06.94zm-11 1L8.5 8.5l.94-2.06 2.06-.94-2.06-.94L8.5 2.5l-.94 2.06-2.06.94zm10 10l.94 2.06.94-2.06 2.06-.94-2.06-.94-.94-2.06-.94 2.06-2.06.94z\"/><path d=\"M17.41 7.96l-1.37-1.37c-.4-.4-.92-.59-1.43-.59-.52 0-1.04.2-1.43.59L10.3 9.45l-7.72 7.72c-.78.78-.78 2.05 0 2.83L4 21.41c.39.39.9.59 1.41.59.51 0 1.02-.2 1.41-.59l7.78-7.78 2.81-2.81c.8-.78.8-2.07 0-2.86zM5.41 20L4 18.59l7.72-7.72 1.47 1.35L5.41 20z\"/>\n",
              "  </svg>\n",
              "      </button>\n",
              "      \n",
              "  <style>\n",
              "    .colab-df-container {\n",
              "      display:flex;\n",
              "      flex-wrap:wrap;\n",
              "      gap: 12px;\n",
              "    }\n",
              "\n",
              "    .colab-df-convert {\n",
              "      background-color: #E8F0FE;\n",
              "      border: none;\n",
              "      border-radius: 50%;\n",
              "      cursor: pointer;\n",
              "      display: none;\n",
              "      fill: #1967D2;\n",
              "      height: 32px;\n",
              "      padding: 0 0 0 0;\n",
              "      width: 32px;\n",
              "    }\n",
              "\n",
              "    .colab-df-convert:hover {\n",
              "      background-color: #E2EBFA;\n",
              "      box-shadow: 0px 1px 2px rgba(60, 64, 67, 0.3), 0px 1px 3px 1px rgba(60, 64, 67, 0.15);\n",
              "      fill: #174EA6;\n",
              "    }\n",
              "\n",
              "    [theme=dark] .colab-df-convert {\n",
              "      background-color: #3B4455;\n",
              "      fill: #D2E3FC;\n",
              "    }\n",
              "\n",
              "    [theme=dark] .colab-df-convert:hover {\n",
              "      background-color: #434B5C;\n",
              "      box-shadow: 0px 1px 3px 1px rgba(0, 0, 0, 0.15);\n",
              "      filter: drop-shadow(0px 1px 2px rgba(0, 0, 0, 0.3));\n",
              "      fill: #FFFFFF;\n",
              "    }\n",
              "  </style>\n",
              "\n",
              "      <script>\n",
              "        const buttonEl =\n",
              "          document.querySelector('#df-2123a110-49f3-4e2b-b015-c79b41d16726 button.colab-df-convert');\n",
              "        buttonEl.style.display =\n",
              "          google.colab.kernel.accessAllowed ? 'block' : 'none';\n",
              "\n",
              "        async function convertToInteractive(key) {\n",
              "          const element = document.querySelector('#df-2123a110-49f3-4e2b-b015-c79b41d16726');\n",
              "          const dataTable =\n",
              "            await google.colab.kernel.invokeFunction('convertToInteractive',\n",
              "                                                     [key], {});\n",
              "          if (!dataTable) return;\n",
              "\n",
              "          const docLinkHtml = 'Like what you see? Visit the ' +\n",
              "            '<a target=\"_blank\" href=https://colab.research.google.com/notebooks/data_table.ipynb>data table notebook</a>'\n",
              "            + ' to learn more about interactive tables.';\n",
              "          element.innerHTML = '';\n",
              "          dataTable['output_type'] = 'display_data';\n",
              "          await google.colab.output.renderOutput(dataTable, element);\n",
              "          const docLink = document.createElement('div');\n",
              "          docLink.innerHTML = docLinkHtml;\n",
              "          element.appendChild(docLink);\n",
              "        }\n",
              "      </script>\n",
              "    </div>\n",
              "  </div>\n",
              "  "
            ]
          },
          "metadata": {},
          "execution_count": 69
        }
      ]
    },
    {
      "cell_type": "markdown",
      "source": [
        "1.4 - Enriquecendo com dados de IDH o dataset principal, utilizando a cidade como ponto de comparação "
      ],
      "metadata": {
        "id": "IpDrEcaw3-i3"
      }
    },
    {
      "cell_type": "code",
      "source": [
        "def enriquecimento_IDH(valor):\n",
        "  a = str(valor).strip()\n",
        "  for i in base_IDH.index:\n",
        "    b = str(base_IDH['CIDADE'][i]).strip()\n",
        "    if a == b:\n",
        "      return base_IDH['IDHM Educação 2010'][i]"
      ],
      "metadata": {
        "id": "OaLfpZKj39qN"
      },
      "execution_count": null,
      "outputs": []
    },
    {
      "cell_type": "code",
      "source": [
        "base['IDH_EDUCACAO'] = base['MUNICIPIO_CAP'].apply(lambda x : enriquecimento_IDH(x))\n",
        "base.head(10)"
      ],
      "metadata": {
        "colab": {
          "base_uri": "https://localhost:8080/",
          "height": 774
        },
        "id": "764W98lr8n10",
        "outputId": "c04c2ca0-4da1-4730-cba1-2a3c635dbe73"
      },
      "execution_count": null,
      "outputs": [
        {
          "output_type": "execute_result",
          "data": {
            "text/plain": [
              "        MUNICIPIO_CAP TIPO_ESCOLA    SEXO         IDADE    ETINIA ANO_ESCOLAR  \\\n",
              "99531  BELO HORIZONTE     Privada   Homem  13 a 15 anos  Indigena      8º ano   \n",
              "99533  BELO HORIZONTE     Privada  Mulher  13 a 15 anos     Parda      8º ano   \n",
              "99534  BELO HORIZONTE     Privada  Mulher  13 a 15 anos    Branca      8º ano   \n",
              "99539  BELO HORIZONTE     Privada  Mulher  13 a 15 anos     Preta      8º ano   \n",
              "99544  BELO HORIZONTE     Privada   Homem  13 a 15 anos     Parda      8º ano   \n",
              "99549  BELO HORIZONTE     Privada  Mulher  13 a 15 anos     Parda      8º ano   \n",
              "99558  BELO HORIZONTE     Privada   Homem  13 a 15 anos     Parda      8º ano   \n",
              "99561  BELO HORIZONTE     Privada  Mulher  13 a 15 anos    Branca      8º ano   \n",
              "99562  BELO HORIZONTE     Privada   Homem  13 a 15 anos    Branca      8º ano   \n",
              "99566  BELO HORIZONTE     Privada  Mulher  13 a 15 anos    Branca      7º ano   \n",
              "\n",
              "      MORA_MAE MORA_PAI  JA_FUMOU JA_NARGUILE JA_CIGARRO_ELETRONICO  \\\n",
              "99531      sim      sim       1.0         sim                   sim   \n",
              "99533      sim      sim       2.0         não                   não   \n",
              "99534      sim      sim       2.0         não                   não   \n",
              "99539      sim      sim       2.0         não                   não   \n",
              "99544      sim      sim       2.0         não                   não   \n",
              "99549      sim      sim       2.0         não                   não   \n",
              "99558      sim      sim       2.0         não                   não   \n",
              "99561      sim      não       2.0         não                   não   \n",
              "99562      sim      sim       2.0         não                   não   \n",
              "99566      sim      sim       1.0         não                   sim   \n",
              "\n",
              "      JA_USOU_TABACO                             RESPONSAVEL_FUMA  \\\n",
              "99531            não  Só meu pai ou responsável do sexo masculino   \n",
              "99533            não                                 Nenhum deles   \n",
              "99534            não                                 Nenhum deles   \n",
              "99539            não                                 Nenhum deles   \n",
              "99544            não                                 Nenhum deles   \n",
              "99549            não  Só meu pai ou responsável do sexo masculino   \n",
              "99558            não                                 Nenhum deles   \n",
              "99561            não                                 Nenhum deles   \n",
              "99562            não                                 Nenhum deles   \n",
              "99566            não                                 Nenhum deles   \n",
              "\n",
              "                  FUMA_PROXIMO_ALUNO AMIGO_FUMA IDH_EDUCACAO  \n",
              "99531                  Todos os dias        não        0,737  \n",
              "99533  Nenhum dia nos últimos 7 dias        não        0,737  \n",
              "99534                    1 ou 2 dias        não        0,737  \n",
              "99539  Nenhum dia nos últimos 7 dias        sim        0,737  \n",
              "99544                    1 ou 2 dias        não        0,737  \n",
              "99549                  Todos os dias        não        0,737  \n",
              "99558  Nenhum dia nos últimos 7 dias        não        0,737  \n",
              "99561                    3 ou 4 dias        não        0,737  \n",
              "99562  Nenhum dia nos últimos 7 dias        não        0,737  \n",
              "99566  Nenhum dia nos últimos 7 dias        sim        0,737  "
            ],
            "text/html": [
              "\n",
              "  <div id=\"df-32b3f69e-9d93-4122-be8a-cd2ec9c94797\">\n",
              "    <div class=\"colab-df-container\">\n",
              "      <div>\n",
              "<style scoped>\n",
              "    .dataframe tbody tr th:only-of-type {\n",
              "        vertical-align: middle;\n",
              "    }\n",
              "\n",
              "    .dataframe tbody tr th {\n",
              "        vertical-align: top;\n",
              "    }\n",
              "\n",
              "    .dataframe thead th {\n",
              "        text-align: right;\n",
              "    }\n",
              "</style>\n",
              "<table border=\"1\" class=\"dataframe\">\n",
              "  <thead>\n",
              "    <tr style=\"text-align: right;\">\n",
              "      <th></th>\n",
              "      <th>MUNICIPIO_CAP</th>\n",
              "      <th>TIPO_ESCOLA</th>\n",
              "      <th>SEXO</th>\n",
              "      <th>IDADE</th>\n",
              "      <th>ETINIA</th>\n",
              "      <th>ANO_ESCOLAR</th>\n",
              "      <th>MORA_MAE</th>\n",
              "      <th>MORA_PAI</th>\n",
              "      <th>JA_FUMOU</th>\n",
              "      <th>JA_NARGUILE</th>\n",
              "      <th>JA_CIGARRO_ELETRONICO</th>\n",
              "      <th>JA_USOU_TABACO</th>\n",
              "      <th>RESPONSAVEL_FUMA</th>\n",
              "      <th>FUMA_PROXIMO_ALUNO</th>\n",
              "      <th>AMIGO_FUMA</th>\n",
              "      <th>IDH_EDUCACAO</th>\n",
              "    </tr>\n",
              "  </thead>\n",
              "  <tbody>\n",
              "    <tr>\n",
              "      <th>99531</th>\n",
              "      <td>BELO HORIZONTE</td>\n",
              "      <td>Privada</td>\n",
              "      <td>Homem</td>\n",
              "      <td>13 a 15 anos</td>\n",
              "      <td>Indigena</td>\n",
              "      <td>8º ano</td>\n",
              "      <td>sim</td>\n",
              "      <td>sim</td>\n",
              "      <td>1.0</td>\n",
              "      <td>sim</td>\n",
              "      <td>sim</td>\n",
              "      <td>não</td>\n",
              "      <td>Só meu pai ou responsável do sexo masculino</td>\n",
              "      <td>Todos os dias</td>\n",
              "      <td>não</td>\n",
              "      <td>0,737</td>\n",
              "    </tr>\n",
              "    <tr>\n",
              "      <th>99533</th>\n",
              "      <td>BELO HORIZONTE</td>\n",
              "      <td>Privada</td>\n",
              "      <td>Mulher</td>\n",
              "      <td>13 a 15 anos</td>\n",
              "      <td>Parda</td>\n",
              "      <td>8º ano</td>\n",
              "      <td>sim</td>\n",
              "      <td>sim</td>\n",
              "      <td>2.0</td>\n",
              "      <td>não</td>\n",
              "      <td>não</td>\n",
              "      <td>não</td>\n",
              "      <td>Nenhum deles</td>\n",
              "      <td>Nenhum dia nos últimos 7 dias</td>\n",
              "      <td>não</td>\n",
              "      <td>0,737</td>\n",
              "    </tr>\n",
              "    <tr>\n",
              "      <th>99534</th>\n",
              "      <td>BELO HORIZONTE</td>\n",
              "      <td>Privada</td>\n",
              "      <td>Mulher</td>\n",
              "      <td>13 a 15 anos</td>\n",
              "      <td>Branca</td>\n",
              "      <td>8º ano</td>\n",
              "      <td>sim</td>\n",
              "      <td>sim</td>\n",
              "      <td>2.0</td>\n",
              "      <td>não</td>\n",
              "      <td>não</td>\n",
              "      <td>não</td>\n",
              "      <td>Nenhum deles</td>\n",
              "      <td>1 ou 2 dias</td>\n",
              "      <td>não</td>\n",
              "      <td>0,737</td>\n",
              "    </tr>\n",
              "    <tr>\n",
              "      <th>99539</th>\n",
              "      <td>BELO HORIZONTE</td>\n",
              "      <td>Privada</td>\n",
              "      <td>Mulher</td>\n",
              "      <td>13 a 15 anos</td>\n",
              "      <td>Preta</td>\n",
              "      <td>8º ano</td>\n",
              "      <td>sim</td>\n",
              "      <td>sim</td>\n",
              "      <td>2.0</td>\n",
              "      <td>não</td>\n",
              "      <td>não</td>\n",
              "      <td>não</td>\n",
              "      <td>Nenhum deles</td>\n",
              "      <td>Nenhum dia nos últimos 7 dias</td>\n",
              "      <td>sim</td>\n",
              "      <td>0,737</td>\n",
              "    </tr>\n",
              "    <tr>\n",
              "      <th>99544</th>\n",
              "      <td>BELO HORIZONTE</td>\n",
              "      <td>Privada</td>\n",
              "      <td>Homem</td>\n",
              "      <td>13 a 15 anos</td>\n",
              "      <td>Parda</td>\n",
              "      <td>8º ano</td>\n",
              "      <td>sim</td>\n",
              "      <td>sim</td>\n",
              "      <td>2.0</td>\n",
              "      <td>não</td>\n",
              "      <td>não</td>\n",
              "      <td>não</td>\n",
              "      <td>Nenhum deles</td>\n",
              "      <td>1 ou 2 dias</td>\n",
              "      <td>não</td>\n",
              "      <td>0,737</td>\n",
              "    </tr>\n",
              "    <tr>\n",
              "      <th>99549</th>\n",
              "      <td>BELO HORIZONTE</td>\n",
              "      <td>Privada</td>\n",
              "      <td>Mulher</td>\n",
              "      <td>13 a 15 anos</td>\n",
              "      <td>Parda</td>\n",
              "      <td>8º ano</td>\n",
              "      <td>sim</td>\n",
              "      <td>sim</td>\n",
              "      <td>2.0</td>\n",
              "      <td>não</td>\n",
              "      <td>não</td>\n",
              "      <td>não</td>\n",
              "      <td>Só meu pai ou responsável do sexo masculino</td>\n",
              "      <td>Todos os dias</td>\n",
              "      <td>não</td>\n",
              "      <td>0,737</td>\n",
              "    </tr>\n",
              "    <tr>\n",
              "      <th>99558</th>\n",
              "      <td>BELO HORIZONTE</td>\n",
              "      <td>Privada</td>\n",
              "      <td>Homem</td>\n",
              "      <td>13 a 15 anos</td>\n",
              "      <td>Parda</td>\n",
              "      <td>8º ano</td>\n",
              "      <td>sim</td>\n",
              "      <td>sim</td>\n",
              "      <td>2.0</td>\n",
              "      <td>não</td>\n",
              "      <td>não</td>\n",
              "      <td>não</td>\n",
              "      <td>Nenhum deles</td>\n",
              "      <td>Nenhum dia nos últimos 7 dias</td>\n",
              "      <td>não</td>\n",
              "      <td>0,737</td>\n",
              "    </tr>\n",
              "    <tr>\n",
              "      <th>99561</th>\n",
              "      <td>BELO HORIZONTE</td>\n",
              "      <td>Privada</td>\n",
              "      <td>Mulher</td>\n",
              "      <td>13 a 15 anos</td>\n",
              "      <td>Branca</td>\n",
              "      <td>8º ano</td>\n",
              "      <td>sim</td>\n",
              "      <td>não</td>\n",
              "      <td>2.0</td>\n",
              "      <td>não</td>\n",
              "      <td>não</td>\n",
              "      <td>não</td>\n",
              "      <td>Nenhum deles</td>\n",
              "      <td>3 ou 4 dias</td>\n",
              "      <td>não</td>\n",
              "      <td>0,737</td>\n",
              "    </tr>\n",
              "    <tr>\n",
              "      <th>99562</th>\n",
              "      <td>BELO HORIZONTE</td>\n",
              "      <td>Privada</td>\n",
              "      <td>Homem</td>\n",
              "      <td>13 a 15 anos</td>\n",
              "      <td>Branca</td>\n",
              "      <td>8º ano</td>\n",
              "      <td>sim</td>\n",
              "      <td>sim</td>\n",
              "      <td>2.0</td>\n",
              "      <td>não</td>\n",
              "      <td>não</td>\n",
              "      <td>não</td>\n",
              "      <td>Nenhum deles</td>\n",
              "      <td>Nenhum dia nos últimos 7 dias</td>\n",
              "      <td>não</td>\n",
              "      <td>0,737</td>\n",
              "    </tr>\n",
              "    <tr>\n",
              "      <th>99566</th>\n",
              "      <td>BELO HORIZONTE</td>\n",
              "      <td>Privada</td>\n",
              "      <td>Mulher</td>\n",
              "      <td>13 a 15 anos</td>\n",
              "      <td>Branca</td>\n",
              "      <td>7º ano</td>\n",
              "      <td>sim</td>\n",
              "      <td>sim</td>\n",
              "      <td>1.0</td>\n",
              "      <td>não</td>\n",
              "      <td>sim</td>\n",
              "      <td>não</td>\n",
              "      <td>Nenhum deles</td>\n",
              "      <td>Nenhum dia nos últimos 7 dias</td>\n",
              "      <td>sim</td>\n",
              "      <td>0,737</td>\n",
              "    </tr>\n",
              "  </tbody>\n",
              "</table>\n",
              "</div>\n",
              "      <button class=\"colab-df-convert\" onclick=\"convertToInteractive('df-32b3f69e-9d93-4122-be8a-cd2ec9c94797')\"\n",
              "              title=\"Convert this dataframe to an interactive table.\"\n",
              "              style=\"display:none;\">\n",
              "        \n",
              "  <svg xmlns=\"http://www.w3.org/2000/svg\" height=\"24px\"viewBox=\"0 0 24 24\"\n",
              "       width=\"24px\">\n",
              "    <path d=\"M0 0h24v24H0V0z\" fill=\"none\"/>\n",
              "    <path d=\"M18.56 5.44l.94 2.06.94-2.06 2.06-.94-2.06-.94-.94-2.06-.94 2.06-2.06.94zm-11 1L8.5 8.5l.94-2.06 2.06-.94-2.06-.94L8.5 2.5l-.94 2.06-2.06.94zm10 10l.94 2.06.94-2.06 2.06-.94-2.06-.94-.94-2.06-.94 2.06-2.06.94z\"/><path d=\"M17.41 7.96l-1.37-1.37c-.4-.4-.92-.59-1.43-.59-.52 0-1.04.2-1.43.59L10.3 9.45l-7.72 7.72c-.78.78-.78 2.05 0 2.83L4 21.41c.39.39.9.59 1.41.59.51 0 1.02-.2 1.41-.59l7.78-7.78 2.81-2.81c.8-.78.8-2.07 0-2.86zM5.41 20L4 18.59l7.72-7.72 1.47 1.35L5.41 20z\"/>\n",
              "  </svg>\n",
              "      </button>\n",
              "      \n",
              "  <style>\n",
              "    .colab-df-container {\n",
              "      display:flex;\n",
              "      flex-wrap:wrap;\n",
              "      gap: 12px;\n",
              "    }\n",
              "\n",
              "    .colab-df-convert {\n",
              "      background-color: #E8F0FE;\n",
              "      border: none;\n",
              "      border-radius: 50%;\n",
              "      cursor: pointer;\n",
              "      display: none;\n",
              "      fill: #1967D2;\n",
              "      height: 32px;\n",
              "      padding: 0 0 0 0;\n",
              "      width: 32px;\n",
              "    }\n",
              "\n",
              "    .colab-df-convert:hover {\n",
              "      background-color: #E2EBFA;\n",
              "      box-shadow: 0px 1px 2px rgba(60, 64, 67, 0.3), 0px 1px 3px 1px rgba(60, 64, 67, 0.15);\n",
              "      fill: #174EA6;\n",
              "    }\n",
              "\n",
              "    [theme=dark] .colab-df-convert {\n",
              "      background-color: #3B4455;\n",
              "      fill: #D2E3FC;\n",
              "    }\n",
              "\n",
              "    [theme=dark] .colab-df-convert:hover {\n",
              "      background-color: #434B5C;\n",
              "      box-shadow: 0px 1px 3px 1px rgba(0, 0, 0, 0.15);\n",
              "      filter: drop-shadow(0px 1px 2px rgba(0, 0, 0, 0.3));\n",
              "      fill: #FFFFFF;\n",
              "    }\n",
              "  </style>\n",
              "\n",
              "      <script>\n",
              "        const buttonEl =\n",
              "          document.querySelector('#df-32b3f69e-9d93-4122-be8a-cd2ec9c94797 button.colab-df-convert');\n",
              "        buttonEl.style.display =\n",
              "          google.colab.kernel.accessAllowed ? 'block' : 'none';\n",
              "\n",
              "        async function convertToInteractive(key) {\n",
              "          const element = document.querySelector('#df-32b3f69e-9d93-4122-be8a-cd2ec9c94797');\n",
              "          const dataTable =\n",
              "            await google.colab.kernel.invokeFunction('convertToInteractive',\n",
              "                                                     [key], {});\n",
              "          if (!dataTable) return;\n",
              "\n",
              "          const docLinkHtml = 'Like what you see? Visit the ' +\n",
              "            '<a target=\"_blank\" href=https://colab.research.google.com/notebooks/data_table.ipynb>data table notebook</a>'\n",
              "            + ' to learn more about interactive tables.';\n",
              "          element.innerHTML = '';\n",
              "          dataTable['output_type'] = 'display_data';\n",
              "          await google.colab.output.renderOutput(dataTable, element);\n",
              "          const docLink = document.createElement('div');\n",
              "          docLink.innerHTML = docLinkHtml;\n",
              "          element.appendChild(docLink);\n",
              "        }\n",
              "      </script>\n",
              "    </div>\n",
              "  </div>\n",
              "  "
            ]
          },
          "metadata": {},
          "execution_count": 71
        }
      ]
    },
    {
      "cell_type": "code",
      "source": [
        "base.info()"
      ],
      "metadata": {
        "colab": {
          "base_uri": "https://localhost:8080/"
        },
        "id": "Ro-uhRdvlmbj",
        "outputId": "df3fdcdb-f6a9-44ef-f6c0-076c8311b19d"
      },
      "execution_count": null,
      "outputs": [
        {
          "output_type": "stream",
          "name": "stdout",
          "text": [
            "<class 'pandas.core.frame.DataFrame'>\n",
            "Int64Index: 11602 entries, 99531 to 125065\n",
            "Data columns (total 16 columns):\n",
            " #   Column                 Non-Null Count  Dtype  \n",
            "---  ------                 --------------  -----  \n",
            " 0   MUNICIPIO_CAP          11602 non-null  object \n",
            " 1   TIPO_ESCOLA            11602 non-null  object \n",
            " 2   SEXO                   11602 non-null  object \n",
            " 3   IDADE                  11602 non-null  object \n",
            " 4   ETINIA                 11602 non-null  object \n",
            " 5   ANO_ESCOLAR            11602 non-null  object \n",
            " 6   MORA_MAE               11602 non-null  object \n",
            " 7   MORA_PAI               11602 non-null  object \n",
            " 8   JA_FUMOU               11602 non-null  float64\n",
            " 9   JA_NARGUILE            11602 non-null  object \n",
            " 10  JA_CIGARRO_ELETRONICO  11602 non-null  object \n",
            " 11  JA_USOU_TABACO         11602 non-null  object \n",
            " 12  RESPONSAVEL_FUMA       11602 non-null  object \n",
            " 13  FUMA_PROXIMO_ALUNO     11602 non-null  object \n",
            " 14  AMIGO_FUMA             11602 non-null  object \n",
            " 15  IDH_EDUCACAO           11602 non-null  object \n",
            "dtypes: float64(1), object(15)\n",
            "memory usage: 1.5+ MB\n"
          ]
        }
      ]
    },
    {
      "cell_type": "markdown",
      "source": [
        "1.5 Trasformando coluna IDH em campo numérico "
      ],
      "metadata": {
        "id": "YUlDBDJrcFY1"
      }
    },
    {
      "cell_type": "code",
      "source": [
        "base['IDH_EDUCACAO'] = base['IDH_EDUCACAO'].str.replace(',','.').astype(float)"
      ],
      "metadata": {
        "id": "7iBBhfT7cd2S"
      },
      "execution_count": null,
      "outputs": []
    },
    {
      "cell_type": "code",
      "source": [
        "base.info()"
      ],
      "metadata": {
        "colab": {
          "base_uri": "https://localhost:8080/"
        },
        "id": "m4UjS4CegeW9",
        "outputId": "5e4d67d5-92c0-4202-f574-7edfe78fed77"
      },
      "execution_count": null,
      "outputs": [
        {
          "output_type": "stream",
          "name": "stdout",
          "text": [
            "<class 'pandas.core.frame.DataFrame'>\n",
            "Int64Index: 11602 entries, 99531 to 125065\n",
            "Data columns (total 16 columns):\n",
            " #   Column                 Non-Null Count  Dtype  \n",
            "---  ------                 --------------  -----  \n",
            " 0   MUNICIPIO_CAP          11602 non-null  object \n",
            " 1   TIPO_ESCOLA            11602 non-null  object \n",
            " 2   SEXO                   11602 non-null  object \n",
            " 3   IDADE                  11602 non-null  object \n",
            " 4   ETINIA                 11602 non-null  object \n",
            " 5   ANO_ESCOLAR            11602 non-null  object \n",
            " 6   MORA_MAE               11602 non-null  object \n",
            " 7   MORA_PAI               11602 non-null  object \n",
            " 8   JA_FUMOU               11602 non-null  float64\n",
            " 9   JA_NARGUILE            11602 non-null  object \n",
            " 10  JA_CIGARRO_ELETRONICO  11602 non-null  object \n",
            " 11  JA_USOU_TABACO         11602 non-null  object \n",
            " 12  RESPONSAVEL_FUMA       11602 non-null  object \n",
            " 13  FUMA_PROXIMO_ALUNO     11602 non-null  object \n",
            " 14  AMIGO_FUMA             11602 non-null  object \n",
            " 15  IDH_EDUCACAO           11602 non-null  float64\n",
            "dtypes: float64(2), object(14)\n",
            "memory usage: 1.5+ MB\n"
          ]
        }
      ]
    },
    {
      "cell_type": "markdown",
      "source": [
        "1.6 - Salvando a base de dados que será utilizada no estudo"
      ],
      "metadata": {
        "id": "Ss-0PblhMlYm"
      }
    },
    {
      "cell_type": "code",
      "source": [
        "base.to_csv(\"/content/base_tabagismo_IDH.csv\", index=False)"
      ],
      "metadata": {
        "id": "aXLe1WiV9CHV"
      },
      "execution_count": null,
      "outputs": []
    },
    {
      "cell_type": "markdown",
      "source": [
        "-----------------------------------------------------------"
      ],
      "metadata": {
        "id": "b5zCOwq7ba9Q"
      }
    },
    {
      "cell_type": "markdown",
      "source": [
        "2.0 - EXPLORAÇÃO DOS DADOS E REPRESENTAÇÕES GRÁFICAS\n",
        "\n",
        "- Identificação de outliers\n",
        "- Qual a predominância dos dados entre estudantes que participaram da pesquisa;\n",
        "\n"
      ],
      "metadata": {
        "id": "Pidy4WZ2IAGv"
      }
    },
    {
      "cell_type": "markdown",
      "source": [
        "2.1 - Importando a base de dados"
      ],
      "metadata": {
        "id": "3fNW3LXPMzPU"
      }
    },
    {
      "cell_type": "code",
      "source": [
        "df = pd.read_csv('/content/base_tabagismo_IDH.csv')\n",
        "df.head(10)"
      ],
      "metadata": {
        "id": "kBFg68YzbQ2L",
        "colab": {
          "base_uri": "https://localhost:8080/",
          "height": 774
        },
        "outputId": "43e41f78-d6e6-4802-8bd3-545cadbff12e"
      },
      "execution_count": 107,
      "outputs": [
        {
          "output_type": "execute_result",
          "data": {
            "text/plain": [
              "    MUNICIPIO_CAP TIPO_ESCOLA    SEXO         IDADE    ETINIA ANO_ESCOLAR  \\\n",
              "0  BELO HORIZONTE     Privada   Homem  13 a 15 anos  Indigena      8º ano   \n",
              "1  BELO HORIZONTE     Privada  Mulher  13 a 15 anos     Parda      8º ano   \n",
              "2  BELO HORIZONTE     Privada  Mulher  13 a 15 anos    Branca      8º ano   \n",
              "3  BELO HORIZONTE     Privada  Mulher  13 a 15 anos     Preta      8º ano   \n",
              "4  BELO HORIZONTE     Privada   Homem  13 a 15 anos     Parda      8º ano   \n",
              "5  BELO HORIZONTE     Privada  Mulher  13 a 15 anos     Parda      8º ano   \n",
              "6  BELO HORIZONTE     Privada   Homem  13 a 15 anos     Parda      8º ano   \n",
              "7  BELO HORIZONTE     Privada  Mulher  13 a 15 anos    Branca      8º ano   \n",
              "8  BELO HORIZONTE     Privada   Homem  13 a 15 anos    Branca      8º ano   \n",
              "9  BELO HORIZONTE     Privada  Mulher  13 a 15 anos    Branca      7º ano   \n",
              "\n",
              "  MORA_MAE MORA_PAI  JA_FUMOU JA_NARGUILE JA_CIGARRO_ELETRONICO  \\\n",
              "0      sim      sim       1.0         sim                   sim   \n",
              "1      sim      sim       2.0         não                   não   \n",
              "2      sim      sim       2.0         não                   não   \n",
              "3      sim      sim       2.0         não                   não   \n",
              "4      sim      sim       2.0         não                   não   \n",
              "5      sim      sim       2.0         não                   não   \n",
              "6      sim      sim       2.0         não                   não   \n",
              "7      sim      não       2.0         não                   não   \n",
              "8      sim      sim       2.0         não                   não   \n",
              "9      sim      sim       1.0         não                   sim   \n",
              "\n",
              "  JA_USOU_TABACO                             RESPONSAVEL_FUMA  \\\n",
              "0            não  Só meu pai ou responsável do sexo masculino   \n",
              "1            não                                 Nenhum deles   \n",
              "2            não                                 Nenhum deles   \n",
              "3            não                                 Nenhum deles   \n",
              "4            não                                 Nenhum deles   \n",
              "5            não  Só meu pai ou responsável do sexo masculino   \n",
              "6            não                                 Nenhum deles   \n",
              "7            não                                 Nenhum deles   \n",
              "8            não                                 Nenhum deles   \n",
              "9            não                                 Nenhum deles   \n",
              "\n",
              "              FUMA_PROXIMO_ALUNO AMIGO_FUMA  IDH_EDUCACAO  \n",
              "0                  Todos os dias        não         0.737  \n",
              "1  Nenhum dia nos últimos 7 dias        não         0.737  \n",
              "2                    1 ou 2 dias        não         0.737  \n",
              "3  Nenhum dia nos últimos 7 dias        sim         0.737  \n",
              "4                    1 ou 2 dias        não         0.737  \n",
              "5                  Todos os dias        não         0.737  \n",
              "6  Nenhum dia nos últimos 7 dias        não         0.737  \n",
              "7                    3 ou 4 dias        não         0.737  \n",
              "8  Nenhum dia nos últimos 7 dias        não         0.737  \n",
              "9  Nenhum dia nos últimos 7 dias        sim         0.737  "
            ],
            "text/html": [
              "\n",
              "  <div id=\"df-778261e8-411e-4e85-aa49-6af64cab6d20\">\n",
              "    <div class=\"colab-df-container\">\n",
              "      <div>\n",
              "<style scoped>\n",
              "    .dataframe tbody tr th:only-of-type {\n",
              "        vertical-align: middle;\n",
              "    }\n",
              "\n",
              "    .dataframe tbody tr th {\n",
              "        vertical-align: top;\n",
              "    }\n",
              "\n",
              "    .dataframe thead th {\n",
              "        text-align: right;\n",
              "    }\n",
              "</style>\n",
              "<table border=\"1\" class=\"dataframe\">\n",
              "  <thead>\n",
              "    <tr style=\"text-align: right;\">\n",
              "      <th></th>\n",
              "      <th>MUNICIPIO_CAP</th>\n",
              "      <th>TIPO_ESCOLA</th>\n",
              "      <th>SEXO</th>\n",
              "      <th>IDADE</th>\n",
              "      <th>ETINIA</th>\n",
              "      <th>ANO_ESCOLAR</th>\n",
              "      <th>MORA_MAE</th>\n",
              "      <th>MORA_PAI</th>\n",
              "      <th>JA_FUMOU</th>\n",
              "      <th>JA_NARGUILE</th>\n",
              "      <th>JA_CIGARRO_ELETRONICO</th>\n",
              "      <th>JA_USOU_TABACO</th>\n",
              "      <th>RESPONSAVEL_FUMA</th>\n",
              "      <th>FUMA_PROXIMO_ALUNO</th>\n",
              "      <th>AMIGO_FUMA</th>\n",
              "      <th>IDH_EDUCACAO</th>\n",
              "    </tr>\n",
              "  </thead>\n",
              "  <tbody>\n",
              "    <tr>\n",
              "      <th>0</th>\n",
              "      <td>BELO HORIZONTE</td>\n",
              "      <td>Privada</td>\n",
              "      <td>Homem</td>\n",
              "      <td>13 a 15 anos</td>\n",
              "      <td>Indigena</td>\n",
              "      <td>8º ano</td>\n",
              "      <td>sim</td>\n",
              "      <td>sim</td>\n",
              "      <td>1.0</td>\n",
              "      <td>sim</td>\n",
              "      <td>sim</td>\n",
              "      <td>não</td>\n",
              "      <td>Só meu pai ou responsável do sexo masculino</td>\n",
              "      <td>Todos os dias</td>\n",
              "      <td>não</td>\n",
              "      <td>0.737</td>\n",
              "    </tr>\n",
              "    <tr>\n",
              "      <th>1</th>\n",
              "      <td>BELO HORIZONTE</td>\n",
              "      <td>Privada</td>\n",
              "      <td>Mulher</td>\n",
              "      <td>13 a 15 anos</td>\n",
              "      <td>Parda</td>\n",
              "      <td>8º ano</td>\n",
              "      <td>sim</td>\n",
              "      <td>sim</td>\n",
              "      <td>2.0</td>\n",
              "      <td>não</td>\n",
              "      <td>não</td>\n",
              "      <td>não</td>\n",
              "      <td>Nenhum deles</td>\n",
              "      <td>Nenhum dia nos últimos 7 dias</td>\n",
              "      <td>não</td>\n",
              "      <td>0.737</td>\n",
              "    </tr>\n",
              "    <tr>\n",
              "      <th>2</th>\n",
              "      <td>BELO HORIZONTE</td>\n",
              "      <td>Privada</td>\n",
              "      <td>Mulher</td>\n",
              "      <td>13 a 15 anos</td>\n",
              "      <td>Branca</td>\n",
              "      <td>8º ano</td>\n",
              "      <td>sim</td>\n",
              "      <td>sim</td>\n",
              "      <td>2.0</td>\n",
              "      <td>não</td>\n",
              "      <td>não</td>\n",
              "      <td>não</td>\n",
              "      <td>Nenhum deles</td>\n",
              "      <td>1 ou 2 dias</td>\n",
              "      <td>não</td>\n",
              "      <td>0.737</td>\n",
              "    </tr>\n",
              "    <tr>\n",
              "      <th>3</th>\n",
              "      <td>BELO HORIZONTE</td>\n",
              "      <td>Privada</td>\n",
              "      <td>Mulher</td>\n",
              "      <td>13 a 15 anos</td>\n",
              "      <td>Preta</td>\n",
              "      <td>8º ano</td>\n",
              "      <td>sim</td>\n",
              "      <td>sim</td>\n",
              "      <td>2.0</td>\n",
              "      <td>não</td>\n",
              "      <td>não</td>\n",
              "      <td>não</td>\n",
              "      <td>Nenhum deles</td>\n",
              "      <td>Nenhum dia nos últimos 7 dias</td>\n",
              "      <td>sim</td>\n",
              "      <td>0.737</td>\n",
              "    </tr>\n",
              "    <tr>\n",
              "      <th>4</th>\n",
              "      <td>BELO HORIZONTE</td>\n",
              "      <td>Privada</td>\n",
              "      <td>Homem</td>\n",
              "      <td>13 a 15 anos</td>\n",
              "      <td>Parda</td>\n",
              "      <td>8º ano</td>\n",
              "      <td>sim</td>\n",
              "      <td>sim</td>\n",
              "      <td>2.0</td>\n",
              "      <td>não</td>\n",
              "      <td>não</td>\n",
              "      <td>não</td>\n",
              "      <td>Nenhum deles</td>\n",
              "      <td>1 ou 2 dias</td>\n",
              "      <td>não</td>\n",
              "      <td>0.737</td>\n",
              "    </tr>\n",
              "    <tr>\n",
              "      <th>5</th>\n",
              "      <td>BELO HORIZONTE</td>\n",
              "      <td>Privada</td>\n",
              "      <td>Mulher</td>\n",
              "      <td>13 a 15 anos</td>\n",
              "      <td>Parda</td>\n",
              "      <td>8º ano</td>\n",
              "      <td>sim</td>\n",
              "      <td>sim</td>\n",
              "      <td>2.0</td>\n",
              "      <td>não</td>\n",
              "      <td>não</td>\n",
              "      <td>não</td>\n",
              "      <td>Só meu pai ou responsável do sexo masculino</td>\n",
              "      <td>Todos os dias</td>\n",
              "      <td>não</td>\n",
              "      <td>0.737</td>\n",
              "    </tr>\n",
              "    <tr>\n",
              "      <th>6</th>\n",
              "      <td>BELO HORIZONTE</td>\n",
              "      <td>Privada</td>\n",
              "      <td>Homem</td>\n",
              "      <td>13 a 15 anos</td>\n",
              "      <td>Parda</td>\n",
              "      <td>8º ano</td>\n",
              "      <td>sim</td>\n",
              "      <td>sim</td>\n",
              "      <td>2.0</td>\n",
              "      <td>não</td>\n",
              "      <td>não</td>\n",
              "      <td>não</td>\n",
              "      <td>Nenhum deles</td>\n",
              "      <td>Nenhum dia nos últimos 7 dias</td>\n",
              "      <td>não</td>\n",
              "      <td>0.737</td>\n",
              "    </tr>\n",
              "    <tr>\n",
              "      <th>7</th>\n",
              "      <td>BELO HORIZONTE</td>\n",
              "      <td>Privada</td>\n",
              "      <td>Mulher</td>\n",
              "      <td>13 a 15 anos</td>\n",
              "      <td>Branca</td>\n",
              "      <td>8º ano</td>\n",
              "      <td>sim</td>\n",
              "      <td>não</td>\n",
              "      <td>2.0</td>\n",
              "      <td>não</td>\n",
              "      <td>não</td>\n",
              "      <td>não</td>\n",
              "      <td>Nenhum deles</td>\n",
              "      <td>3 ou 4 dias</td>\n",
              "      <td>não</td>\n",
              "      <td>0.737</td>\n",
              "    </tr>\n",
              "    <tr>\n",
              "      <th>8</th>\n",
              "      <td>BELO HORIZONTE</td>\n",
              "      <td>Privada</td>\n",
              "      <td>Homem</td>\n",
              "      <td>13 a 15 anos</td>\n",
              "      <td>Branca</td>\n",
              "      <td>8º ano</td>\n",
              "      <td>sim</td>\n",
              "      <td>sim</td>\n",
              "      <td>2.0</td>\n",
              "      <td>não</td>\n",
              "      <td>não</td>\n",
              "      <td>não</td>\n",
              "      <td>Nenhum deles</td>\n",
              "      <td>Nenhum dia nos últimos 7 dias</td>\n",
              "      <td>não</td>\n",
              "      <td>0.737</td>\n",
              "    </tr>\n",
              "    <tr>\n",
              "      <th>9</th>\n",
              "      <td>BELO HORIZONTE</td>\n",
              "      <td>Privada</td>\n",
              "      <td>Mulher</td>\n",
              "      <td>13 a 15 anos</td>\n",
              "      <td>Branca</td>\n",
              "      <td>7º ano</td>\n",
              "      <td>sim</td>\n",
              "      <td>sim</td>\n",
              "      <td>1.0</td>\n",
              "      <td>não</td>\n",
              "      <td>sim</td>\n",
              "      <td>não</td>\n",
              "      <td>Nenhum deles</td>\n",
              "      <td>Nenhum dia nos últimos 7 dias</td>\n",
              "      <td>sim</td>\n",
              "      <td>0.737</td>\n",
              "    </tr>\n",
              "  </tbody>\n",
              "</table>\n",
              "</div>\n",
              "      <button class=\"colab-df-convert\" onclick=\"convertToInteractive('df-778261e8-411e-4e85-aa49-6af64cab6d20')\"\n",
              "              title=\"Convert this dataframe to an interactive table.\"\n",
              "              style=\"display:none;\">\n",
              "        \n",
              "  <svg xmlns=\"http://www.w3.org/2000/svg\" height=\"24px\"viewBox=\"0 0 24 24\"\n",
              "       width=\"24px\">\n",
              "    <path d=\"M0 0h24v24H0V0z\" fill=\"none\"/>\n",
              "    <path d=\"M18.56 5.44l.94 2.06.94-2.06 2.06-.94-2.06-.94-.94-2.06-.94 2.06-2.06.94zm-11 1L8.5 8.5l.94-2.06 2.06-.94-2.06-.94L8.5 2.5l-.94 2.06-2.06.94zm10 10l.94 2.06.94-2.06 2.06-.94-2.06-.94-.94-2.06-.94 2.06-2.06.94z\"/><path d=\"M17.41 7.96l-1.37-1.37c-.4-.4-.92-.59-1.43-.59-.52 0-1.04.2-1.43.59L10.3 9.45l-7.72 7.72c-.78.78-.78 2.05 0 2.83L4 21.41c.39.39.9.59 1.41.59.51 0 1.02-.2 1.41-.59l7.78-7.78 2.81-2.81c.8-.78.8-2.07 0-2.86zM5.41 20L4 18.59l7.72-7.72 1.47 1.35L5.41 20z\"/>\n",
              "  </svg>\n",
              "      </button>\n",
              "      \n",
              "  <style>\n",
              "    .colab-df-container {\n",
              "      display:flex;\n",
              "      flex-wrap:wrap;\n",
              "      gap: 12px;\n",
              "    }\n",
              "\n",
              "    .colab-df-convert {\n",
              "      background-color: #E8F0FE;\n",
              "      border: none;\n",
              "      border-radius: 50%;\n",
              "      cursor: pointer;\n",
              "      display: none;\n",
              "      fill: #1967D2;\n",
              "      height: 32px;\n",
              "      padding: 0 0 0 0;\n",
              "      width: 32px;\n",
              "    }\n",
              "\n",
              "    .colab-df-convert:hover {\n",
              "      background-color: #E2EBFA;\n",
              "      box-shadow: 0px 1px 2px rgba(60, 64, 67, 0.3), 0px 1px 3px 1px rgba(60, 64, 67, 0.15);\n",
              "      fill: #174EA6;\n",
              "    }\n",
              "\n",
              "    [theme=dark] .colab-df-convert {\n",
              "      background-color: #3B4455;\n",
              "      fill: #D2E3FC;\n",
              "    }\n",
              "\n",
              "    [theme=dark] .colab-df-convert:hover {\n",
              "      background-color: #434B5C;\n",
              "      box-shadow: 0px 1px 3px 1px rgba(0, 0, 0, 0.15);\n",
              "      filter: drop-shadow(0px 1px 2px rgba(0, 0, 0, 0.3));\n",
              "      fill: #FFFFFF;\n",
              "    }\n",
              "  </style>\n",
              "\n",
              "      <script>\n",
              "        const buttonEl =\n",
              "          document.querySelector('#df-778261e8-411e-4e85-aa49-6af64cab6d20 button.colab-df-convert');\n",
              "        buttonEl.style.display =\n",
              "          google.colab.kernel.accessAllowed ? 'block' : 'none';\n",
              "\n",
              "        async function convertToInteractive(key) {\n",
              "          const element = document.querySelector('#df-778261e8-411e-4e85-aa49-6af64cab6d20');\n",
              "          const dataTable =\n",
              "            await google.colab.kernel.invokeFunction('convertToInteractive',\n",
              "                                                     [key], {});\n",
              "          if (!dataTable) return;\n",
              "\n",
              "          const docLinkHtml = 'Like what you see? Visit the ' +\n",
              "            '<a target=\"_blank\" href=https://colab.research.google.com/notebooks/data_table.ipynb>data table notebook</a>'\n",
              "            + ' to learn more about interactive tables.';\n",
              "          element.innerHTML = '';\n",
              "          dataTable['output_type'] = 'display_data';\n",
              "          await google.colab.output.renderOutput(dataTable, element);\n",
              "          const docLink = document.createElement('div');\n",
              "          docLink.innerHTML = docLinkHtml;\n",
              "          element.appendChild(docLink);\n",
              "        }\n",
              "      </script>\n",
              "    </div>\n",
              "  </div>\n",
              "  "
            ]
          },
          "metadata": {},
          "execution_count": 107
        }
      ]
    },
    {
      "cell_type": "markdown",
      "source": [
        "2.2 - Tratamento da coluna alvo (Ja_fumou)"
      ],
      "metadata": {
        "id": "s5eyB6ivM53-"
      }
    },
    {
      "cell_type": "markdown",
      "source": [
        "Como a Representação dos dados de se o Aluno já fumou ou não alguma vez na vida, continua como base numérica, para a representação gráfica, o dados de 1 e 2 , representando sim ou não, respectivamente, serão transformados em campo de texto. "
      ],
      "metadata": {
        "id": "YKPcmyN3G3qH"
      }
    },
    {
      "cell_type": "code",
      "source": [
        "def ajuste_ja_fumou(valor):\n",
        "  if valor == 1:\n",
        "    return \"sim\"\n",
        "  else:\n",
        "    return \"não\""
      ],
      "metadata": {
        "id": "fz0Rf80HG3Fb"
      },
      "execution_count": 108,
      "outputs": []
    },
    {
      "cell_type": "code",
      "source": [
        "df['JA_FUMOU'] = df['JA_FUMOU'].apply(lambda x : ajuste_ja_fumou(x))"
      ],
      "metadata": {
        "id": "0rVbNhOiHRlx"
      },
      "execution_count": 110,
      "outputs": []
    },
    {
      "cell_type": "markdown",
      "source": [
        "2.3 - verificando se a base não possui valores vazios"
      ],
      "metadata": {
        "id": "obLWB5obwhfW"
      }
    },
    {
      "cell_type": "code",
      "source": [
        "df.isna().sum()"
      ],
      "metadata": {
        "colab": {
          "base_uri": "https://localhost:8080/"
        },
        "id": "UUrtw0fsraCq",
        "outputId": "c67253c1-c0a7-4adb-f528-fdfeefe29c9a"
      },
      "execution_count": 111,
      "outputs": [
        {
          "output_type": "execute_result",
          "data": {
            "text/plain": [
              "MUNICIPIO_CAP            0\n",
              "TIPO_ESCOLA              0\n",
              "SEXO                     0\n",
              "IDADE                    0\n",
              "ETINIA                   0\n",
              "ANO_ESCOLAR              0\n",
              "MORA_MAE                 0\n",
              "MORA_PAI                 0\n",
              "JA_FUMOU                 0\n",
              "JA_NARGUILE              0\n",
              "JA_CIGARRO_ELETRONICO    0\n",
              "JA_USOU_TABACO           0\n",
              "RESPONSAVEL_FUMA         0\n",
              "FUMA_PROXIMO_ALUNO       0\n",
              "AMIGO_FUMA               0\n",
              "IDH_EDUCACAO             0\n",
              "dtype: int64"
            ]
          },
          "metadata": {},
          "execution_count": 111
        }
      ]
    },
    {
      "cell_type": "code",
      "execution_count": 112,
      "metadata": {
        "id": "ASvAL-_6Do4n",
        "colab": {
          "base_uri": "https://localhost:8080/"
        },
        "outputId": "897fa224-967f-40cd-a24a-b7aaeef05f6e"
      },
      "outputs": [
        {
          "output_type": "stream",
          "name": "stdout",
          "text": [
            "<class 'pandas.core.frame.DataFrame'>\n",
            "RangeIndex: 11602 entries, 0 to 11601\n",
            "Data columns (total 16 columns):\n",
            " #   Column                 Non-Null Count  Dtype  \n",
            "---  ------                 --------------  -----  \n",
            " 0   MUNICIPIO_CAP          11602 non-null  object \n",
            " 1   TIPO_ESCOLA            11602 non-null  object \n",
            " 2   SEXO                   11602 non-null  object \n",
            " 3   IDADE                  11602 non-null  object \n",
            " 4   ETINIA                 11602 non-null  object \n",
            " 5   ANO_ESCOLAR            11602 non-null  object \n",
            " 6   MORA_MAE               11602 non-null  object \n",
            " 7   MORA_PAI               11602 non-null  object \n",
            " 8   JA_FUMOU               11602 non-null  object \n",
            " 9   JA_NARGUILE            11602 non-null  object \n",
            " 10  JA_CIGARRO_ELETRONICO  11602 non-null  object \n",
            " 11  JA_USOU_TABACO         11602 non-null  object \n",
            " 12  RESPONSAVEL_FUMA       11602 non-null  object \n",
            " 13  FUMA_PROXIMO_ALUNO     11602 non-null  object \n",
            " 14  AMIGO_FUMA             11602 non-null  object \n",
            " 15  IDH_EDUCACAO           11602 non-null  float64\n",
            "dtypes: float64(1), object(15)\n",
            "memory usage: 1.4+ MB\n"
          ]
        }
      ],
      "source": [
        "df.info()"
      ]
    },
    {
      "cell_type": "markdown",
      "source": [
        "2.4 - Identificação de outliers para os campos numéricos da base de dados: "
      ],
      "metadata": {
        "id": "Qky12IJ8w1MV"
      }
    },
    {
      "cell_type": "markdown",
      "source": [
        "2.4.1 - IDH da cidade de estudo "
      ],
      "metadata": {
        "id": "l2We3xNOxC51"
      }
    },
    {
      "cell_type": "code",
      "source": [
        "sns.boxplot(x=df['IDH_EDUCACAO'], palette=\"OrRd\");"
      ],
      "metadata": {
        "colab": {
          "base_uri": "https://localhost:8080/",
          "height": 361
        },
        "id": "uut7OqurxKV1",
        "outputId": "f497dcba-6cb7-46b4-9451-8a6dae18d48c"
      },
      "execution_count": 113,
      "outputs": [
        {
          "output_type": "display_data",
          "data": {
            "text/plain": [
              "<Figure size 576x396 with 1 Axes>"
            ],
            "image/png": "[encoded data removed]"
          },
          "metadata": {}
        }
      ]
    },
    {
      "cell_type": "markdown",
      "source": [
        "2.5 - Visualização dos dados nominais para identificação de outliers"
      ],
      "metadata": {
        "id": "JoPQAiPn5wll"
      }
    },
    {
      "cell_type": "markdown",
      "source": [
        "Função para padronização dos gráficos de coluna"
      ],
      "metadata": {
        "id": "w1bU4FMF6FKs"
      }
    },
    {
      "cell_type": "code",
      "source": [
        "def countplot_format(classe, eixox, eixoy, titulo):\n",
        "  grafico = plt.subplots(figsize=(15, 13))\n",
        "  grafico = sns.countplot(x=df[classe],palette = 'OrRd_r')\n",
        "  grafico.set_title(f'{titulo}\\n', fontsize=30); \n",
        "  grafico.set_xlabel(eixox, fontsize=10); \n",
        "  grafico.set_ylabel(eixoy, fontsize=10);\n",
        "  return grafico"
      ],
      "metadata": {
        "id": "FGKFItbp-jqI"
      },
      "execution_count": 114,
      "outputs": []
    },
    {
      "cell_type": "markdown",
      "source": [
        "2.5.1 - Quantidade de Alunos que já experimentaram cigarro ao menos uma vez "
      ],
      "metadata": {
        "id": "Z7wMMdFULc2Y"
      }
    },
    {
      "cell_type": "code",
      "source": [
        "situacao_ja_fumou = countplot_format('JA_FUMOU', 'x', 'Quantidade', 'Quantidade de alunos que já fumaram')\n",
        "plt.tick_params(left = False, right = False , labelleft = True ,labelbottom = True, bottom = False)\n",
        "plt.xticks(rotation=45)\n",
        "plt.show()"
      ],
      "metadata": {
        "colab": {
          "base_uri": "https://localhost:8080/",
          "height": 838
        },
        "id": "96ITdoseq7fc",
        "outputId": "b62d4277-b1db-4ee0-a9f6-e8855434bebe"
      },
      "execution_count": 115,
      "outputs": [
        {
          "output_type": "display_data",
          "data": {
            "text/plain": [
              "<Figure size 1080x936 with 1 Axes>"
            ],
            "image/png": "[encoded data removed]"
          },
          "metadata": {}
        }
      ]
    },
    {
      "cell_type": "code",
      "source": [
        "df['JA_FUMOU'].describe()"
      ],
      "metadata": {
        "colab": {
          "base_uri": "https://localhost:8080/"
        },
        "id": "7uVGUImnx4bG",
        "outputId": "073b2af0-6541-4ab9-acc8-a4709f681690"
      },
      "execution_count": 116,
      "outputs": [
        {
          "output_type": "execute_result",
          "data": {
            "text/plain": [
              "count     11602\n",
              "unique        2\n",
              "top         não\n",
              "freq       8831\n",
              "Name: JA_FUMOU, dtype: object"
            ]
          },
          "metadata": {},
          "execution_count": 116
        }
      ]
    },
    {
      "cell_type": "markdown",
      "source": [
        "2.5.2 - Idade predominante dos alunos que participaram da pesquisa "
      ],
      "metadata": {
        "id": "68HvYNMJLx4o"
      }
    },
    {
      "cell_type": "code",
      "source": [
        "idade = countplot_format('IDADE', 'x', 'Quantidade', 'Idade predominante')\n",
        "plt.tick_params(left = False, right = False , labelleft = True ,labelbottom = True, bottom = False)\n",
        "plt.xticks(rotation=45)\n",
        "plt.show()"
      ],
      "metadata": {
        "colab": {
          "base_uri": "https://localhost:8080/",
          "height": 878
        },
        "id": "6_DeRoxjLo2Z",
        "outputId": "01e4bb8f-1f2a-4248-9edc-657494272e94"
      },
      "execution_count": 117,
      "outputs": [
        {
          "output_type": "display_data",
          "data": {
            "text/plain": [
              "<Figure size 1080x936 with 1 Axes>"
            ],
            "image/png": "[encoded data removed]"
          },
          "metadata": {}
        }
      ]
    },
    {
      "cell_type": "markdown",
      "source": [
        "2.5.3 - Sexo predominante dos alunos que participaram da pesquisa \n"
      ],
      "metadata": {
        "id": "GSrmgBJJML_h"
      }
    },
    {
      "cell_type": "code",
      "source": [
        "sexo = countplot_format('SEXO', 'x', 'Quantidade', 'Sexo predominante')\n",
        "plt.tick_params(left = False, right = False , labelleft = True ,labelbottom = True, bottom = False)\n",
        "plt.xticks(rotation=45)\n",
        "plt.show()"
      ],
      "metadata": {
        "colab": {
          "base_uri": "https://localhost:8080/",
          "height": 872
        },
        "id": "xzBo7iWlMRwA",
        "outputId": "e967934b-6363-48f3-d3f3-80338c1bdece"
      },
      "execution_count": 118,
      "outputs": [
        {
          "output_type": "display_data",
          "data": {
            "text/plain": [
              "<Figure size 1080x936 with 1 Axes>"
            ],
            "image/png": "[encoded data removed]"
          },
          "metadata": {}
        }
      ]
    },
    {
      "cell_type": "markdown",
      "source": [
        "2.5.4 - Etinia predominante dos alunos que participaram da pesquisa "
      ],
      "metadata": {
        "id": "xtF2hqv4Ml53"
      }
    },
    {
      "cell_type": "code",
      "source": [
        "etinia = countplot_format('ETINIA', 'x', 'Quantidade', 'Etinia dos alunos')\n",
        "plt.tick_params(left = False, right = False , labelleft = True ,labelbottom = True, bottom = False)\n",
        "plt.xticks(rotation=45)\n",
        "plt.show()"
      ],
      "metadata": {
        "colab": {
          "base_uri": "https://localhost:8080/",
          "height": 872
        },
        "id": "qZgrECnjMgHI",
        "outputId": "d905fdc6-eafb-4ff3-81db-9933b4bfeb6f"
      },
      "execution_count": 119,
      "outputs": [
        {
          "output_type": "display_data",
          "data": {
            "text/plain": [
              "<Figure size 1080x936 with 1 Axes>"
            ],
            "image/png": "[encoded data removed]"
          },
          "metadata": {}
        }
      ]
    },
    {
      "cell_type": "markdown",
      "source": [
        "2.5.5 - Ano escolar predominante dos alunos que participaram da pesquisa "
      ],
      "metadata": {
        "id": "LSOv-TJWM_fT"
      }
    },
    {
      "cell_type": "code",
      "source": [
        "anoEscolar = countplot_format('ANO_ESCOLAR', 'x', 'Quantidade', 'Ano escolar predominante')\n",
        "plt.tick_params(left = False, right = False , labelleft = True ,labelbottom = True, bottom = False)\n",
        "plt.xticks(rotation=45)\n",
        "plt.show()"
      ],
      "metadata": {
        "colab": {
          "base_uri": "https://localhost:8080/",
          "height": 890
        },
        "id": "3O3aZ5dfPscw",
        "outputId": "6d9fb164-209d-4f44-afef-4b464fbfbb37"
      },
      "execution_count": 120,
      "outputs": [
        {
          "output_type": "display_data",
          "data": {
            "text/plain": [
              "<Figure size 1080x936 with 1 Axes>"
            ],
            "image/png": "[encoded data removed]"
          },
          "metadata": {}
        }
      ]
    },
    {
      "cell_type": "markdown",
      "source": [
        "2.5.6 - Incidencia de pais, ou responsáveis, fumantes para alunos que participaram da pesquisa "
      ],
      "metadata": {
        "id": "A91f5w347VlX"
      }
    },
    {
      "cell_type": "code",
      "source": [
        "respFumante = countplot_format('RESPONSAVEL_FUMA', 'x', 'Quantidade', 'Incidência de fumantes entre os responsáveis pelos alunos')\n",
        "plt.tick_params(left = False, right = False , labelleft = True ,labelbottom = True, bottom = False)\n",
        "plt.xticks(rotation=45)\n",
        "plt.show()"
      ],
      "metadata": {
        "colab": {
          "base_uri": "https://localhost:8080/",
          "height": 976
        },
        "id": "-mfy525M7dLM",
        "outputId": "23be12b8-4236-43d8-c941-87a11b592e99"
      },
      "execution_count": 121,
      "outputs": [
        {
          "output_type": "display_data",
          "data": {
            "text/plain": [
              "<Figure size 1080x936 with 1 Axes>"
            ],
            "image/png": "[encoded data removed]"
          },
          "metadata": {}
        }
      ]
    },
    {
      "cell_type": "markdown",
      "source": [
        "2.5.7 - Dados de amigo fumante predominante dos alunos que participaram da pesquisa "
      ],
      "metadata": {
        "id": "KNel1GTO7m2s"
      }
    },
    {
      "cell_type": "code",
      "source": [
        "amigo = countplot_format('AMIGO_FUMA', 'x', 'Quantidade', 'Incidência de amigos fumantes')\n",
        "plt.tick_params(left = False, right = False , labelleft = True ,labelbottom = True, bottom = False)\n",
        "plt.xticks(rotation=45)\n",
        "plt.show()"
      ],
      "metadata": {
        "colab": {
          "base_uri": "https://localhost:8080/",
          "height": 872
        },
        "id": "S4dczxoY7rKE",
        "outputId": "93105d66-77f5-453e-ba46-0d4b2db992aa"
      },
      "execution_count": 122,
      "outputs": [
        {
          "output_type": "display_data",
          "data": {
            "text/plain": [
              "<Figure size 1080x936 with 1 Axes>"
            ],
            "image/png": "[encoded data removed]"
          },
          "metadata": {}
        }
      ]
    },
    {
      "cell_type": "markdown",
      "source": [
        "-------------------------------------------------------------"
      ],
      "metadata": {
        "id": "zQC9FaWPqVZb"
      }
    },
    {
      "cell_type": "markdown",
      "source": [
        "3.0 - EXPLORAÇÃO DOS DADOS CONJUNTOS\n",
        "\n",
        "- Qual a influência de cada dado para a criação do hábito de fumar, entre os adolescentes;\n",
        "- Qual a influência do IDH para o nível de tabagismo entre os jovens;\n",
        "- Escolas públicas ou privadas são de relevância para o desenvolvimento do hábito?"
      ],
      "metadata": {
        "id": "VXdS_qxxQKkh"
      }
    },
    {
      "cell_type": "markdown",
      "source": [
        "Função de padronização dos mapas de calor"
      ],
      "metadata": {
        "id": "uvy-ts1vD8K_"
      }
    },
    {
      "cell_type": "code",
      "source": [
        "def mapaDeCalor(principal, comparativo, eixoX, eixoY, titulo):\n",
        "  bd = df.loc[~df[principal].isin(['NAO SE APLICA', 'NS/NR']),[principal, comparativo]]# \"~\" para negar\n",
        "  info_adequacao = pd.pivot_table(bd, index=principal, columns=comparativo, aggfunc=len, fill_value=0)\n",
        "  grafico = sns.heatmap(info_adequacao, cmap=\"OrRd\", annot=True, fmt ='d', linewidths=.3, xticklabels=True, yticklabels=True)\n",
        "  grafico.set_xlabel(eixoX, fontsize=20)\n",
        "  grafico.set_ylabel(eixoY, fontsize=20)\n",
        "  grafico.set_title(f'{titulo}\\n', fontsize=20)\n",
        "\n",
        "  plt.tick_params(left = False, right = False , labelleft = True ,labelbottom = True, bottom = False)\n",
        "  plt.xticks(rotation=45)\n",
        "  plt.gcf().set_size_inches(15, 10)\n",
        "  return grafico"
      ],
      "metadata": {
        "id": "p-Ce15IxQRGi"
      },
      "execution_count": 137,
      "outputs": []
    },
    {
      "cell_type": "markdown",
      "source": [
        "3.1 - Município x Já fumou"
      ],
      "metadata": {
        "id": "tF4IX21ND7Xs"
      }
    },
    {
      "cell_type": "code",
      "source": [
        "jaFumou_Municipio = mapaDeCalor('MUNICIPIO_CAP','JA_FUMOU', 'Ja Fumou', 'Municipio', \"Alunos fumantes por municipio analisado\")\n",
        "plt.show()"
      ],
      "metadata": {
        "colab": {
          "base_uri": "https://localhost:8080/",
          "height": 666
        },
        "id": "o8YYQ_jDQdaR",
        "outputId": "d60f8521-6d78-4c26-e522-d4be89771f09"
      },
      "execution_count": 124,
      "outputs": [
        {
          "output_type": "display_data",
          "data": {
            "text/plain": [
              "<Figure size 1080x720 with 2 Axes>"
            ],
            "image/png": "[encoded data removed]"
          },
          "metadata": {}
        }
      ]
    },
    {
      "cell_type": "markdown",
      "source": [
        "3.2 - Tipo de escola x Já fumou"
      ],
      "metadata": {
        "id": "1V2dxXt-EJaa"
      }
    },
    {
      "cell_type": "code",
      "source": [
        "jaFumou_escola = mapaDeCalor('TIPO_ESCOLA', 'JA_FUMOU', 'Ja Fumou', 'Tipo de escola', \"Relação do tipo de escola para alunos que já fumaram\")\n",
        "plt.show()"
      ],
      "metadata": {
        "colab": {
          "base_uri": "https://localhost:8080/",
          "height": 666
        },
        "id": "kB7msXVzEQLz",
        "outputId": "6d5e83c9-a2bc-4843-b87e-b1f2d160987f"
      },
      "execution_count": 125,
      "outputs": [
        {
          "output_type": "display_data",
          "data": {
            "text/plain": [
              "<Figure size 1080x720 with 2 Axes>"
            ],
            "image/png": "[encoded data removed]"
          },
          "metadata": {}
        }
      ]
    },
    {
      "cell_type": "markdown",
      "source": [
        "3.3 - Sexo x Já fumou "
      ],
      "metadata": {
        "id": "lmzVs3n-FKR_"
      }
    },
    {
      "cell_type": "code",
      "source": [
        "jaFumou_sexo = mapaDeCalor('SEXO', 'JA_FUMOU', 'Ja Fumou', 'Sexo', \"Relação entre sexo e alunos fumantes\")\n",
        "plt.show()"
      ],
      "metadata": {
        "colab": {
          "base_uri": "https://localhost:8080/",
          "height": 666
        },
        "id": "UhmUYOQME_HV",
        "outputId": "717de956-ecec-4260-81af-452125a48c56"
      },
      "execution_count": 126,
      "outputs": [
        {
          "output_type": "display_data",
          "data": {
            "text/plain": [
              "<Figure size 1080x720 with 2 Axes>"
            ],
            "image/png": "[encoded data removed]"
          },
          "metadata": {}
        }
      ]
    },
    {
      "cell_type": "markdown",
      "source": [
        "3.4 - Etinia x Já fumou"
      ],
      "metadata": {
        "id": "o1ZYpafrFMvl"
      }
    },
    {
      "cell_type": "code",
      "source": [
        "jaFumou_cor = mapaDeCalor('ETINIA', 'JA_FUMOU', 'Ja fumou', 'Etinia', \"Relação entre alunos fumantes e etinia declarada pelos estudantes\")\n",
        "plt.show()"
      ],
      "metadata": {
        "colab": {
          "base_uri": "https://localhost:8080/",
          "height": 666
        },
        "id": "4FmmznTzF7P6",
        "outputId": "ecd8f7a7-a229-44ad-c876-923a8c0c4aa8"
      },
      "execution_count": 127,
      "outputs": [
        {
          "output_type": "display_data",
          "data": {
            "text/plain": [
              "<Figure size 1080x720 with 2 Axes>"
            ],
            "image/png": "[encoded data removed]"
          },
          "metadata": {}
        }
      ]
    },
    {
      "cell_type": "markdown",
      "source": [
        "3.5 - Ano Escolar x Já fumou"
      ],
      "metadata": {
        "id": "Qpyt4ypWFPal"
      }
    },
    {
      "cell_type": "code",
      "source": [
        "anoEscolar_jaFumou = mapaDeCalor('ANO_ESCOLAR', 'JA_FUMOU', 'Ja fumou', 'Série', \"Relação entre a série e alunos que mais fumam\")\n",
        "plt.show()"
      ],
      "metadata": {
        "colab": {
          "base_uri": "https://localhost:8080/",
          "height": 666
        },
        "id": "bMtSMYNdGXkC",
        "outputId": "83714c4d-7192-4fc9-ae07-f449a7c70b7a"
      },
      "execution_count": 128,
      "outputs": [
        {
          "output_type": "display_data",
          "data": {
            "text/plain": [
              "<Figure size 1080x720 with 2 Axes>"
            ],
            "image/png": "[encoded data removed]"
          },
          "metadata": {}
        }
      ]
    },
    {
      "cell_type": "markdown",
      "source": [
        "3.6 - Narguile x Já fumou "
      ],
      "metadata": {
        "id": "DQ8LNDmIFZ8U"
      }
    },
    {
      "cell_type": "code",
      "source": [
        "narguile = mapaDeCalor('JA_NARGUILE', 'JA_FUMOU', 'Ja fumou', 'Narguile', \"Relação de alunos que já utilizaram Narguile com Já fumaram cigarros\")\n",
        "plt.show()"
      ],
      "metadata": {
        "colab": {
          "base_uri": "https://localhost:8080/",
          "height": 666
        },
        "id": "Ba8U-fL7Gtzs",
        "outputId": "db3fb4f4-df95-4760-b1f8-410daf2d7c67"
      },
      "execution_count": 131,
      "outputs": [
        {
          "output_type": "display_data",
          "data": {
            "text/plain": [
              "<Figure size 1080x720 with 2 Axes>"
            ],
            "image/png": "[encoded data removed]"
          },
          "metadata": {}
        }
      ]
    },
    {
      "cell_type": "markdown",
      "source": [
        "3.7 - Cigarro eletrônico x Já Fumou"
      ],
      "metadata": {
        "id": "cilLlemhFee8"
      }
    },
    {
      "cell_type": "code",
      "source": [
        "cEletr = mapaDeCalor('JA_CIGARRO_ELETRONICO', 'JA_FUMOU', 'Ja fumou', 'CIGARRO ELETRÔNICO', \"Relação de alunos que já utilizaram cigarro eletrônico com já fumaram cigarros\")\n",
        "plt.show()"
      ],
      "metadata": {
        "colab": {
          "base_uri": "https://localhost:8080/",
          "height": 666
        },
        "id": "B7PzW5I-HRol",
        "outputId": "f94f733e-b424-4439-fdb5-23d2eb0b23ec"
      },
      "execution_count": 132,
      "outputs": [
        {
          "output_type": "display_data",
          "data": {
            "text/plain": [
              "<Figure size 1080x720 with 2 Axes>"
            ],
            "image/png": "[encoded data removed]"
          },
          "metadata": {}
        }
      ]
    },
    {
      "cell_type": "markdown",
      "source": [
        "3.8 - Responsável Fuma x aluno já Fumou"
      ],
      "metadata": {
        "id": "kLVNT6npua6Z"
      }
    },
    {
      "cell_type": "code",
      "source": [
        "ResponsavelFuma = mapaDeCalor('RESPONSAVEL_FUMA', 'JA_FUMOU', 'Ja fumou', 'Responsável Fuma', \"Responsável fuma com relação a alunos que já fumaram\")\n",
        "plt.show()"
      ],
      "metadata": {
        "colab": {
          "base_uri": "https://localhost:8080/",
          "height": 643
        },
        "id": "8ZHkiryHuX60",
        "outputId": "bac3f58b-0dd2-4ff2-9620-a7e1ca9a9f73"
      },
      "execution_count": 133,
      "outputs": [
        {
          "output_type": "display_data",
          "data": {
            "text/plain": [
              "<Figure size 1080x720 with 2 Axes>"
            ],
            "image/png": "[encoded data removed]"
          },
          "metadata": {}
        }
      ]
    },
    {
      "cell_type": "markdown",
      "source": [
        "3.9 - Amigo Fuma x aluno já fumou"
      ],
      "metadata": {
        "id": "wQmXAh3kudWD"
      }
    },
    {
      "cell_type": "code",
      "source": [
        "amigo = mapaDeCalor('AMIGO_FUMA', 'JA_FUMOU', 'Ja fumou', 'Amigo Fuma', \"Amigo Fuma em relação a alunos que já fumaram \")\n",
        "plt.show()"
      ],
      "metadata": {
        "colab": {
          "base_uri": "https://localhost:8080/",
          "height": 666
        },
        "id": "RbiWFgJLuunF",
        "outputId": "c1eb3ed8-749e-423a-a5dd-5b05ab7e4924"
      },
      "execution_count": 134,
      "outputs": [
        {
          "output_type": "display_data",
          "data": {
            "text/plain": [
              "<Figure size 1080x720 with 2 Axes>"
            ],
            "image/png": "[encoded data removed]"
          },
          "metadata": {}
        }
      ]
    },
    {
      "cell_type": "markdown",
      "source": [
        "3.10 - IDH x alunos que já fumaram"
      ],
      "metadata": {
        "id": "G5Q3L_8au8wc"
      }
    },
    {
      "cell_type": "code",
      "source": [
        "idh = mapaDeCalor('IDH_EDUCACAO', 'JA_FUMOU', 'Ja fumou', 'IDH', \"IDH em relação a quantidade de alunos que já experimentaram cigarros\")\n",
        "plt.show()"
      ],
      "metadata": {
        "colab": {
          "base_uri": "https://localhost:8080/",
          "height": 666
        },
        "id": "5-zbgqV4u8Dl",
        "outputId": "c78b0633-9bd8-4e16-f6f0-6346181ab758"
      },
      "execution_count": 136,
      "outputs": [
        {
          "output_type": "display_data",
          "data": {
            "text/plain": [
              "<Figure size 1080x720 with 2 Axes>"
            ],
            "image/png": "[encoded data removed]"
          },
          "metadata": {}
        }
      ]
    },
    {
      "cell_type": "markdown",
      "source": [
        "-------------------------------------------------------------\n"
      ],
      "metadata": {
        "id": "Zv4kd5Cdvc-F"
      }
    },
    {
      "cell_type": "markdown",
      "source": [
        "4.0 - PRÉ PROCESSAMENTO DOS DADOS PARA ML"
      ],
      "metadata": {
        "id": "d_ieullNMsZ3"
      }
    },
    {
      "cell_type": "markdown",
      "source": [
        "4.1 - Importando as bibliotecas"
      ],
      "metadata": {
        "id": "5_5qdJ8uNIc2"
      }
    },
    {
      "cell_type": "code",
      "source": [
        "from sklearn.preprocessing import MinMaxScaler\n",
        "from sklearn.ensemble import RandomForestClassifier\n",
        "from sklearn.metrics import accuracy_score, classification_report\n",
        "from sklearn.model_selection import train_test_split, cross_val_score, KFold\n",
        "from sklearn import tree\n",
        "from sklearn.tree import DecisionTreeClassifier\n",
        "from sklearn.neural_network import MLPClassifier\n",
        "from yellowbrick.classifier import ConfusionMatrix\n",
        "from imblearn.under_sampling import NearMiss\n",
        "from sklearn.model_selection import GridSearchCV\n",
        "from sklearn.model_selection import cross_val_score, KFold"
      ],
      "metadata": {
        "id": "2utzo3r8NH1z"
      },
      "execution_count": 98,
      "outputs": []
    },
    {
      "cell_type": "markdown",
      "source": [
        "4.2 - Importação da base de dados utilizada na análise "
      ],
      "metadata": {
        "id": "wvNRdRVSO7Z2"
      }
    },
    {
      "cell_type": "code",
      "source": [
        "base_ML = pd.read_csv('/content/base_tabagismo_IDH.csv')"
      ],
      "metadata": {
        "id": "el7ACKUmP8wr"
      },
      "execution_count": 45,
      "outputs": []
    },
    {
      "cell_type": "markdown",
      "source": [
        "4.3 - Trasformação dos dados da base em dados numericos "
      ],
      "metadata": {
        "id": "Sd-ZX9tkNxKD"
      }
    },
    {
      "cell_type": "code",
      "source": [
        "base_ML = base_ML.drop(columns=['MUNICIPIO_CAP'])"
      ],
      "metadata": {
        "id": "vXfTQJwhw20F"
      },
      "execution_count": 46,
      "outputs": []
    },
    {
      "cell_type": "code",
      "source": [
        "base_ML = pd.get_dummies(base_ML)\n",
        "base_ML.head(10)"
      ],
      "metadata": {
        "colab": {
          "base_uri": "https://localhost:8080/",
          "height": 508
        },
        "id": "NJl-w9JyPrbC",
        "outputId": "cc41b226-0d3c-4998-bf73-b662ae9abd7b"
      },
      "execution_count": 47,
      "outputs": [
        {
          "output_type": "execute_result",
          "data": {
            "text/plain": [
              "   JA_FUMOU  IDH_EDUCACAO  TIPO_ESCOLA_Privada  TIPO_ESCOLA_Publica  \\\n",
              "0       1.0         0.737                    1                    0   \n",
              "1       2.0         0.737                    1                    0   \n",
              "2       2.0         0.737                    1                    0   \n",
              "3       2.0         0.737                    1                    0   \n",
              "4       2.0         0.737                    1                    0   \n",
              "5       2.0         0.737                    1                    0   \n",
              "6       2.0         0.737                    1                    0   \n",
              "7       2.0         0.737                    1                    0   \n",
              "8       2.0         0.737                    1                    0   \n",
              "9       1.0         0.737                    1                    0   \n",
              "\n",
              "   SEXO_Homem  SEXO_Mulher  SEXO_Sem Resposta  IDADE_13 a 15 anos  \\\n",
              "0           1            0                  0                   1   \n",
              "1           0            1                  0                   1   \n",
              "2           0            1                  0                   1   \n",
              "3           0            1                  0                   1   \n",
              "4           1            0                  0                   1   \n",
              "5           0            1                  0                   1   \n",
              "6           1            0                  0                   1   \n",
              "7           0            1                  0                   1   \n",
              "8           1            0                  0                   1   \n",
              "9           0            1                  0                   1   \n",
              "\n",
              "   IDADE_16 a 17 anos  IDADE_18 anos ou mais  ...  \\\n",
              "0                   0                      0  ...   \n",
              "1                   0                      0  ...   \n",
              "2                   0                      0  ...   \n",
              "3                   0                      0  ...   \n",
              "4                   0                      0  ...   \n",
              "5                   0                      0  ...   \n",
              "6                   0                      0  ...   \n",
              "7                   0                      0  ...   \n",
              "8                   0                      0  ...   \n",
              "9                   0                      0  ...   \n",
              "\n",
              "   RESPONSAVEL_FUMA_Só minha mãe ou responsável do sexo feminino  \\\n",
              "0                                                  0               \n",
              "1                                                  0               \n",
              "2                                                  0               \n",
              "3                                                  0               \n",
              "4                                                  0               \n",
              "5                                                  0               \n",
              "6                                                  0               \n",
              "7                                                  0               \n",
              "8                                                  0               \n",
              "9                                                  0               \n",
              "\n",
              "   FUMA_PROXIMO_ALUNO_1 ou 2 dias  FUMA_PROXIMO_ALUNO_3 ou 4 dias  \\\n",
              "0                               0                               0   \n",
              "1                               0                               0   \n",
              "2                               1                               0   \n",
              "3                               0                               0   \n",
              "4                               1                               0   \n",
              "5                               0                               0   \n",
              "6                               0                               0   \n",
              "7                               0                               1   \n",
              "8                               0                               0   \n",
              "9                               0                               0   \n",
              "\n",
              "   FUMA_PROXIMO_ALUNO_5 ou 6 dias  \\\n",
              "0                               0   \n",
              "1                               0   \n",
              "2                               0   \n",
              "3                               0   \n",
              "4                               0   \n",
              "5                               0   \n",
              "6                               0   \n",
              "7                               0   \n",
              "8                               0   \n",
              "9                               0   \n",
              "\n",
              "   FUMA_PROXIMO_ALUNO_Nenhum dia nos últimos 7 dias  \\\n",
              "0                                                 0   \n",
              "1                                                 1   \n",
              "2                                                 0   \n",
              "3                                                 1   \n",
              "4                                                 0   \n",
              "5                                                 0   \n",
              "6                                                 1   \n",
              "7                                                 0   \n",
              "8                                                 1   \n",
              "9                                                 1   \n",
              "\n",
              "   FUMA_PROXIMO_ALUNO_Sem Resposta  FUMA_PROXIMO_ALUNO_Todos os dias  \\\n",
              "0                                0                                 1   \n",
              "1                                0                                 0   \n",
              "2                                0                                 0   \n",
              "3                                0                                 0   \n",
              "4                                0                                 0   \n",
              "5                                0                                 1   \n",
              "6                                0                                 0   \n",
              "7                                0                                 0   \n",
              "8                                0                                 0   \n",
              "9                                0                                 0   \n",
              "\n",
              "   AMIGO_FUMA_Sem Resposta  AMIGO_FUMA_não  AMIGO_FUMA_sim  \n",
              "0                        0               1               0  \n",
              "1                        0               1               0  \n",
              "2                        0               1               0  \n",
              "3                        0               0               1  \n",
              "4                        0               1               0  \n",
              "5                        0               1               0  \n",
              "6                        0               1               0  \n",
              "7                        0               1               0  \n",
              "8                        0               1               0  \n",
              "9                        0               0               1  \n",
              "\n",
              "[10 rows x 53 columns]"
            ],
            "text/html": [
              "\n",
              "  <div id=\"df-e73e8230-04d2-4d4c-8092-3405ddff0431\">\n",
              "    <div class=\"colab-df-container\">\n",
              "      <div>\n",
              "<style scoped>\n",
              "    .dataframe tbody tr th:only-of-type {\n",
              "        vertical-align: middle;\n",
              "    }\n",
              "\n",
              "    .dataframe tbody tr th {\n",
              "        vertical-align: top;\n",
              "    }\n",
              "\n",
              "    .dataframe thead th {\n",
              "        text-align: right;\n",
              "    }\n",
              "</style>\n",
              "<table border=\"1\" class=\"dataframe\">\n",
              "  <thead>\n",
              "    <tr style=\"text-align: right;\">\n",
              "      <th></th>\n",
              "      <th>JA_FUMOU</th>\n",
              "      <th>IDH_EDUCACAO</th>\n",
              "      <th>TIPO_ESCOLA_Privada</th>\n",
              "      <th>TIPO_ESCOLA_Publica</th>\n",
              "      <th>SEXO_Homem</th>\n",
              "      <th>SEXO_Mulher</th>\n",
              "      <th>SEXO_Sem Resposta</th>\n",
              "      <th>IDADE_13 a 15 anos</th>\n",
              "      <th>IDADE_16 a 17 anos</th>\n",
              "      <th>IDADE_18 anos ou mais</th>\n",
              "      <th>...</th>\n",
              "      <th>RESPONSAVEL_FUMA_Só minha mãe ou responsável do sexo feminino</th>\n",
              "      <th>FUMA_PROXIMO_ALUNO_1 ou 2 dias</th>\n",
              "      <th>FUMA_PROXIMO_ALUNO_3 ou 4 dias</th>\n",
              "      <th>FUMA_PROXIMO_ALUNO_5 ou 6 dias</th>\n",
              "      <th>FUMA_PROXIMO_ALUNO_Nenhum dia nos últimos 7 dias</th>\n",
              "      <th>FUMA_PROXIMO_ALUNO_Sem Resposta</th>\n",
              "      <th>FUMA_PROXIMO_ALUNO_Todos os dias</th>\n",
              "      <th>AMIGO_FUMA_Sem Resposta</th>\n",
              "      <th>AMIGO_FUMA_não</th>\n",
              "      <th>AMIGO_FUMA_sim</th>\n",
              "    </tr>\n",
              "  </thead>\n",
              "  <tbody>\n",
              "    <tr>\n",
              "      <th>0</th>\n",
              "      <td>1.0</td>\n",
              "      <td>0.737</td>\n",
              "      <td>1</td>\n",
              "      <td>0</td>\n",
              "      <td>1</td>\n",
              "      <td>0</td>\n",
              "      <td>0</td>\n",
              "      <td>1</td>\n",
              "      <td>0</td>\n",
              "      <td>0</td>\n",
              "      <td>...</td>\n",
              "      <td>0</td>\n",
              "      <td>0</td>\n",
              "      <td>0</td>\n",
              "      <td>0</td>\n",
              "      <td>0</td>\n",
              "      <td>0</td>\n",
              "      <td>1</td>\n",
              "      <td>0</td>\n",
              "      <td>1</td>\n",
              "      <td>0</td>\n",
              "    </tr>\n",
              "    <tr>\n",
              "      <th>1</th>\n",
              "      <td>2.0</td>\n",
              "      <td>0.737</td>\n",
              "      <td>1</td>\n",
              "      <td>0</td>\n",
              "      <td>0</td>\n",
              "      <td>1</td>\n",
              "      <td>0</td>\n",
              "      <td>1</td>\n",
              "      <td>0</td>\n",
              "      <td>0</td>\n",
              "      <td>...</td>\n",
              "      <td>0</td>\n",
              "      <td>0</td>\n",
              "      <td>0</td>\n",
              "      <td>0</td>\n",
              "      <td>1</td>\n",
              "      <td>0</td>\n",
              "      <td>0</td>\n",
              "      <td>0</td>\n",
              "      <td>1</td>\n",
              "      <td>0</td>\n",
              "    </tr>\n",
              "    <tr>\n",
              "      <th>2</th>\n",
              "      <td>2.0</td>\n",
              "      <td>0.737</td>\n",
              "      <td>1</td>\n",
              "      <td>0</td>\n",
              "      <td>0</td>\n",
              "      <td>1</td>\n",
              "      <td>0</td>\n",
              "      <td>1</td>\n",
              "      <td>0</td>\n",
              "      <td>0</td>\n",
              "      <td>...</td>\n",
              "      <td>0</td>\n",
              "      <td>1</td>\n",
              "      <td>0</td>\n",
              "      <td>0</td>\n",
              "      <td>0</td>\n",
              "      <td>0</td>\n",
              "      <td>0</td>\n",
              "      <td>0</td>\n",
              "      <td>1</td>\n",
              "      <td>0</td>\n",
              "    </tr>\n",
              "    <tr>\n",
              "      <th>3</th>\n",
              "      <td>2.0</td>\n",
              "      <td>0.737</td>\n",
              "      <td>1</td>\n",
              "      <td>0</td>\n",
              "      <td>0</td>\n",
              "      <td>1</td>\n",
              "      <td>0</td>\n",
              "      <td>1</td>\n",
              "      <td>0</td>\n",
              "      <td>0</td>\n",
              "      <td>...</td>\n",
              "      <td>0</td>\n",
              "      <td>0</td>\n",
              "      <td>0</td>\n",
              "      <td>0</td>\n",
              "      <td>1</td>\n",
              "      <td>0</td>\n",
              "      <td>0</td>\n",
              "      <td>0</td>\n",
              "      <td>0</td>\n",
              "      <td>1</td>\n",
              "    </tr>\n",
              "    <tr>\n",
              "      <th>4</th>\n",
              "      <td>2.0</td>\n",
              "      <td>0.737</td>\n",
              "      <td>1</td>\n",
              "      <td>0</td>\n",
              "      <td>1</td>\n",
              "      <td>0</td>\n",
              "      <td>0</td>\n",
              "      <td>1</td>\n",
              "      <td>0</td>\n",
              "      <td>0</td>\n",
              "      <td>...</td>\n",
              "      <td>0</td>\n",
              "      <td>1</td>\n",
              "      <td>0</td>\n",
              "      <td>0</td>\n",
              "      <td>0</td>\n",
              "      <td>0</td>\n",
              "      <td>0</td>\n",
              "      <td>0</td>\n",
              "      <td>1</td>\n",
              "      <td>0</td>\n",
              "    </tr>\n",
              "    <tr>\n",
              "      <th>5</th>\n",
              "      <td>2.0</td>\n",
              "      <td>0.737</td>\n",
              "      <td>1</td>\n",
              "      <td>0</td>\n",
              "      <td>0</td>\n",
              "      <td>1</td>\n",
              "      <td>0</td>\n",
              "      <td>1</td>\n",
              "      <td>0</td>\n",
              "      <td>0</td>\n",
              "      <td>...</td>\n",
              "      <td>0</td>\n",
              "      <td>0</td>\n",
              "      <td>0</td>\n",
              "      <td>0</td>\n",
              "      <td>0</td>\n",
              "      <td>0</td>\n",
              "      <td>1</td>\n",
              "      <td>0</td>\n",
              "      <td>1</td>\n",
              "      <td>0</td>\n",
              "    </tr>\n",
              "    <tr>\n",
              "      <th>6</th>\n",
              "      <td>2.0</td>\n",
              "      <td>0.737</td>\n",
              "      <td>1</td>\n",
              "      <td>0</td>\n",
              "      <td>1</td>\n",
              "      <td>0</td>\n",
              "      <td>0</td>\n",
              "      <td>1</td>\n",
              "      <td>0</td>\n",
              "      <td>0</td>\n",
              "      <td>...</td>\n",
              "      <td>0</td>\n",
              "      <td>0</td>\n",
              "      <td>0</td>\n",
              "      <td>0</td>\n",
              "      <td>1</td>\n",
              "      <td>0</td>\n",
              "      <td>0</td>\n",
              "      <td>0</td>\n",
              "      <td>1</td>\n",
              "      <td>0</td>\n",
              "    </tr>\n",
              "    <tr>\n",
              "      <th>7</th>\n",
              "      <td>2.0</td>\n",
              "      <td>0.737</td>\n",
              "      <td>1</td>\n",
              "      <td>0</td>\n",
              "      <td>0</td>\n",
              "      <td>1</td>\n",
              "      <td>0</td>\n",
              "      <td>1</td>\n",
              "      <td>0</td>\n",
              "      <td>0</td>\n",
              "      <td>...</td>\n",
              "      <td>0</td>\n",
              "      <td>0</td>\n",
              "      <td>1</td>\n",
              "      <td>0</td>\n",
              "      <td>0</td>\n",
              "      <td>0</td>\n",
              "      <td>0</td>\n",
              "      <td>0</td>\n",
              "      <td>1</td>\n",
              "      <td>0</td>\n",
              "    </tr>\n",
              "    <tr>\n",
              "      <th>8</th>\n",
              "      <td>2.0</td>\n",
              "      <td>0.737</td>\n",
              "      <td>1</td>\n",
              "      <td>0</td>\n",
              "      <td>1</td>\n",
              "      <td>0</td>\n",
              "      <td>0</td>\n",
              "      <td>1</td>\n",
              "      <td>0</td>\n",
              "      <td>0</td>\n",
              "      <td>...</td>\n",
              "      <td>0</td>\n",
              "      <td>0</td>\n",
              "      <td>0</td>\n",
              "      <td>0</td>\n",
              "      <td>1</td>\n",
              "      <td>0</td>\n",
              "      <td>0</td>\n",
              "      <td>0</td>\n",
              "      <td>1</td>\n",
              "      <td>0</td>\n",
              "    </tr>\n",
              "    <tr>\n",
              "      <th>9</th>\n",
              "      <td>1.0</td>\n",
              "      <td>0.737</td>\n",
              "      <td>1</td>\n",
              "      <td>0</td>\n",
              "      <td>0</td>\n",
              "      <td>1</td>\n",
              "      <td>0</td>\n",
              "      <td>1</td>\n",
              "      <td>0</td>\n",
              "      <td>0</td>\n",
              "      <td>...</td>\n",
              "      <td>0</td>\n",
              "      <td>0</td>\n",
              "      <td>0</td>\n",
              "      <td>0</td>\n",
              "      <td>1</td>\n",
              "      <td>0</td>\n",
              "      <td>0</td>\n",
              "      <td>0</td>\n",
              "      <td>0</td>\n",
              "      <td>1</td>\n",
              "    </tr>\n",
              "  </tbody>\n",
              "</table>\n",
              "<p>10 rows × 53 columns</p>\n",
              "</div>\n",
              "      <button class=\"colab-df-convert\" onclick=\"convertToInteractive('df-e73e8230-04d2-4d4c-8092-3405ddff0431')\"\n",
              "              title=\"Convert this dataframe to an interactive table.\"\n",
              "              style=\"display:none;\">\n",
              "        \n",
              "  <svg xmlns=\"http://www.w3.org/2000/svg\" height=\"24px\"viewBox=\"0 0 24 24\"\n",
              "       width=\"24px\">\n",
              "    <path d=\"M0 0h24v24H0V0z\" fill=\"none\"/>\n",
              "    <path d=\"M18.56 5.44l.94 2.06.94-2.06 2.06-.94-2.06-.94-.94-2.06-.94 2.06-2.06.94zm-11 1L8.5 8.5l.94-2.06 2.06-.94-2.06-.94L8.5 2.5l-.94 2.06-2.06.94zm10 10l.94 2.06.94-2.06 2.06-.94-2.06-.94-.94-2.06-.94 2.06-2.06.94z\"/><path d=\"M17.41 7.96l-1.37-1.37c-.4-.4-.92-.59-1.43-.59-.52 0-1.04.2-1.43.59L10.3 9.45l-7.72 7.72c-.78.78-.78 2.05 0 2.83L4 21.41c.39.39.9.59 1.41.59.51 0 1.02-.2 1.41-.59l7.78-7.78 2.81-2.81c.8-.78.8-2.07 0-2.86zM5.41 20L4 18.59l7.72-7.72 1.47 1.35L5.41 20z\"/>\n",
              "  </svg>\n",
              "      </button>\n",
              "      \n",
              "  <style>\n",
              "    .colab-df-container {\n",
              "      display:flex;\n",
              "      flex-wrap:wrap;\n",
              "      gap: 12px;\n",
              "    }\n",
              "\n",
              "    .colab-df-convert {\n",
              "      background-color: #E8F0FE;\n",
              "      border: none;\n",
              "      border-radius: 50%;\n",
              "      cursor: pointer;\n",
              "      display: none;\n",
              "      fill: #1967D2;\n",
              "      height: 32px;\n",
              "      padding: 0 0 0 0;\n",
              "      width: 32px;\n",
              "    }\n",
              "\n",
              "    .colab-df-convert:hover {\n",
              "      background-color: #E2EBFA;\n",
              "      box-shadow: 0px 1px 2px rgba(60, 64, 67, 0.3), 0px 1px 3px 1px rgba(60, 64, 67, 0.15);\n",
              "      fill: #174EA6;\n",
              "    }\n",
              "\n",
              "    [theme=dark] .colab-df-convert {\n",
              "      background-color: #3B4455;\n",
              "      fill: #D2E3FC;\n",
              "    }\n",
              "\n",
              "    [theme=dark] .colab-df-convert:hover {\n",
              "      background-color: #434B5C;\n",
              "      box-shadow: 0px 1px 3px 1px rgba(0, 0, 0, 0.15);\n",
              "      filter: drop-shadow(0px 1px 2px rgba(0, 0, 0, 0.3));\n",
              "      fill: #FFFFFF;\n",
              "    }\n",
              "  </style>\n",
              "\n",
              "      <script>\n",
              "        const buttonEl =\n",
              "          document.querySelector('#df-e73e8230-04d2-4d4c-8092-3405ddff0431 button.colab-df-convert');\n",
              "        buttonEl.style.display =\n",
              "          google.colab.kernel.accessAllowed ? 'block' : 'none';\n",
              "\n",
              "        async function convertToInteractive(key) {\n",
              "          const element = document.querySelector('#df-e73e8230-04d2-4d4c-8092-3405ddff0431');\n",
              "          const dataTable =\n",
              "            await google.colab.kernel.invokeFunction('convertToInteractive',\n",
              "                                                     [key], {});\n",
              "          if (!dataTable) return;\n",
              "\n",
              "          const docLinkHtml = 'Like what you see? Visit the ' +\n",
              "            '<a target=\"_blank\" href=https://colab.research.google.com/notebooks/data_table.ipynb>data table notebook</a>'\n",
              "            + ' to learn more about interactive tables.';\n",
              "          element.innerHTML = '';\n",
              "          dataTable['output_type'] = 'display_data';\n",
              "          await google.colab.output.renderOutput(dataTable, element);\n",
              "          const docLink = document.createElement('div');\n",
              "          docLink.innerHTML = docLinkHtml;\n",
              "          element.appendChild(docLink);\n",
              "        }\n",
              "      </script>\n",
              "    </div>\n",
              "  </div>\n",
              "  "
            ]
          },
          "metadata": {},
          "execution_count": 47
        }
      ]
    },
    {
      "cell_type": "markdown",
      "source": [
        "4.4 - Separação da classe alvo dos dados de entrada"
      ],
      "metadata": {
        "id": "M2e2Xj0eO7S0"
      }
    },
    {
      "cell_type": "code",
      "source": [
        "X = base_ML.drop('JA_FUMOU', axis=1)\n",
        "y = base_ML['JA_FUMOU']"
      ],
      "metadata": {
        "id": "CeOD-PYGOiWL"
      },
      "execution_count": 48,
      "outputs": []
    },
    {
      "cell_type": "markdown",
      "source": [
        "4.5 - Escalonamento e balanceamento dos dados"
      ],
      "metadata": {
        "id": "zbkFeRerPPD7"
      }
    },
    {
      "cell_type": "code",
      "source": [
        "scaler = MinMaxScaler()\n",
        "X = scaler.fit_transform(X)\n",
        "X"
      ],
      "metadata": {
        "colab": {
          "base_uri": "https://localhost:8080/"
        },
        "id": "GVoe_BnuPOnL",
        "outputId": "b18f71a1-33d9-43cf-8578-fc2b315ea9ec"
      },
      "execution_count": 49,
      "outputs": [
        {
          "output_type": "execute_result",
          "data": {
            "text/plain": [
              "array([[0.20930233, 1.        , 0.        , ..., 0.        , 1.        ,\n",
              "        0.        ],\n",
              "       [0.20930233, 1.        , 0.        , ..., 0.        , 1.        ,\n",
              "        0.        ],\n",
              "       [0.20930233, 1.        , 0.        , ..., 0.        , 1.        ,\n",
              "        0.        ],\n",
              "       ...,\n",
              "       [0.06976744, 0.        , 1.        , ..., 0.        , 1.        ,\n",
              "        0.        ],\n",
              "       [0.06976744, 0.        , 1.        , ..., 0.        , 1.        ,\n",
              "        0.        ],\n",
              "       [0.06976744, 0.        , 1.        , ..., 0.        , 1.        ,\n",
              "        0.        ]])"
            ]
          },
          "metadata": {},
          "execution_count": 49
        }
      ]
    },
    {
      "cell_type": "markdown",
      "source": [
        "4.6 - Realização de undersamplig"
      ],
      "metadata": {
        "id": "CT4Sz_k_PSGe"
      }
    },
    {
      "cell_type": "markdown",
      "source": [
        "Como existe uma discrepância significativa entre os dados de alunos que já experimentaram e nunca experimentaram fumar, foi necessário a utilização do um undersampling para que a comparação e treinamento dos dados fossem mais próximos do real, sem sofrer interferência devido ao volume de dados. "
      ],
      "metadata": {
        "id": "b1GvoA7dIQFL"
      }
    },
    {
      "cell_type": "code",
      "source": [
        "ax = sns.countplot(x=y,palette='OrRd_r')"
      ],
      "metadata": {
        "colab": {
          "base_uri": "https://localhost:8080/",
          "height": 361
        },
        "id": "mxdFpKmtbW1I",
        "outputId": "dcbff6c4-765d-4345-86b3-b5a56b42e153"
      },
      "execution_count": 54,
      "outputs": [
        {
          "output_type": "display_data",
          "data": {
            "text/plain": [
              "<Figure size 576x396 with 1 Axes>"
            ],
            "image/png": "[encoded data removed]"
          },
          "metadata": {}
        }
      ]
    },
    {
      "cell_type": "code",
      "source": [
        "nr= NearMiss()\n",
        "X,y = nr.fit_resample(X,y)"
      ],
      "metadata": {
        "id": "rmuJLXVyKDvz"
      },
      "execution_count": 55,
      "outputs": []
    },
    {
      "cell_type": "code",
      "source": [
        "ax = sns.countplot(x=y,palette='OrRd_r')"
      ],
      "metadata": {
        "colab": {
          "base_uri": "https://localhost:8080/",
          "height": 361
        },
        "id": "Eapsk5D-Qu9b",
        "outputId": "8f97d6f9-e510-4d77-be97-05bb8b38b38f"
      },
      "execution_count": 56,
      "outputs": [
        {
          "output_type": "display_data",
          "data": {
            "text/plain": [
              "<Figure size 576x396 with 1 Axes>"
            ],
            "image/png": "[encoded data removed]"
          },
          "metadata": {}
        }
      ]
    },
    {
      "cell_type": "markdown",
      "source": [
        "4.7 - Separação em base de treinamento e base de teste "
      ],
      "metadata": {
        "id": "KZuAlDbGOi3z"
      }
    },
    {
      "cell_type": "code",
      "source": [
        "X_treinamento, X_teste, y_treinamento, y_teste = train_test_split(X, y, test_size = 0.15, random_state = 0)\n",
        "X_treinamento.shape, y_treinamento.shape, X_teste.shape, y_teste.shape, X.shape, y.shape"
      ],
      "metadata": {
        "colab": {
          "base_uri": "https://localhost:8080/"
        },
        "id": "-8u7Wyy3PJRj",
        "outputId": "942aa67b-5914-4292-d774-04d6fbf68f54"
      },
      "execution_count": 57,
      "outputs": [
        {
          "output_type": "execute_result",
          "data": {
            "text/plain": [
              "((4710, 52), (4710,), (832, 52), (832,), (5542, 52), (5542,))"
            ]
          },
          "metadata": {},
          "execution_count": 57
        }
      ]
    },
    {
      "cell_type": "markdown",
      "source": [
        "-------------------------------------------------------------"
      ],
      "metadata": {
        "id": "pRbtktu_1qGQ"
      }
    },
    {
      "cell_type": "markdown",
      "source": [
        "5.0 - TUNING - Identificação dos melhores parâmetros para utilização dos algoritimos de machine learn"
      ],
      "metadata": {
        "id": "gs_-QGZXUMHy"
      }
    },
    {
      "cell_type": "markdown",
      "source": [
        "5.1 - Concatenando a base de treinamento e base de teste "
      ],
      "metadata": {
        "id": "50N3-su9fsfn"
      }
    },
    {
      "cell_type": "code",
      "source": [
        "X_df = np.concatenate((X_treinamento, X_teste), axis = 0)\n",
        "X_df.shape"
      ],
      "metadata": {
        "colab": {
          "base_uri": "https://localhost:8080/"
        },
        "id": "Id7aP8mmfsJK",
        "outputId": "8e7211c9-eef0-46d8-9454-ea7b9651d4c7"
      },
      "execution_count": 60,
      "outputs": [
        {
          "output_type": "execute_result",
          "data": {
            "text/plain": [
              "(5542, 52)"
            ]
          },
          "metadata": {},
          "execution_count": 60
        }
      ]
    },
    {
      "cell_type": "code",
      "source": [
        "Y_df = np.concatenate((y_treinamento, y_teste), axis = 0)\n",
        "Y_df.shape"
      ],
      "metadata": {
        "colab": {
          "base_uri": "https://localhost:8080/"
        },
        "id": "_sgrBkqBgQvw",
        "outputId": "45039eee-4aa2-4ef6-a3a9-40d101466588"
      },
      "execution_count": 61,
      "outputs": [
        {
          "output_type": "execute_result",
          "data": {
            "text/plain": [
              "(5542,)"
            ]
          },
          "metadata": {},
          "execution_count": 61
        }
      ]
    },
    {
      "cell_type": "markdown",
      "source": [
        "5.2 - identificação dos parâmentros de Randon Forest"
      ],
      "metadata": {
        "id": "6LWzM5_geknN"
      }
    },
    {
      "cell_type": "code",
      "source": [
        "paramentros_RF = {'criterion':['gini','entropy'],\n",
        "                      'n_estimators':[10,40,100,150],\n",
        "                      'min_samples_split':[2,5,10],\n",
        "                      'min_samples_leaf':[1,5,10]}"
      ],
      "metadata": {
        "id": "PLYL5JK_eGW5"
      },
      "execution_count": 69,
      "outputs": []
    },
    {
      "cell_type": "code",
      "source": [
        "gridRN = GridSearchCV(estimator = RandomForestClassifier(),param_grid=paramentros_RF)\n",
        "gridRN.fit(X_df,Y_df)\n",
        "melhoresParametros = gridRN.best_params_\n",
        "melhorResultado = gridRN.best_score_\n",
        "print(melhoresParametros)\n",
        "print(melhorResultado)"
      ],
      "metadata": {
        "colab": {
          "base_uri": "https://localhost:8080/"
        },
        "id": "VPSp-iL2jqZ-",
        "outputId": "835d2ff2-6b41-4fd8-f2d8-4844ae3dd919"
      },
      "execution_count": 73,
      "outputs": [
        {
          "output_type": "stream",
          "name": "stdout",
          "text": [
            "{'criterion': 'entropy', 'min_samples_leaf': 10, 'min_samples_split': 2, 'n_estimators': 150}\n",
            "0.8744149443509455\n"
          ]
        }
      ]
    },
    {
      "cell_type": "markdown",
      "source": [
        "5.3  - identificação dos parâmentros de árvore de decisão"
      ],
      "metadata": {
        "id": "s7UCBT-ienQ9"
      }
    },
    {
      "cell_type": "code",
      "source": [
        "paramentros_DT = {'criterion':['gini','entropy'],\n",
        "                      'splitter':['best','random'],\n",
        "                      'min_samples_split':[2,5,10],\n",
        "                      'min_samples_leaf':[1,5,10]}"
      ],
      "metadata": {
        "id": "MJHcVzYFgzDk"
      },
      "execution_count": 74,
      "outputs": []
    },
    {
      "cell_type": "code",
      "source": [
        "gridDT = GridSearchCV(estimator = DecisionTreeClassifier(),param_grid=paramentros_DT)\n",
        "gridDT.fit(X_df,Y_df)\n",
        "melhoresParametros = gridDT.best_params_\n",
        "melhorResultado = gridDT.best_score_\n",
        "print(melhoresParametros)\n",
        "print(melhorResultado)"
      ],
      "metadata": {
        "colab": {
          "base_uri": "https://localhost:8080/"
        },
        "id": "VspNb4kxeukl",
        "outputId": "34b53068-a6f6-4db9-eb8f-1ed775f122a7"
      },
      "execution_count": 75,
      "outputs": [
        {
          "output_type": "stream",
          "name": "stdout",
          "text": [
            "{'criterion': 'gini', 'min_samples_leaf': 10, 'min_samples_split': 5, 'splitter': 'random'}\n",
            "0.8635857587900766\n"
          ]
        }
      ]
    },
    {
      "cell_type": "markdown",
      "source": [
        "5.4 - identificação dos parâmentros de Redes Neurais"
      ],
      "metadata": {
        "id": "XUmzqsUJepuY"
      }
    },
    {
      "cell_type": "code",
      "source": [
        "paramentros_RN = {'activation': ['relu','logistic','tahn'],\n",
        "                  'solver': ['adam','sgd'],\n",
        "                  'batch_size':[10,50]}"
      ],
      "metadata": {
        "id": "RnezQryzmqC9"
      },
      "execution_count": 76,
      "outputs": []
    },
    {
      "cell_type": "code",
      "source": [
        "gridRN= GridSearchCV(estimator = MLPClassifier(),param_grid=paramentros_RN)\n",
        "gridRN.fit(X_df, Y_df)\n",
        "melhoresParametros = gridRN.best_params_\n",
        "melhorResultado = gridRN.best_score_"
      ],
      "metadata": {
        "id": "pc6PPJwQevNX"
      },
      "execution_count": null,
      "outputs": []
    },
    {
      "cell_type": "code",
      "source": [
        "print(melhoresParametros)\n",
        "print(melhorResultado)"
      ],
      "metadata": {
        "colab": {
          "base_uri": "https://localhost:8080/"
        },
        "id": "R1irg64dvEIr",
        "outputId": "615f4068-1a7f-47c1-e712-9572e1aa4a39"
      },
      "execution_count": 80,
      "outputs": [
        {
          "output_type": "stream",
          "name": "stdout",
          "text": [
            "{'activation': 'logistic', 'batch_size': 50, 'solver': 'adam'}\n",
            "0.886863795724512\n"
          ]
        }
      ]
    },
    {
      "cell_type": "markdown",
      "source": [
        "-------------------------------------------------------------"
      ],
      "metadata": {
        "id": "Szgr52f91xq8"
      }
    },
    {
      "cell_type": "markdown",
      "source": [
        "6.0 - IMPLEMENTAÇÃO DOS MODELOS DE MACHINE LEARN "
      ],
      "metadata": {
        "id": "VPaYhE1WUUZj"
      }
    },
    {
      "cell_type": "markdown",
      "source": [
        "6.1 - Random Forest"
      ],
      "metadata": {
        "id": "VMmRHJmmUVEa"
      }
    },
    {
      "cell_type": "code",
      "source": [
        "random_forest = RandomForestClassifier(criterion='entropy', min_samples_leaf= 10, min_samples_split= 2, n_estimators= 150)\n",
        "random_forest.fit(X_treinamento, y_treinamento)"
      ],
      "metadata": {
        "colab": {
          "base_uri": "https://localhost:8080/"
        },
        "id": "cpy_3VsbUONr",
        "outputId": "31bae4d6-f15e-423e-9433-dd71ece3a28e"
      },
      "execution_count": 82,
      "outputs": [
        {
          "output_type": "execute_result",
          "data": {
            "text/plain": [
              "RandomForestClassifier(criterion='entropy', min_samples_leaf=10,\n",
              "                       n_estimators=150)"
            ]
          },
          "metadata": {},
          "execution_count": 82
        }
      ]
    },
    {
      "cell_type": "code",
      "source": [
        "previsoes_RF = random_forest.predict(X_teste)\n",
        "previsoes_RF"
      ],
      "metadata": {
        "colab": {
          "base_uri": "https://localhost:8080/"
        },
        "id": "DN-1joXOUr55",
        "outputId": "272360b5-3b65-4ee6-e788-7d6645714520"
      },
      "execution_count": 83,
      "outputs": [
        {
          "output_type": "execute_result",
          "data": {
            "text/plain": [
              "array([2., 1., 1., 2., 2., 1., 1., 2., 1., 1., 2., 1., 1., 1., 1., 2., 1.,\n",
              "       1., 1., 2., 1., 1., 1., 1., 2., 2., 2., 2., 1., 2., 1., 1., 2., 2.,\n",
              "       2., 2., 1., 2., 2., 1., 2., 1., 1., 1., 2., 1., 1., 2., 1., 2., 2.,\n",
              "       1., 2., 2., 1., 1., 1., 2., 1., 1., 1., 2., 1., 2., 1., 1., 2., 2.,\n",
              "       2., 1., 2., 2., 2., 2., 2., 1., 1., 2., 1., 2., 1., 1., 2., 2., 1.,\n",
              "       1., 2., 1., 2., 1., 2., 2., 1., 2., 1., 2., 2., 1., 2., 1., 2., 2.,\n",
              "       2., 1., 2., 2., 2., 1., 1., 2., 2., 1., 2., 1., 1., 2., 1., 2., 2.,\n",
              "       2., 2., 1., 1., 2., 1., 2., 1., 2., 2., 1., 1., 2., 2., 2., 2., 2.,\n",
              "       2., 2., 2., 1., 2., 2., 2., 2., 1., 2., 1., 2., 1., 2., 1., 2., 1.,\n",
              "       2., 1., 2., 2., 1., 1., 2., 1., 1., 1., 1., 1., 2., 1., 1., 2., 1.,\n",
              "       2., 2., 2., 2., 2., 2., 2., 2., 1., 2., 1., 2., 1., 2., 1., 1., 2.,\n",
              "       1., 2., 1., 1., 2., 1., 2., 1., 2., 1., 1., 2., 2., 2., 2., 2., 2.,\n",
              "       2., 2., 2., 2., 1., 2., 2., 1., 2., 1., 1., 2., 2., 1., 1., 2., 1.,\n",
              "       1., 2., 2., 1., 1., 2., 1., 1., 1., 2., 1., 2., 1., 2., 2., 1., 1.,\n",
              "       2., 1., 1., 1., 1., 1., 2., 2., 2., 2., 2., 2., 2., 1., 2., 2., 2.,\n",
              "       1., 2., 2., 1., 1., 1., 1., 1., 2., 2., 2., 2., 2., 2., 1., 1., 1.,\n",
              "       2., 1., 2., 1., 1., 2., 1., 1., 2., 1., 2., 2., 1., 2., 1., 1., 1.,\n",
              "       1., 1., 1., 2., 1., 1., 2., 1., 2., 2., 1., 2., 1., 2., 1., 1., 1.,\n",
              "       2., 2., 1., 1., 1., 2., 1., 1., 2., 2., 2., 2., 2., 2., 2., 2., 1.,\n",
              "       1., 2., 1., 2., 1., 1., 1., 2., 2., 2., 1., 2., 1., 1., 1., 2., 1.,\n",
              "       2., 2., 1., 1., 1., 2., 2., 2., 2., 2., 2., 1., 1., 1., 2., 1., 2.,\n",
              "       1., 1., 1., 2., 2., 1., 1., 1., 2., 2., 1., 1., 2., 1., 1., 1., 2.,\n",
              "       1., 2., 1., 1., 2., 2., 1., 1., 2., 1., 1., 1., 1., 1., 1., 1., 2.,\n",
              "       2., 2., 1., 2., 2., 1., 2., 2., 1., 2., 2., 1., 2., 1., 2., 1., 2.,\n",
              "       2., 1., 1., 1., 2., 1., 2., 1., 2., 2., 1., 2., 2., 1., 1., 1., 2.,\n",
              "       2., 1., 2., 1., 1., 1., 1., 2., 2., 1., 2., 1., 1., 2., 2., 2., 1.,\n",
              "       2., 2., 2., 1., 1., 2., 1., 1., 1., 1., 2., 2., 1., 2., 2., 1., 1.,\n",
              "       2., 2., 2., 2., 1., 2., 1., 2., 2., 1., 1., 2., 2., 2., 1., 2., 2.,\n",
              "       1., 2., 2., 1., 2., 2., 1., 2., 1., 2., 2., 2., 2., 1., 2., 2., 2.,\n",
              "       2., 1., 1., 2., 2., 1., 1., 1., 2., 1., 2., 2., 1., 2., 2., 1., 2.,\n",
              "       2., 1., 1., 1., 2., 2., 1., 2., 2., 2., 2., 2., 2., 1., 2., 1., 2.,\n",
              "       1., 2., 1., 1., 2., 1., 1., 1., 2., 1., 1., 1., 2., 1., 1., 2., 1.,\n",
              "       2., 2., 1., 2., 1., 2., 2., 2., 1., 2., 1., 2., 2., 1., 2., 2., 1.,\n",
              "       1., 2., 1., 2., 1., 1., 2., 1., 2., 2., 1., 1., 2., 2., 2., 2., 2.,\n",
              "       1., 1., 2., 1., 2., 1., 1., 1., 2., 1., 2., 2., 1., 2., 2., 2., 1.,\n",
              "       1., 2., 2., 1., 2., 2., 1., 2., 1., 1., 2., 1., 1., 1., 2., 2., 1.,\n",
              "       2., 1., 1., 1., 1., 1., 2., 1., 2., 1., 2., 1., 2., 1., 1., 2., 1.,\n",
              "       2., 2., 2., 2., 2., 1., 2., 2., 1., 2., 2., 2., 2., 2., 2., 2., 1.,\n",
              "       1., 1., 2., 1., 2., 2., 1., 1., 2., 2., 2., 1., 1., 1., 1., 2., 1.,\n",
              "       1., 1., 2., 2., 2., 2., 2., 1., 1., 2., 2., 2., 1., 2., 2., 1., 1.,\n",
              "       1., 2., 2., 1., 2., 1., 2., 2., 2., 2., 2., 2., 2., 2., 2., 1., 2.,\n",
              "       2., 2., 1., 2., 2., 2., 2., 1., 1., 1., 1., 1., 1., 2., 1., 2., 2.,\n",
              "       1., 2., 1., 1., 1., 1., 1., 1., 1., 2., 1., 1., 2., 1., 1., 1., 2.,\n",
              "       1., 2., 2., 2., 1., 1., 1., 1., 1., 2., 2., 2., 1., 2., 2., 1., 1.,\n",
              "       1., 1., 2., 1., 1., 2., 1., 2., 2., 1., 1., 2., 1., 1., 2., 2., 1.,\n",
              "       1., 2., 1., 2., 1., 2., 1., 1., 1., 2., 2., 2., 2., 1., 1., 1., 2.,\n",
              "       1., 1., 1., 2., 2., 2., 1., 1., 1., 1., 1., 2., 1., 1., 1., 2., 1.,\n",
              "       1., 1., 1., 2., 1., 2., 1., 2., 1., 1., 1., 2., 1., 1., 2., 1., 2.,\n",
              "       2., 1., 2., 1., 1., 2., 1., 1., 2., 2., 1., 1., 1., 2., 2., 1.])"
            ]
          },
          "metadata": {},
          "execution_count": 83
        }
      ]
    },
    {
      "cell_type": "code",
      "source": [
        "accuracy_score(y_teste, previsoes_RF)"
      ],
      "metadata": {
        "colab": {
          "base_uri": "https://localhost:8080/"
        },
        "id": "IT2VE3aUUzPp",
        "outputId": "83d945b3-8902-4d53-f728-2a4ff856d2da"
      },
      "execution_count": 84,
      "outputs": [
        {
          "output_type": "execute_result",
          "data": {
            "text/plain": [
              "0.8713942307692307"
            ]
          },
          "metadata": {},
          "execution_count": 84
        }
      ]
    },
    {
      "cell_type": "code",
      "source": [
        "print(classification_report(y_teste, previsoes_RF))"
      ],
      "metadata": {
        "colab": {
          "base_uri": "https://localhost:8080/"
        },
        "id": "Of5Y0ouxU-Bb",
        "outputId": "47452706-ad4b-4b6f-b0d8-5a366b47db30"
      },
      "execution_count": 85,
      "outputs": [
        {
          "output_type": "stream",
          "name": "stdout",
          "text": [
            "              precision    recall  f1-score   support\n",
            "\n",
            "         1.0       0.86      0.88      0.87       402\n",
            "         2.0       0.88      0.87      0.87       430\n",
            "\n",
            "    accuracy                           0.87       832\n",
            "   macro avg       0.87      0.87      0.87       832\n",
            "weighted avg       0.87      0.87      0.87       832\n",
            "\n"
          ]
        }
      ]
    },
    {
      "cell_type": "markdown",
      "source": [
        "6.1.1 - Matriz de confusão Random Forest"
      ],
      "metadata": {
        "id": "t_8j9CQ6y-Pt"
      }
    },
    {
      "cell_type": "code",
      "source": [
        "cm = ConfusionMatrix(random_forest)\n",
        "cm.fit(X_treinamento, y_treinamento)\n",
        "cm.score(X_teste, y_teste)"
      ],
      "metadata": {
        "colab": {
          "base_uri": "https://localhost:8080/",
          "height": 371
        },
        "id": "bt8pCjitzBsd",
        "outputId": "1bff6a30-ee13-4064-ce8d-6d8182971724"
      },
      "execution_count": 86,
      "outputs": [
        {
          "output_type": "execute_result",
          "data": {
            "text/plain": [
              "0.8713942307692307"
            ]
          },
          "metadata": {},
          "execution_count": 86
        },
        {
          "output_type": "display_data",
          "data": {
            "text/plain": [
              "<Figure size 576x396 with 1 Axes>"
            ],
            "image/png": "[encoded data removed]"
          },
          "metadata": {}
        }
      ]
    },
    {
      "cell_type": "markdown",
      "source": [
        "6.2 - Árvore de decisão"
      ],
      "metadata": {
        "id": "aB9fKKkPVncJ"
      }
    },
    {
      "cell_type": "code",
      "source": [
        "arvore_decisao = tree.DecisionTreeClassifier(criterion= 'gini', min_samples_leaf= 10, min_samples_split= 5, splitter= 'random')"
      ],
      "metadata": {
        "id": "LhWyy7veVmbS"
      },
      "execution_count": 87,
      "outputs": []
    },
    {
      "cell_type": "code",
      "source": [
        "arvore_decisao.fit(X, y)\n",
        "arvore_decisao.score(X, y)"
      ],
      "metadata": {
        "colab": {
          "base_uri": "https://localhost:8080/"
        },
        "id": "Qi3ZnafuaWV7",
        "outputId": "f4cdd981-0083-4b15-bcd1-2b1155468328"
      },
      "execution_count": 88,
      "outputs": [
        {
          "output_type": "execute_result",
          "data": {
            "text/plain": [
              "0.8897509924215085"
            ]
          },
          "metadata": {},
          "execution_count": 88
        }
      ]
    },
    {
      "cell_type": "code",
      "source": [
        "previsao_Tree = arvore_decisao.predict(X_teste)\n",
        "previsao_Tree"
      ],
      "metadata": {
        "colab": {
          "base_uri": "https://localhost:8080/"
        },
        "id": "yqcC3g_6VuXp",
        "outputId": "24935236-b8ac-42b0-d5c8-3f21d0798c0c"
      },
      "execution_count": 89,
      "outputs": [
        {
          "output_type": "execute_result",
          "data": {
            "text/plain": [
              "array([2., 1., 1., 2., 2., 1., 1., 2., 1., 2., 2., 1., 1., 1., 1., 2., 1.,\n",
              "       1., 1., 2., 1., 1., 1., 2., 2., 2., 2., 1., 1., 2., 1., 1., 2., 2.,\n",
              "       2., 2., 1., 2., 2., 1., 2., 1., 1., 1., 2., 1., 1., 2., 1., 1., 2.,\n",
              "       1., 2., 1., 1., 1., 1., 2., 1., 1., 1., 2., 1., 2., 1., 1., 2., 2.,\n",
              "       2., 1., 2., 2., 2., 2., 2., 1., 1., 2., 1., 2., 1., 1., 2., 2., 1.,\n",
              "       1., 2., 1., 2., 1., 2., 2., 1., 2., 1., 2., 2., 1., 2., 2., 2., 2.,\n",
              "       2., 1., 2., 2., 2., 1., 1., 2., 2., 1., 2., 1., 1., 2., 1., 2., 2.,\n",
              "       2., 2., 1., 1., 2., 1., 1., 1., 2., 2., 1., 1., 2., 2., 2., 2., 2.,\n",
              "       2., 2., 2., 1., 1., 2., 2., 2., 1., 2., 1., 2., 1., 2., 1., 1., 2.,\n",
              "       2., 1., 2., 2., 1., 1., 1., 1., 1., 1., 1., 1., 2., 1., 1., 2., 1.,\n",
              "       2., 2., 2., 2., 2., 2., 2., 2., 1., 2., 1., 2., 1., 2., 1., 1., 2.,\n",
              "       1., 2., 1., 1., 2., 1., 2., 1., 2., 1., 1., 2., 2., 2., 2., 2., 2.,\n",
              "       2., 2., 2., 2., 1., 1., 2., 1., 2., 1., 1., 2., 2., 1., 1., 2., 1.,\n",
              "       1., 2., 2., 1., 1., 2., 2., 1., 1., 2., 1., 2., 2., 2., 1., 1., 2.,\n",
              "       2., 1., 1., 1., 1., 1., 2., 2., 2., 2., 2., 2., 1., 1., 2., 2., 2.,\n",
              "       1., 2., 2., 2., 1., 1., 1., 1., 2., 1., 2., 2., 2., 2., 1., 1., 1.,\n",
              "       2., 1., 2., 1., 1., 2., 1., 1., 2., 1., 2., 2., 1., 2., 1., 1., 1.,\n",
              "       1., 1., 1., 2., 1., 1., 2., 1., 2., 1., 1., 2., 1., 2., 1., 1., 2.,\n",
              "       2., 2., 1., 1., 1., 2., 1., 1., 2., 2., 1., 2., 2., 2., 2., 2., 1.,\n",
              "       1., 2., 1., 2., 1., 1., 1., 2., 2., 2., 1., 2., 1., 2., 1., 2., 1.,\n",
              "       2., 2., 1., 1., 1., 2., 2., 2., 2., 2., 2., 1., 1., 1., 2., 1., 2.,\n",
              "       1., 1., 1., 2., 2., 1., 1., 1., 1., 2., 1., 1., 2., 1., 1., 1., 2.,\n",
              "       1., 2., 1., 2., 2., 2., 2., 1., 2., 1., 1., 1., 1., 1., 1., 1., 2.,\n",
              "       2., 2., 2., 2., 2., 1., 2., 2., 1., 2., 2., 1., 2., 1., 2., 1., 2.,\n",
              "       2., 1., 1., 1., 2., 1., 2., 1., 2., 2., 1., 2., 2., 1., 1., 1., 2.,\n",
              "       1., 1., 2., 1., 1., 1., 1., 2., 2., 1., 2., 1., 1., 1., 2., 2., 1.,\n",
              "       2., 1., 2., 1., 1., 2., 1., 1., 1., 1., 2., 2., 2., 2., 2., 1., 1.,\n",
              "       2., 2., 2., 2., 1., 2., 1., 2., 2., 1., 1., 2., 2., 2., 2., 2., 2.,\n",
              "       1., 2., 2., 1., 2., 2., 1., 2., 1., 2., 2., 2., 2., 1., 2., 2., 2.,\n",
              "       2., 1., 1., 2., 2., 1., 1., 1., 2., 1., 2., 2., 1., 2., 2., 1., 2.,\n",
              "       2., 1., 1., 1., 2., 2., 1., 2., 2., 2., 2., 2., 2., 2., 2., 1., 2.,\n",
              "       1., 2., 1., 1., 2., 1., 1., 2., 2., 1., 1., 1., 2., 1., 1., 2., 1.,\n",
              "       2., 2., 1., 2., 1., 2., 2., 2., 1., 2., 1., 2., 2., 1., 2., 2., 1.,\n",
              "       1., 2., 1., 2., 1., 1., 2., 1., 2., 2., 1., 1., 2., 1., 1., 2., 2.,\n",
              "       1., 1., 2., 1., 2., 1., 1., 1., 2., 1., 2., 2., 1., 2., 2., 2., 1.,\n",
              "       1., 2., 2., 1., 2., 2., 1., 2., 1., 1., 1., 1., 1., 1., 2., 2., 1.,\n",
              "       2., 1., 1., 2., 1., 1., 2., 1., 2., 1., 2., 1., 2., 1., 1., 2., 1.,\n",
              "       2., 2., 2., 2., 2., 2., 2., 2., 1., 2., 2., 2., 2., 2., 2., 2., 1.,\n",
              "       1., 1., 2., 2., 2., 2., 1., 1., 2., 2., 2., 1., 1., 1., 1., 2., 1.,\n",
              "       1., 1., 2., 2., 2., 2., 1., 1., 1., 2., 2., 2., 1., 2., 2., 1., 1.,\n",
              "       1., 2., 2., 1., 2., 1., 2., 2., 2., 2., 2., 2., 2., 2., 2., 1., 2.,\n",
              "       2., 2., 1., 2., 2., 2., 2., 1., 1., 1., 1., 1., 1., 2., 1., 2., 2.,\n",
              "       1., 1., 1., 1., 1., 1., 1., 1., 1., 2., 1., 1., 2., 1., 1., 1., 2.,\n",
              "       1., 2., 2., 2., 1., 1., 2., 1., 1., 2., 2., 2., 2., 2., 2., 1., 1.,\n",
              "       1., 1., 1., 1., 1., 2., 1., 2., 2., 2., 1., 2., 1., 1., 2., 2., 1.,\n",
              "       1., 2., 1., 2., 1., 2., 1., 1., 1., 2., 2., 2., 2., 1., 2., 1., 2.,\n",
              "       1., 1., 1., 2., 2., 2., 1., 1., 1., 1., 1., 2., 1., 1., 1., 2., 1.,\n",
              "       1., 1., 1., 2., 1., 2., 1., 2., 1., 1., 1., 2., 1., 1., 2., 1., 2.,\n",
              "       2., 1., 2., 1., 1., 2., 1., 1., 1., 2., 1., 1., 1., 2., 2., 1.])"
            ]
          },
          "metadata": {},
          "execution_count": 89
        }
      ]
    },
    {
      "cell_type": "code",
      "source": [
        "accuracy_score(y_teste, previsao_Tree)"
      ],
      "metadata": {
        "colab": {
          "base_uri": "https://localhost:8080/"
        },
        "id": "69z8nVETV0o5",
        "outputId": "33657d59-4e75-4ef8-cc71-3694165cdfc1"
      },
      "execution_count": 90,
      "outputs": [
        {
          "output_type": "execute_result",
          "data": {
            "text/plain": [
              "0.8978365384615384"
            ]
          },
          "metadata": {},
          "execution_count": 90
        }
      ]
    },
    {
      "cell_type": "code",
      "source": [
        "print(classification_report(y_teste, previsao_Tree))"
      ],
      "metadata": {
        "colab": {
          "base_uri": "https://localhost:8080/"
        },
        "id": "sQGBiQxEWdMs",
        "outputId": "9a8f5f29-f7fe-46a5-fc0a-f87d9d00357e"
      },
      "execution_count": 91,
      "outputs": [
        {
          "output_type": "stream",
          "name": "stdout",
          "text": [
            "              precision    recall  f1-score   support\n",
            "\n",
            "         1.0       0.89      0.90      0.90       402\n",
            "         2.0       0.91      0.89      0.90       430\n",
            "\n",
            "    accuracy                           0.90       832\n",
            "   macro avg       0.90      0.90      0.90       832\n",
            "weighted avg       0.90      0.90      0.90       832\n",
            "\n"
          ]
        }
      ]
    },
    {
      "cell_type": "markdown",
      "source": [
        "6.2.1 - Matriz de confusão Árvore de decisão"
      ],
      "metadata": {
        "id": "SmcYk-j5zxjl"
      }
    },
    {
      "cell_type": "code",
      "source": [
        "cm = ConfusionMatrix(arvore_decisao)\n",
        "cm.fit(X_treinamento, y_treinamento)\n",
        "cm.score(X_teste, y_teste)"
      ],
      "metadata": {
        "colab": {
          "base_uri": "https://localhost:8080/",
          "height": 371
        },
        "id": "_gAUYRdsz3H0",
        "outputId": "f4452e9d-3ba6-4e3c-858a-368d26c416ec"
      },
      "execution_count": 92,
      "outputs": [
        {
          "output_type": "execute_result",
          "data": {
            "text/plain": [
              "0.8978365384615384"
            ]
          },
          "metadata": {},
          "execution_count": 92
        },
        {
          "output_type": "display_data",
          "data": {
            "text/plain": [
              "<Figure size 576x396 with 1 Axes>"
            ],
            "image/png": "[encoded data removed]"
          },
          "metadata": {}
        }
      ]
    },
    {
      "cell_type": "markdown",
      "source": [
        "6.3 - Redes Neurais"
      ],
      "metadata": {
        "id": "5aeY6cFNWjfh"
      }
    },
    {
      "cell_type": "code",
      "source": [
        "rede_neural = MLPClassifier(activation= 'logistic', batch_size= 50, solver= 'adam')\n",
        "rede_neural.fit(X_treinamento, y_treinamento)"
      ],
      "metadata": {
        "colab": {
          "base_uri": "https://localhost:8080/"
        },
        "id": "zqUx_MRBWiZq",
        "outputId": "48d5584a-a440-4dc1-8f46-84cdfca862ed"
      },
      "execution_count": 93,
      "outputs": [
        {
          "output_type": "stream",
          "name": "stderr",
          "text": [
            "/usr/local/lib/python3.8/dist-packages/sklearn/neural_network/_multilayer_perceptron.py:692: ConvergenceWarning:\n",
            "\n",
            "Stochastic Optimizer: Maximum iterations (200) reached and the optimization hasn't converged yet.\n",
            "\n"
          ]
        },
        {
          "output_type": "execute_result",
          "data": {
            "text/plain": [
              "MLPClassifier(activation='logistic', batch_size=50)"
            ]
          },
          "metadata": {},
          "execution_count": 93
        }
      ]
    },
    {
      "cell_type": "code",
      "source": [
        "previsoes_RN = rede_neural.predict(X_teste)\n",
        "previsoes_RN"
      ],
      "metadata": {
        "colab": {
          "base_uri": "https://localhost:8080/"
        },
        "id": "zfuhWeBsWuyp",
        "outputId": "cfec0e34-e7c9-4681-b342-6152f37212c7"
      },
      "execution_count": 94,
      "outputs": [
        {
          "output_type": "execute_result",
          "data": {
            "text/plain": [
              "array([2., 1., 1., 2., 2., 1., 1., 2., 1., 2., 2., 1., 1., 1., 1., 2., 1.,\n",
              "       1., 1., 2., 1., 2., 1., 2., 2., 2., 2., 1., 1., 2., 1., 1., 2., 2.,\n",
              "       2., 2., 1., 2., 2., 1., 2., 1., 1., 1., 2., 1., 1., 2., 1., 2., 2.,\n",
              "       1., 2., 2., 1., 1., 1., 2., 1., 1., 1., 2., 1., 2., 1., 1., 2., 2.,\n",
              "       2., 2., 2., 2., 2., 2., 2., 1., 1., 2., 1., 2., 1., 1., 2., 2., 1.,\n",
              "       1., 2., 1., 2., 1., 2., 2., 1., 2., 1., 2., 2., 1., 2., 1., 2., 2.,\n",
              "       2., 1., 2., 2., 2., 1., 1., 2., 2., 1., 2., 1., 1., 2., 1., 2., 2.,\n",
              "       2., 2., 1., 1., 2., 1., 2., 1., 2., 2., 1., 1., 2., 2., 2., 2., 2.,\n",
              "       2., 2., 2., 1., 2., 2., 2., 2., 1., 2., 1., 2., 1., 2., 1., 2., 2.,\n",
              "       2., 1., 2., 2., 1., 1., 1., 1., 2., 1., 1., 1., 2., 1., 1., 2., 1.,\n",
              "       2., 2., 2., 2., 2., 2., 2., 2., 1., 2., 1., 2., 1., 2., 1., 1., 2.,\n",
              "       1., 2., 1., 1., 2., 1., 2., 1., 2., 1., 2., 2., 2., 2., 2., 2., 2.,\n",
              "       2., 2., 2., 2., 1., 2., 2., 1., 2., 1., 1., 2., 2., 1., 1., 2., 1.,\n",
              "       1., 2., 2., 1., 1., 2., 2., 1., 1., 2., 1., 2., 2., 2., 2., 1., 1.,\n",
              "       2., 1., 1., 1., 1., 1., 2., 2., 2., 2., 2., 2., 2., 1., 2., 2., 2.,\n",
              "       1., 2., 2., 2., 1., 1., 1., 1., 2., 2., 2., 2., 2., 2., 1., 1., 1.,\n",
              "       2., 1., 1., 1., 1., 2., 1., 1., 2., 1., 2., 2., 1., 2., 1., 1., 1.,\n",
              "       1., 1., 1., 2., 1., 1., 2., 1., 2., 2., 1., 2., 1., 2., 1., 1., 1.,\n",
              "       2., 2., 1., 1., 1., 2., 1., 1., 2., 2., 2., 2., 2., 2., 2., 2., 1.,\n",
              "       1., 2., 1., 2., 1., 2., 1., 2., 2., 2., 1., 2., 1., 2., 1., 2., 1.,\n",
              "       2., 2., 1., 1., 1., 2., 2., 2., 2., 2., 2., 1., 2., 1., 2., 1., 2.,\n",
              "       1., 1., 1., 2., 2., 1., 1., 1., 2., 2., 2., 1., 2., 1., 1., 1., 2.,\n",
              "       2., 2., 2., 2., 2., 2., 1., 1., 2., 1., 1., 1., 1., 1., 1., 1., 2.,\n",
              "       2., 2., 2., 2., 2., 1., 2., 2., 1., 2., 2., 1., 2., 1., 2., 1., 2.,\n",
              "       2., 1., 1., 1., 2., 1., 2., 1., 2., 2., 1., 2., 2., 1., 1., 1., 2.,\n",
              "       1., 1., 2., 1., 1., 1., 1., 2., 2., 1., 2., 1., 1., 2., 2., 2., 1.,\n",
              "       2., 1., 2., 1., 1., 2., 1., 1., 1., 1., 2., 2., 1., 2., 2., 1., 1.,\n",
              "       2., 2., 2., 2., 1., 2., 1., 2., 2., 1., 1., 2., 2., 2., 1., 2., 2.,\n",
              "       1., 2., 2., 1., 2., 2., 1., 2., 1., 2., 2., 1., 2., 1., 2., 2., 2.,\n",
              "       2., 1., 1., 2., 2., 1., 1., 1., 2., 1., 2., 2., 1., 2., 2., 1., 2.,\n",
              "       2., 1., 1., 1., 2., 2., 1., 2., 2., 2., 2., 2., 2., 2., 2., 1., 2.,\n",
              "       1., 2., 1., 1., 2., 1., 1., 1., 2., 1., 1., 1., 2., 1., 1., 2., 1.,\n",
              "       2., 2., 1., 2., 1., 2., 2., 2., 1., 2., 1., 2., 2., 1., 2., 2., 1.,\n",
              "       2., 2., 1., 2., 1., 1., 2., 1., 2., 2., 1., 1., 2., 2., 2., 2., 2.,\n",
              "       1., 1., 2., 1., 2., 1., 1., 1., 2., 1., 2., 2., 1., 2., 2., 2., 1.,\n",
              "       1., 2., 2., 1., 2., 2., 1., 2., 1., 1., 2., 1., 1., 2., 2., 2., 1.,\n",
              "       2., 1., 1., 2., 1., 1., 2., 1., 2., 1., 2., 1., 2., 1., 1., 2., 1.,\n",
              "       2., 2., 2., 2., 2., 2., 2., 2., 1., 2., 2., 2., 2., 2., 2., 2., 1.,\n",
              "       1., 1., 2., 1., 2., 2., 1., 1., 2., 2., 2., 1., 1., 1., 1., 2., 2.,\n",
              "       1., 1., 2., 2., 2., 2., 1., 1., 1., 2., 2., 2., 1., 2., 2., 1., 1.,\n",
              "       1., 2., 2., 1., 2., 1., 2., 2., 2., 2., 2., 2., 2., 2., 2., 1., 2.,\n",
              "       2., 2., 1., 2., 2., 2., 2., 1., 1., 2., 1., 1., 1., 2., 1., 2., 2.,\n",
              "       1., 2., 1., 1., 1., 1., 1., 1., 1., 2., 1., 1., 2., 1., 1., 1., 2.,\n",
              "       1., 2., 2., 2., 1., 1., 1., 1., 1., 2., 2., 2., 1., 2., 2., 1., 1.,\n",
              "       1., 1., 2., 1., 1., 2., 1., 2., 2., 2., 1., 2., 1., 1., 2., 2., 1.,\n",
              "       1., 2., 1., 2., 1., 2., 1., 1., 1., 2., 2., 2., 2., 1., 2., 1., 2.,\n",
              "       1., 1., 1., 2., 2., 2., 1., 1., 1., 1., 1., 2., 1., 1., 1., 2., 1.,\n",
              "       1., 1., 1., 2., 1., 2., 1., 2., 1., 1., 1., 2., 1., 1., 2., 1., 2.,\n",
              "       2., 1., 2., 1., 1., 2., 1., 1., 1., 2., 1., 1., 1., 2., 2., 1.])"
            ]
          },
          "metadata": {},
          "execution_count": 94
        }
      ]
    },
    {
      "cell_type": "code",
      "source": [
        "accuracy_score(y_teste, previsoes_RN)"
      ],
      "metadata": {
        "colab": {
          "base_uri": "https://localhost:8080/"
        },
        "id": "V6Bmcp-YW2qJ",
        "outputId": "08022064-0133-489e-9a43-11d07ebd6e11"
      },
      "execution_count": 95,
      "outputs": [
        {
          "output_type": "execute_result",
          "data": {
            "text/plain": [
              "0.8822115384615384"
            ]
          },
          "metadata": {},
          "execution_count": 95
        }
      ]
    },
    {
      "cell_type": "code",
      "source": [
        "print(classification_report(y_teste, previsoes_RN))"
      ],
      "metadata": {
        "colab": {
          "base_uri": "https://localhost:8080/"
        },
        "id": "3jkA4EIhW54D",
        "outputId": "280e4409-26e6-47fe-9abb-bedda08e835e"
      },
      "execution_count": 96,
      "outputs": [
        {
          "output_type": "stream",
          "name": "stdout",
          "text": [
            "              precision    recall  f1-score   support\n",
            "\n",
            "         1.0       0.89      0.86      0.88       402\n",
            "         2.0       0.88      0.90      0.89       430\n",
            "\n",
            "    accuracy                           0.88       832\n",
            "   macro avg       0.88      0.88      0.88       832\n",
            "weighted avg       0.88      0.88      0.88       832\n",
            "\n"
          ]
        }
      ]
    },
    {
      "cell_type": "markdown",
      "source": [
        "6.3.1 - Matriz de confusão Redes Neurais "
      ],
      "metadata": {
        "id": "acvTD1BV0VR1"
      }
    },
    {
      "cell_type": "code",
      "source": [
        "cm = ConfusionMatrix(rede_neural)\n",
        "cm.fit(X_treinamento, y_treinamento)\n",
        "cm.score(X_teste, y_teste)"
      ],
      "metadata": {
        "colab": {
          "base_uri": "https://localhost:8080/",
          "height": 371
        },
        "id": "FWGBgGS40Uxc",
        "outputId": "5eadf630-ccd2-476e-9e59-09db6ff84adf"
      },
      "execution_count": 97,
      "outputs": [
        {
          "output_type": "execute_result",
          "data": {
            "text/plain": [
              "0.8822115384615384"
            ]
          },
          "metadata": {},
          "execution_count": 97
        },
        {
          "output_type": "display_data",
          "data": {
            "text/plain": [
              "<Figure size 576x396 with 1 Axes>"
            ],
            "image/png": "[encoded data removed]"
          },
          "metadata": {}
        }
      ]
    },
    {
      "cell_type": "markdown",
      "source": [
        "----------------------------------------------------------------\n"
      ],
      "metadata": {
        "id": "eYcJuLCiQeQX"
      }
    },
    {
      "cell_type": "markdown",
      "source": [
        "7.0 - VALIDAÇÃO CRUZADA ( CROSS VALIDATION)"
      ],
      "metadata": {
        "id": "5PERb6KbRCM7"
      }
    },
    {
      "cell_type": "markdown",
      "source": [
        "7.1 - Validação cruzada para Randon Forest"
      ],
      "metadata": {
        "id": "jFt_p-zGy3VS"
      }
    },
    {
      "cell_type": "code",
      "source": [
        "resultadosVC_RF =[]\n",
        "\n",
        "for i in range(30):\n",
        "  kfold = KFold(n_splits=10 , shuffle=True, random_state=i)\n",
        "  RF = RandomForestClassifier(criterion='entropy', min_samples_leaf= 10, min_samples_split= 2, n_estimators= 150)\n",
        "  scores = cross_val_score(RF,X_df, Y_df, cv= kfold )\n",
        "  resultadosVC_RF.append(scores.mean())\n",
        "resultadosVC_RF"
      ],
      "metadata": {
        "colab": {
          "base_uri": "https://localhost:8080/"
        },
        "id": "gv6mveV-zFFn",
        "outputId": "60d9e110-96e4-459d-c361-f023277c8c07"
      },
      "execution_count": 100,
      "outputs": [
        {
          "output_type": "execute_result",
          "data": {
            "text/plain": [
              "[0.8720723973070543,\n",
              " 0.8744176667642372,\n",
              " 0.8745923179497186,\n",
              " 0.8708065827560413,\n",
              " 0.8729729729729729,\n",
              " 0.8709864377012391,\n",
              " 0.8727973460825446,\n",
              " 0.8744111620645917,\n",
              " 0.8742342342342342,\n",
              " 0.8754928936156373,\n",
              " 0.8754977721403714,\n",
              " 0.8735092854587438,\n",
              " 0.8736875142290306,\n",
              " 0.874590366539825,\n",
              " 0.8744157153543435,\n",
              " 0.8751387127199403,\n",
              " 0.8738699710540866,\n",
              " 0.8729739486779199,\n",
              " 0.8744127882395031,\n",
              " 0.8751325332552768,\n",
              " 0.8735079845188147,\n",
              " 0.8729772010277426,\n",
              " 0.8736956451035873,\n",
              " 0.8760389631508765,\n",
              " 0.8733287800435814,\n",
              " 0.8758591082056786,\n",
              " 0.8722480241974827,\n",
              " 0.8722460727875891,\n",
              " 0.8727905161479168,\n",
              " 0.8740491755293199]"
            ]
          },
          "metadata": {},
          "execution_count": 100
        }
      ]
    },
    {
      "cell_type": "markdown",
      "source": [
        "7.2 - Validação cruzada para árvore de decisão"
      ],
      "metadata": {
        "id": "HgZvtqQay8kL"
      }
    },
    {
      "cell_type": "code",
      "source": [
        "resultadosVC_arvore =[]\n",
        "\n",
        "for i in range(30):\n",
        "  kfold = KFold(n_splits=10 , shuffle=True, random_state=i)\n",
        "  DT = DecisionTreeClassifier(criterion= 'gini', min_samples_leaf= 10, min_samples_split= 5, splitter= 'random')\n",
        "  scores = cross_val_score(DT,X_df, Y_df, cv= kfold )\n",
        "  resultadosVC_arvore.append(scores.mean())\n",
        "resultadosVC_arvore"
      ],
      "metadata": {
        "colab": {
          "base_uri": "https://localhost:8080/"
        },
        "id": "S0bnvRpXzGzN",
        "outputId": "61e0b0b1-694f-45eb-d1fe-8e669ed708b2"
      },
      "execution_count": 99,
      "outputs": [
        {
          "output_type": "execute_result",
          "data": {
            "text/plain": [
              "[0.8661160438416756,\n",
              " 0.8605223273815332,\n",
              " 0.864131134744853,\n",
              " 0.8653953231209549,\n",
              " 0.8597980290760073,\n",
              " 0.8574517839138778,\n",
              " 0.8625130907080365,\n",
              " 0.8655706247764009,\n",
              " 0.8601587146713501,\n",
              " 0.8614206264025759,\n",
              " 0.8661131167268351,\n",
              " 0.864128532864995,\n",
              " 0.8608781344521418,\n",
              " 0.8599749569063648,\n",
              " 0.8625043093635151,\n",
              " 0.8621465508830128,\n",
              " 0.8625059355384266,\n",
              " 0.8652105896510228,\n",
              " 0.8664708752073373,\n",
              " 0.8668370897973785,\n",
              " 0.8670094643379842,\n",
              " 0.8634130159039906,\n",
              " 0.8612463004520766,\n",
              " 0.8641272319250659,\n",
              " 0.8621406966533319,\n",
              " 0.8625062607734089,\n",
              " 0.8659306599017789,\n",
              " 0.8623202263635477,\n",
              " 0.8623257553582464,\n",
              " 0.864123979575243]"
            ]
          },
          "metadata": {},
          "execution_count": 99
        }
      ]
    },
    {
      "cell_type": "markdown",
      "source": [
        "7.3 - Validação cruzada para Redes Neurais "
      ],
      "metadata": {
        "id": "jiU8rUqdzBRd"
      }
    },
    {
      "cell_type": "code",
      "source": [
        "resultadosVC_RN =[]\n",
        "\n",
        "for i in range(30):\n",
        "  kfold = KFold(n_splits=10 , shuffle=True, random_state=i)\n",
        "  RN = MLPClassifier(activation= 'logistic', batch_size= 50, solver= 'adam')\n",
        "  scores = cross_val_score(RN,X_df, Y_df, cv= kfold )\n",
        "  resultadosVC_RN.append(scores.mean())\n",
        "resultadosVC_RN"
      ],
      "metadata": {
        "id": "tTF6wx8E15_g"
      },
      "execution_count": null,
      "outputs": []
    },
    {
      "cell_type": "code",
      "source": [
        "resultadosVC_RN"
      ],
      "metadata": {
        "colab": {
          "base_uri": "https://localhost:8080/"
        },
        "id": "mrpAn7DzEH9_",
        "outputId": "8bab7e61-5cd4-4faf-92a2-152abe20f86a"
      },
      "execution_count": 102,
      "outputs": [
        {
          "output_type": "execute_result",
          "data": {
            "text/plain": [
              "[0.8848821023189254,\n",
              " 0.8827176635118874,\n",
              " 0.8854216671545192,\n",
              " 0.8814524994308387,\n",
              " 0.8834351318827853,\n",
              " 0.8819901128565389,\n",
              " 0.8816356067258594,\n",
              " 0.8819894623865743,\n",
              " 0.8841591049533287,\n",
              " 0.8846954174390997,\n",
              " 0.8846970436140111,\n",
              " 0.8834331804728917,\n",
              " 0.8839730705434675,\n",
              " 0.885236608449605,\n",
              " 0.8839776238332195,\n",
              " 0.882897193222103,\n",
              " 0.882351448921846,\n",
              " 0.885422642859466,\n",
              " 0.8821699678017367,\n",
              " 0.883072494877549,\n",
              " 0.8825290272221681,\n",
              " 0.8827209158617102,\n",
              " 0.8798312030441995,\n",
              " 0.883978274303184,\n",
              " 0.8837938660682344,\n",
              " 0.8827179887468695,\n",
              " 0.880724623540508,\n",
              " 0.88090935701044,\n",
              " 0.8827176635118874,\n",
              " 0.8837928903632875]"
            ]
          },
          "metadata": {},
          "execution_count": 102
        }
      ]
    },
    {
      "cell_type": "markdown",
      "source": [
        "----------------------------------------------------------------"
      ],
      "metadata": {
        "id": "PwNX46f-EZM-"
      }
    },
    {
      "cell_type": "markdown",
      "source": [
        "8.0 - ANÁLISE DOS RESULTADOS "
      ],
      "metadata": {
        "id": "knp_iwvGEcV_"
      }
    },
    {
      "cell_type": "markdown",
      "source": [
        "8.1 - Salvando em fomarto csv os dados adquiridos através da análise de cross validation"
      ],
      "metadata": {
        "id": "4NuSLM-BQvFX"
      }
    },
    {
      "cell_type": "code",
      "source": [
        "resultados = pd.DataFrame({'Random_Forest':resultadosVC_RF, 'Arvore':resultadosVC_arvore, 'Rede_Neural':resultadosVC_RN})\n",
        "resultados.to_csv('/content/resultados_cross_validation.csv')\n",
        "resultados.head(10)"
      ],
      "metadata": {
        "colab": {
          "base_uri": "https://localhost:8080/",
          "height": 363
        },
        "id": "nR4-dge5Eflt",
        "outputId": "08a1f79d-7a1c-4fe5-b9fb-4795f0b360c2"
      },
      "execution_count": 104,
      "outputs": [
        {
          "output_type": "execute_result",
          "data": {
            "text/plain": [
              "   Random_Forest    Arvore  Rede_Neural\n",
              "0       0.872072  0.866116     0.884882\n",
              "1       0.874418  0.860522     0.882718\n",
              "2       0.874592  0.864131     0.885422\n",
              "3       0.870807  0.865395     0.881452\n",
              "4       0.872973  0.859798     0.883435\n",
              "5       0.870986  0.857452     0.881990\n",
              "6       0.872797  0.862513     0.881636\n",
              "7       0.874411  0.865571     0.881989\n",
              "8       0.874234  0.860159     0.884159\n",
              "9       0.875493  0.861421     0.884695"
            ],
            "text/html": [
              "\n",
              "  <div id=\"df-c434c837-e1b0-48fd-8c5d-2414e3c1b14d\">\n",
              "    <div class=\"colab-df-container\">\n",
              "      <div>\n",
              "<style scoped>\n",
              "    .dataframe tbody tr th:only-of-type {\n",
              "        vertical-align: middle;\n",
              "    }\n",
              "\n",
              "    .dataframe tbody tr th {\n",
              "        vertical-align: top;\n",
              "    }\n",
              "\n",
              "    .dataframe thead th {\n",
              "        text-align: right;\n",
              "    }\n",
              "</style>\n",
              "<table border=\"1\" class=\"dataframe\">\n",
              "  <thead>\n",
              "    <tr style=\"text-align: right;\">\n",
              "      <th></th>\n",
              "      <th>Random_Forest</th>\n",
              "      <th>Arvore</th>\n",
              "      <th>Rede_Neural</th>\n",
              "    </tr>\n",
              "  </thead>\n",
              "  <tbody>\n",
              "    <tr>\n",
              "      <th>0</th>\n",
              "      <td>0.872072</td>\n",
              "      <td>0.866116</td>\n",
              "      <td>0.884882</td>\n",
              "    </tr>\n",
              "    <tr>\n",
              "      <th>1</th>\n",
              "      <td>0.874418</td>\n",
              "      <td>0.860522</td>\n",
              "      <td>0.882718</td>\n",
              "    </tr>\n",
              "    <tr>\n",
              "      <th>2</th>\n",
              "      <td>0.874592</td>\n",
              "      <td>0.864131</td>\n",
              "      <td>0.885422</td>\n",
              "    </tr>\n",
              "    <tr>\n",
              "      <th>3</th>\n",
              "      <td>0.870807</td>\n",
              "      <td>0.865395</td>\n",
              "      <td>0.881452</td>\n",
              "    </tr>\n",
              "    <tr>\n",
              "      <th>4</th>\n",
              "      <td>0.872973</td>\n",
              "      <td>0.859798</td>\n",
              "      <td>0.883435</td>\n",
              "    </tr>\n",
              "    <tr>\n",
              "      <th>5</th>\n",
              "      <td>0.870986</td>\n",
              "      <td>0.857452</td>\n",
              "      <td>0.881990</td>\n",
              "    </tr>\n",
              "    <tr>\n",
              "      <th>6</th>\n",
              "      <td>0.872797</td>\n",
              "      <td>0.862513</td>\n",
              "      <td>0.881636</td>\n",
              "    </tr>\n",
              "    <tr>\n",
              "      <th>7</th>\n",
              "      <td>0.874411</td>\n",
              "      <td>0.865571</td>\n",
              "      <td>0.881989</td>\n",
              "    </tr>\n",
              "    <tr>\n",
              "      <th>8</th>\n",
              "      <td>0.874234</td>\n",
              "      <td>0.860159</td>\n",
              "      <td>0.884159</td>\n",
              "    </tr>\n",
              "    <tr>\n",
              "      <th>9</th>\n",
              "      <td>0.875493</td>\n",
              "      <td>0.861421</td>\n",
              "      <td>0.884695</td>\n",
              "    </tr>\n",
              "  </tbody>\n",
              "</table>\n",
              "</div>\n",
              "      <button class=\"colab-df-convert\" onclick=\"convertToInteractive('df-c434c837-e1b0-48fd-8c5d-2414e3c1b14d')\"\n",
              "              title=\"Convert this dataframe to an interactive table.\"\n",
              "              style=\"display:none;\">\n",
              "        \n",
              "  <svg xmlns=\"http://www.w3.org/2000/svg\" height=\"24px\"viewBox=\"0 0 24 24\"\n",
              "       width=\"24px\">\n",
              "    <path d=\"M0 0h24v24H0V0z\" fill=\"none\"/>\n",
              "    <path d=\"M18.56 5.44l.94 2.06.94-2.06 2.06-.94-2.06-.94-.94-2.06-.94 2.06-2.06.94zm-11 1L8.5 8.5l.94-2.06 2.06-.94-2.06-.94L8.5 2.5l-.94 2.06-2.06.94zm10 10l.94 2.06.94-2.06 2.06-.94-2.06-.94-.94-2.06-.94 2.06-2.06.94z\"/><path d=\"M17.41 7.96l-1.37-1.37c-.4-.4-.92-.59-1.43-.59-.52 0-1.04.2-1.43.59L10.3 9.45l-7.72 7.72c-.78.78-.78 2.05 0 2.83L4 21.41c.39.39.9.59 1.41.59.51 0 1.02-.2 1.41-.59l7.78-7.78 2.81-2.81c.8-.78.8-2.07 0-2.86zM5.41 20L4 18.59l7.72-7.72 1.47 1.35L5.41 20z\"/>\n",
              "  </svg>\n",
              "      </button>\n",
              "      \n",
              "  <style>\n",
              "    .colab-df-container {\n",
              "      display:flex;\n",
              "      flex-wrap:wrap;\n",
              "      gap: 12px;\n",
              "    }\n",
              "\n",
              "    .colab-df-convert {\n",
              "      background-color: #E8F0FE;\n",
              "      border: none;\n",
              "      border-radius: 50%;\n",
              "      cursor: pointer;\n",
              "      display: none;\n",
              "      fill: #1967D2;\n",
              "      height: 32px;\n",
              "      padding: 0 0 0 0;\n",
              "      width: 32px;\n",
              "    }\n",
              "\n",
              "    .colab-df-convert:hover {\n",
              "      background-color: #E2EBFA;\n",
              "      box-shadow: 0px 1px 2px rgba(60, 64, 67, 0.3), 0px 1px 3px 1px rgba(60, 64, 67, 0.15);\n",
              "      fill: #174EA6;\n",
              "    }\n",
              "\n",
              "    [theme=dark] .colab-df-convert {\n",
              "      background-color: #3B4455;\n",
              "      fill: #D2E3FC;\n",
              "    }\n",
              "\n",
              "    [theme=dark] .colab-df-convert:hover {\n",
              "      background-color: #434B5C;\n",
              "      box-shadow: 0px 1px 3px 1px rgba(0, 0, 0, 0.15);\n",
              "      filter: drop-shadow(0px 1px 2px rgba(0, 0, 0, 0.3));\n",
              "      fill: #FFFFFF;\n",
              "    }\n",
              "  </style>\n",
              "\n",
              "      <script>\n",
              "        const buttonEl =\n",
              "          document.querySelector('#df-c434c837-e1b0-48fd-8c5d-2414e3c1b14d button.colab-df-convert');\n",
              "        buttonEl.style.display =\n",
              "          google.colab.kernel.accessAllowed ? 'block' : 'none';\n",
              "\n",
              "        async function convertToInteractive(key) {\n",
              "          const element = document.querySelector('#df-c434c837-e1b0-48fd-8c5d-2414e3c1b14d');\n",
              "          const dataTable =\n",
              "            await google.colab.kernel.invokeFunction('convertToInteractive',\n",
              "                                                     [key], {});\n",
              "          if (!dataTable) return;\n",
              "\n",
              "          const docLinkHtml = 'Like what you see? Visit the ' +\n",
              "            '<a target=\"_blank\" href=https://colab.research.google.com/notebooks/data_table.ipynb>data table notebook</a>'\n",
              "            + ' to learn more about interactive tables.';\n",
              "          element.innerHTML = '';\n",
              "          dataTable['output_type'] = 'display_data';\n",
              "          await google.colab.output.renderOutput(dataTable, element);\n",
              "          const docLink = document.createElement('div');\n",
              "          docLink.innerHTML = docLinkHtml;\n",
              "          element.appendChild(docLink);\n",
              "        }\n",
              "      </script>\n",
              "    </div>\n",
              "  </div>\n",
              "  "
            ]
          },
          "metadata": {},
          "execution_count": 104
        }
      ]
    },
    {
      "cell_type": "markdown",
      "source": [
        "8.2 - Análise das médias, desvios padrões, valores máximos e mínimos de acurácia  após utilização de cross validation\n"
      ],
      "metadata": {
        "id": "dng0sKydQ6Wu"
      }
    },
    {
      "cell_type": "code",
      "source": [
        "resultados.describe()"
      ],
      "metadata": {
        "colab": {
          "base_uri": "https://localhost:8080/",
          "height": 300
        },
        "id": "rTq5DBd-FnOh",
        "outputId": "6ec29d70-bd5e-4a2b-b016-f7c85824fc5f"
      },
      "execution_count": 105,
      "outputs": [
        {
          "output_type": "execute_result",
          "data": {
            "text/plain": [
              "       Random_Forest     Arvore  Rede_Neural\n",
              "count      30.000000  30.000000    30.000000\n",
              "mean        0.873758   0.863166     0.883111\n",
              "std         0.001322   0.002423     0.001427\n",
              "min         0.870807   0.857452     0.879831\n",
              "25%         0.872973   0.861601     0.882215\n",
              "50%         0.873783   0.862510     0.882985\n",
              "75%         0.874547   0.865349     0.883978\n",
              "max         0.876039   0.867009     0.885423"
            ],
            "text/html": [
              "\n",
              "  <div id=\"df-f3891ff2-3beb-4455-878f-cdfa811632f5\">\n",
              "    <div class=\"colab-df-container\">\n",
              "      <div>\n",
              "<style scoped>\n",
              "    .dataframe tbody tr th:only-of-type {\n",
              "        vertical-align: middle;\n",
              "    }\n",
              "\n",
              "    .dataframe tbody tr th {\n",
              "        vertical-align: top;\n",
              "    }\n",
              "\n",
              "    .dataframe thead th {\n",
              "        text-align: right;\n",
              "    }\n",
              "</style>\n",
              "<table border=\"1\" class=\"dataframe\">\n",
              "  <thead>\n",
              "    <tr style=\"text-align: right;\">\n",
              "      <th></th>\n",
              "      <th>Random_Forest</th>\n",
              "      <th>Arvore</th>\n",
              "      <th>Rede_Neural</th>\n",
              "    </tr>\n",
              "  </thead>\n",
              "  <tbody>\n",
              "    <tr>\n",
              "      <th>count</th>\n",
              "      <td>30.000000</td>\n",
              "      <td>30.000000</td>\n",
              "      <td>30.000000</td>\n",
              "    </tr>\n",
              "    <tr>\n",
              "      <th>mean</th>\n",
              "      <td>0.873758</td>\n",
              "      <td>0.863166</td>\n",
              "      <td>0.883111</td>\n",
              "    </tr>\n",
              "    <tr>\n",
              "      <th>std</th>\n",
              "      <td>0.001322</td>\n",
              "      <td>0.002423</td>\n",
              "      <td>0.001427</td>\n",
              "    </tr>\n",
              "    <tr>\n",
              "      <th>min</th>\n",
              "      <td>0.870807</td>\n",
              "      <td>0.857452</td>\n",
              "      <td>0.879831</td>\n",
              "    </tr>\n",
              "    <tr>\n",
              "      <th>25%</th>\n",
              "      <td>0.872973</td>\n",
              "      <td>0.861601</td>\n",
              "      <td>0.882215</td>\n",
              "    </tr>\n",
              "    <tr>\n",
              "      <th>50%</th>\n",
              "      <td>0.873783</td>\n",
              "      <td>0.862510</td>\n",
              "      <td>0.882985</td>\n",
              "    </tr>\n",
              "    <tr>\n",
              "      <th>75%</th>\n",
              "      <td>0.874547</td>\n",
              "      <td>0.865349</td>\n",
              "      <td>0.883978</td>\n",
              "    </tr>\n",
              "    <tr>\n",
              "      <th>max</th>\n",
              "      <td>0.876039</td>\n",
              "      <td>0.867009</td>\n",
              "      <td>0.885423</td>\n",
              "    </tr>\n",
              "  </tbody>\n",
              "</table>\n",
              "</div>\n",
              "      <button class=\"colab-df-convert\" onclick=\"convertToInteractive('df-f3891ff2-3beb-4455-878f-cdfa811632f5')\"\n",
              "              title=\"Convert this dataframe to an interactive table.\"\n",
              "              style=\"display:none;\">\n",
              "        \n",
              "  <svg xmlns=\"http://www.w3.org/2000/svg\" height=\"24px\"viewBox=\"0 0 24 24\"\n",
              "       width=\"24px\">\n",
              "    <path d=\"M0 0h24v24H0V0z\" fill=\"none\"/>\n",
              "    <path d=\"M18.56 5.44l.94 2.06.94-2.06 2.06-.94-2.06-.94-.94-2.06-.94 2.06-2.06.94zm-11 1L8.5 8.5l.94-2.06 2.06-.94-2.06-.94L8.5 2.5l-.94 2.06-2.06.94zm10 10l.94 2.06.94-2.06 2.06-.94-2.06-.94-.94-2.06-.94 2.06-2.06.94z\"/><path d=\"M17.41 7.96l-1.37-1.37c-.4-.4-.92-.59-1.43-.59-.52 0-1.04.2-1.43.59L10.3 9.45l-7.72 7.72c-.78.78-.78 2.05 0 2.83L4 21.41c.39.39.9.59 1.41.59.51 0 1.02-.2 1.41-.59l7.78-7.78 2.81-2.81c.8-.78.8-2.07 0-2.86zM5.41 20L4 18.59l7.72-7.72 1.47 1.35L5.41 20z\"/>\n",
              "  </svg>\n",
              "      </button>\n",
              "      \n",
              "  <style>\n",
              "    .colab-df-container {\n",
              "      display:flex;\n",
              "      flex-wrap:wrap;\n",
              "      gap: 12px;\n",
              "    }\n",
              "\n",
              "    .colab-df-convert {\n",
              "      background-color: #E8F0FE;\n",
              "      border: none;\n",
              "      border-radius: 50%;\n",
              "      cursor: pointer;\n",
              "      display: none;\n",
              "      fill: #1967D2;\n",
              "      height: 32px;\n",
              "      padding: 0 0 0 0;\n",
              "      width: 32px;\n",
              "    }\n",
              "\n",
              "    .colab-df-convert:hover {\n",
              "      background-color: #E2EBFA;\n",
              "      box-shadow: 0px 1px 2px rgba(60, 64, 67, 0.3), 0px 1px 3px 1px rgba(60, 64, 67, 0.15);\n",
              "      fill: #174EA6;\n",
              "    }\n",
              "\n",
              "    [theme=dark] .colab-df-convert {\n",
              "      background-color: #3B4455;\n",
              "      fill: #D2E3FC;\n",
              "    }\n",
              "\n",
              "    [theme=dark] .colab-df-convert:hover {\n",
              "      background-color: #434B5C;\n",
              "      box-shadow: 0px 1px 3px 1px rgba(0, 0, 0, 0.15);\n",
              "      filter: drop-shadow(0px 1px 2px rgba(0, 0, 0, 0.3));\n",
              "      fill: #FFFFFF;\n",
              "    }\n",
              "  </style>\n",
              "\n",
              "      <script>\n",
              "        const buttonEl =\n",
              "          document.querySelector('#df-f3891ff2-3beb-4455-878f-cdfa811632f5 button.colab-df-convert');\n",
              "        buttonEl.style.display =\n",
              "          google.colab.kernel.accessAllowed ? 'block' : 'none';\n",
              "\n",
              "        async function convertToInteractive(key) {\n",
              "          const element = document.querySelector('#df-f3891ff2-3beb-4455-878f-cdfa811632f5');\n",
              "          const dataTable =\n",
              "            await google.colab.kernel.invokeFunction('convertToInteractive',\n",
              "                                                     [key], {});\n",
              "          if (!dataTable) return;\n",
              "\n",
              "          const docLinkHtml = 'Like what you see? Visit the ' +\n",
              "            '<a target=\"_blank\" href=https://colab.research.google.com/notebooks/data_table.ipynb>data table notebook</a>'\n",
              "            + ' to learn more about interactive tables.';\n",
              "          element.innerHTML = '';\n",
              "          dataTable['output_type'] = 'display_data';\n",
              "          await google.colab.output.renderOutput(dataTable, element);\n",
              "          const docLink = document.createElement('div');\n",
              "          docLink.innerHTML = docLinkHtml;\n",
              "          element.appendChild(docLink);\n",
              "        }\n",
              "      </script>\n",
              "    </div>\n",
              "  </div>\n",
              "  "
            ]
          },
          "metadata": {},
          "execution_count": 105
        }
      ]
    },
    {
      "cell_type": "markdown",
      "source": [
        "8.3 - Coeficinete de variação (probabilidade) "
      ],
      "metadata": {
        "id": "XJfqU242RT_J"
      }
    },
    {
      "cell_type": "code",
      "source": [
        "(resultados.std()/resultados.mean())*100"
      ],
      "metadata": {
        "colab": {
          "base_uri": "https://localhost:8080/"
        },
        "id": "BEdif930GVhD",
        "outputId": "a7c6fe93-2f8e-4eb6-fd63-a4f9b526a1c5"
      },
      "execution_count": 106,
      "outputs": [
        {
          "output_type": "execute_result",
          "data": {
            "text/plain": [
              "Random_Forest    0.151330\n",
              "Arvore           0.280763\n",
              "Rede_Neural      0.161588\n",
              "dtype: float64"
            ]
          },
          "metadata": {},
          "execution_count": 106
        }
      ]
    }
  ]
}